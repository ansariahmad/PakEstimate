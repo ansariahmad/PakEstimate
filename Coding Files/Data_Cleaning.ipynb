{
 "cells": [
  {
   "cell_type": "markdown",
   "metadata": {},
   "source": [
    "# **PakEstimate 🏠**\n",
    "\n",
    "## _**Name: Ahmad Talha Ansari**_\n",
    "## _**Email: ahmadtalha963@gmail.com**_\n"
   ]
  },
  {
   "cell_type": "markdown",
   "metadata": {},
   "source": [
    "# **Data Cleaning**"
   ]
  },
  {
   "cell_type": "markdown",
   "metadata": {},
   "source": [
    "## **The First View 🫵**"
   ]
  },
  {
   "cell_type": "code",
   "execution_count": 179,
   "metadata": {},
   "outputs": [],
   "source": [
    "import numpy as np\n",
    "import pandas as pd\n",
    "\n",
    "import matplotlib.pyplot as plt\n",
    "import seaborn as sns"
   ]
  },
  {
   "cell_type": "code",
   "execution_count": 180,
   "metadata": {},
   "outputs": [
    {
     "data": {
      "text/html": [
       "<div>\n",
       "<style scoped>\n",
       "    .dataframe tbody tr th:only-of-type {\n",
       "        vertical-align: middle;\n",
       "    }\n",
       "\n",
       "    .dataframe tbody tr th {\n",
       "        vertical-align: top;\n",
       "    }\n",
       "\n",
       "    .dataframe thead th {\n",
       "        text-align: right;\n",
       "    }\n",
       "</style>\n",
       "<table border=\"1\" class=\"dataframe\">\n",
       "  <thead>\n",
       "    <tr style=\"text-align: right;\">\n",
       "      <th></th>\n",
       "      <th>index</th>\n",
       "      <th>property_name</th>\n",
       "      <th>Type</th>\n",
       "      <th>Price</th>\n",
       "      <th>Location</th>\n",
       "      <th>Bath(s)</th>\n",
       "      <th>Area</th>\n",
       "      <th>Purpose</th>\n",
       "      <th>Bedroom(s)</th>\n",
       "      <th>Added</th>\n",
       "      <th>...</th>\n",
       "      <th>Business and Communication</th>\n",
       "      <th>Community Features</th>\n",
       "      <th>Healthcare Recreational</th>\n",
       "      <th>Nearby Locations and Other Facilities</th>\n",
       "      <th>Other Facilities\\r\\n</th>\n",
       "      <th>Plot Features</th>\n",
       "      <th>level_0</th>\n",
       "      <th>Initial Amount</th>\n",
       "      <th>Monthly Installment</th>\n",
       "      <th>Remaining Installments</th>\n",
       "    </tr>\n",
       "  </thead>\n",
       "  <tbody>\n",
       "    <tr>\n",
       "      <th>35197</th>\n",
       "      <td>https://zameen.com/Property/lahore_mominpur_g...</td>\n",
       "      <td>Google Property Offer 5 Marla Half Triple Stor...</td>\n",
       "      <td>House</td>\n",
       "      <td>PKR90 Lakh</td>\n",
       "      <td>Mominpur, Lahore, Punjab</td>\n",
       "      <td>5</td>\n",
       "      <td>5 Marla</td>\n",
       "      <td>For Sale</td>\n",
       "      <td>4</td>\n",
       "      <td>3 years ago</td>\n",
       "      <td>...</td>\n",
       "      <td>['Broadband Internet Access', 'Satellite or Ca...</td>\n",
       "      <td>NaN</td>\n",
       "      <td>NaN</td>\n",
       "      <td>['Nearby Schools', 'Nearby Hospitals', 'Nearby...</td>\n",
       "      <td>NaN</td>\n",
       "      <td>NaN</td>\n",
       "      <td>NaN</td>\n",
       "      <td>NaN</td>\n",
       "      <td>NaN</td>\n",
       "      <td>NaN</td>\n",
       "    </tr>\n",
       "    <tr>\n",
       "      <th>17134</th>\n",
       "      <td>https://zameen.com/Property/dha_defence_dha_p...</td>\n",
       "      <td>1 Kanal House For Sale</td>\n",
       "      <td>House</td>\n",
       "      <td>PKR11.5 Crore</td>\n",
       "      <td>DHA Defence, Lahore, Punjab</td>\n",
       "      <td>6</td>\n",
       "      <td>1 Kanal</td>\n",
       "      <td>For Sale</td>\n",
       "      <td>6</td>\n",
       "      <td>2 months ago</td>\n",
       "      <td>...</td>\n",
       "      <td>['Broadband Internet Access', 'Satellite or Ca...</td>\n",
       "      <td>['Community Lawn or Garden', 'First Aid or Med...</td>\n",
       "      <td>['Lawn or Garden', 'Other Healthcare and Recre...</td>\n",
       "      <td>['Nearby Schools', 'Nearby Hospitals', 'Nearby...</td>\n",
       "      <td>NaN</td>\n",
       "      <td>NaN</td>\n",
       "      <td>NaN</td>\n",
       "      <td>NaN</td>\n",
       "      <td>NaN</td>\n",
       "      <td>NaN</td>\n",
       "    </tr>\n",
       "    <tr>\n",
       "      <th>16510</th>\n",
       "      <td>https://zameen.com/Property/dha_phase_6_dha_p...</td>\n",
       "      <td>1 Kanal Full Basement Brand New House for Sale...</td>\n",
       "      <td>House</td>\n",
       "      <td>PKR14 Crore</td>\n",
       "      <td>DHA Defence, Lahore, Punjab</td>\n",
       "      <td>6</td>\n",
       "      <td>1 Kanal</td>\n",
       "      <td>For Sale</td>\n",
       "      <td>6</td>\n",
       "      <td>1 week ago</td>\n",
       "      <td>...</td>\n",
       "      <td>NaN</td>\n",
       "      <td>NaN</td>\n",
       "      <td>NaN</td>\n",
       "      <td>NaN</td>\n",
       "      <td>NaN</td>\n",
       "      <td>NaN</td>\n",
       "      <td>NaN</td>\n",
       "      <td>NaN</td>\n",
       "      <td>NaN</td>\n",
       "      <td>NaN</td>\n",
       "    </tr>\n",
       "    <tr>\n",
       "      <th>33585</th>\n",
       "      <td>https://zameen.com/Property/lahore_abdali_roa...</td>\n",
       "      <td>Triple Storey House Is Available For Sale</td>\n",
       "      <td>House</td>\n",
       "      <td>PKR1.2 Crore</td>\n",
       "      <td>Abdali Road, Lahore, Punjab</td>\n",
       "      <td>-</td>\n",
       "      <td>3.5 Marla</td>\n",
       "      <td>For Sale</td>\n",
       "      <td>4</td>\n",
       "      <td>4 years ago</td>\n",
       "      <td>...</td>\n",
       "      <td>NaN</td>\n",
       "      <td>NaN</td>\n",
       "      <td>NaN</td>\n",
       "      <td>NaN</td>\n",
       "      <td>NaN</td>\n",
       "      <td>NaN</td>\n",
       "      <td>NaN</td>\n",
       "      <td>NaN</td>\n",
       "      <td>NaN</td>\n",
       "      <td>NaN</td>\n",
       "    </tr>\n",
       "  </tbody>\n",
       "</table>\n",
       "<p>4 rows × 23 columns</p>\n",
       "</div>"
      ],
      "text/plain": [
       "                                                   index   \n",
       "35197   https://zameen.com/Property/lahore_mominpur_g...  \\\n",
       "17134   https://zameen.com/Property/dha_defence_dha_p...   \n",
       "16510   https://zameen.com/Property/dha_phase_6_dha_p...   \n",
       "33585   https://zameen.com/Property/lahore_abdali_roa...   \n",
       "\n",
       "                                           property_name   Type   \n",
       "35197  Google Property Offer 5 Marla Half Triple Stor...  House  \\\n",
       "17134                             1 Kanal House For Sale  House   \n",
       "16510  1 Kanal Full Basement Brand New House for Sale...  House   \n",
       "33585          Triple Storey House Is Available For Sale  House   \n",
       "\n",
       "               Price                     Location Bath(s)       Area   \n",
       "35197     PKR90 Lakh     Mominpur, Lahore, Punjab       5    5 Marla  \\\n",
       "17134  PKR11.5 Crore  DHA Defence, Lahore, Punjab       6    1 Kanal   \n",
       "16510    PKR14 Crore  DHA Defence, Lahore, Punjab       6    1 Kanal   \n",
       "33585   PKR1.2 Crore  Abdali Road, Lahore, Punjab       -  3.5 Marla   \n",
       "\n",
       "        Purpose Bedroom(s)         Added  ...   \n",
       "35197  For Sale          4   3 years ago  ...  \\\n",
       "17134  For Sale          6  2 months ago  ...   \n",
       "16510  For Sale          6    1 week ago  ...   \n",
       "33585  For Sale          4   4 years ago  ...   \n",
       "\n",
       "                              Business and Communication   \n",
       "35197  ['Broadband Internet Access', 'Satellite or Ca...  \\\n",
       "17134  ['Broadband Internet Access', 'Satellite or Ca...   \n",
       "16510                                                NaN   \n",
       "33585                                                NaN   \n",
       "\n",
       "                                      Community Features   \n",
       "35197                                                NaN  \\\n",
       "17134  ['Community Lawn or Garden', 'First Aid or Med...   \n",
       "16510                                                NaN   \n",
       "33585                                                NaN   \n",
       "\n",
       "                                 Healthcare Recreational   \n",
       "35197                                                NaN  \\\n",
       "17134  ['Lawn or Garden', 'Other Healthcare and Recre...   \n",
       "16510                                                NaN   \n",
       "33585                                                NaN   \n",
       "\n",
       "                   Nearby Locations and Other Facilities Other Facilities\\r\\n   \n",
       "35197  ['Nearby Schools', 'Nearby Hospitals', 'Nearby...                  NaN  \\\n",
       "17134  ['Nearby Schools', 'Nearby Hospitals', 'Nearby...                  NaN   \n",
       "16510                                                NaN                  NaN   \n",
       "33585                                                NaN                  NaN   \n",
       "\n",
       "      Plot Features level_0 Initial Amount Monthly Installment   \n",
       "35197           NaN     NaN            NaN                 NaN  \\\n",
       "17134           NaN     NaN            NaN                 NaN   \n",
       "16510           NaN     NaN            NaN                 NaN   \n",
       "33585           NaN     NaN            NaN                 NaN   \n",
       "\n",
       "       Remaining Installments  \n",
       "35197                     NaN  \n",
       "17134                     NaN  \n",
       "16510                     NaN  \n",
       "33585                     NaN  \n",
       "\n",
       "[4 rows x 23 columns]"
      ]
     },
     "execution_count": 180,
     "metadata": {},
     "output_type": "execute_result"
    }
   ],
   "source": [
    "df = pd.read_csv(\"Data/House_Buy.csv\")\n",
    "df.sample(4)"
   ]
  },
  {
   "cell_type": "code",
   "execution_count": 181,
   "metadata": {},
   "outputs": [
    {
     "name": "stdout",
     "output_type": "stream",
     "text": [
      "\n",
      "    No. of rows: 50719\n",
      "    No. of cols: 23\n",
      "    \n"
     ]
    }
   ],
   "source": [
    "# shape of data\n",
    "rows, cols = df.shape\n",
    "print(f\"\"\"\n",
    "    No. of rows: {rows}\n",
    "    No. of cols: {cols}\n",
    "    \"\"\")"
   ]
  },
  {
   "cell_type": "code",
   "execution_count": 182,
   "metadata": {},
   "outputs": [
    {
     "name": "stdout",
     "output_type": "stream",
     "text": [
      "Name of all columns\n"
     ]
    },
    {
     "data": {
      "text/plain": [
       "['index',\n",
       " 'property_name',\n",
       " 'Type',\n",
       " 'Price',\n",
       " 'Location',\n",
       " 'Bath(s)',\n",
       " 'Area',\n",
       " 'Purpose',\n",
       " 'Bedroom(s)',\n",
       " 'Added',\n",
       " 'description',\n",
       " 'Main Features',\n",
       " 'Rooms',\n",
       " 'Business and Communication',\n",
       " 'Community Features',\n",
       " 'Healthcare Recreational',\n",
       " 'Nearby Locations and Other Facilities',\n",
       " 'Other Facilities\\r\\n',\n",
       " 'Plot Features',\n",
       " 'level_0',\n",
       " 'Initial Amount',\n",
       " 'Monthly Installment',\n",
       " 'Remaining Installments']"
      ]
     },
     "execution_count": 182,
     "metadata": {},
     "output_type": "execute_result"
    }
   ],
   "source": [
    "# column names\n",
    "print(\"Name of all columns\")\n",
    "df.columns.tolist()"
   ]
  },
  {
   "cell_type": "code",
   "execution_count": 183,
   "metadata": {},
   "outputs": [
    {
     "name": "stdout",
     "output_type": "stream",
     "text": [
      "<class 'pandas.core.frame.DataFrame'>\n",
      "RangeIndex: 50719 entries, 0 to 50718\n",
      "Data columns (total 23 columns):\n",
      " #   Column                                 Non-Null Count  Dtype  \n",
      "---  ------                                 --------------  -----  \n",
      " 0   index                                  50719 non-null  object \n",
      " 1   property_name                          50715 non-null  object \n",
      " 2   Type                                   50719 non-null  object \n",
      " 3   Price                                  50719 non-null  object \n",
      " 4   Location                               50719 non-null  object \n",
      " 5   Bath(s)                                50719 non-null  object \n",
      " 6   Area                                   50719 non-null  object \n",
      " 7   Purpose                                50719 non-null  object \n",
      " 8   Bedroom(s)                             50719 non-null  object \n",
      " 9   Added                                  50719 non-null  object \n",
      " 10  description                            50719 non-null  object \n",
      " 11  Main Features                          31754 non-null  object \n",
      " 12  Rooms                                  33965 non-null  object \n",
      " 13  Business and Communication             21545 non-null  object \n",
      " 14  Community Features                     19403 non-null  object \n",
      " 15  Healthcare Recreational                16332 non-null  object \n",
      " 16  Nearby Locations and Other Facilities  24342 non-null  object \n",
      " 17  Other Facilities\n",
      "                     12868 non-null  object \n",
      " 18  Plot Features                          1111 non-null   object \n",
      " 19  level_0                                275 non-null    float64\n",
      " 20  Initial Amount                         305 non-null    object \n",
      " 21  Monthly Installment                    305 non-null    object \n",
      " 22  Remaining Installments                 305 non-null    object \n",
      "dtypes: float64(1), object(22)\n",
      "memory usage: 8.9+ MB\n"
     ]
    }
   ],
   "source": [
    "# a brief info of every feature\n",
    "df.info()"
   ]
  },
  {
   "cell_type": "code",
   "execution_count": 184,
   "metadata": {},
   "outputs": [
    {
     "data": {
      "text/plain": [
       "index                                     0.000000\n",
       "property_name                             0.007887\n",
       "Type                                      0.000000\n",
       "Price                                     0.000000\n",
       "Location                                  0.000000\n",
       "Bath(s)                                   0.000000\n",
       "Area                                      0.000000\n",
       "Purpose                                   0.000000\n",
       "Bedroom(s)                                0.000000\n",
       "Added                                     0.000000\n",
       "description                               0.000000\n",
       "Main Features                            37.392299\n",
       "Rooms                                    33.032986\n",
       "Business and Communication               57.520850\n",
       "Community Features                       61.744120\n",
       "Healthcare Recreational                  67.799050\n",
       "Nearby Locations and Other Facilities    52.006152\n",
       "Other Facilities\\r\\n                     74.628837\n",
       "Plot Features                            97.809499\n",
       "level_0                                  99.457797\n",
       "Initial Amount                           99.398647\n",
       "Monthly Installment                      99.398647\n",
       "Remaining Installments                   99.398647\n",
       "dtype: float64"
      ]
     },
     "execution_count": 184,
     "metadata": {},
     "output_type": "execute_result"
    }
   ],
   "source": [
    "# percentage of null values\n",
    "(df.isnull().sum() / df.shape[0])*100"
   ]
  },
  {
   "cell_type": "markdown",
   "metadata": {},
   "source": [
    "> Remove all columns/features having more than 50% null values."
   ]
  },
  {
   "cell_type": "code",
   "execution_count": 185,
   "metadata": {},
   "outputs": [
    {
     "data": {
      "text/plain": [
       "1017"
      ]
     },
     "execution_count": 185,
     "metadata": {},
     "output_type": "execute_result"
    }
   ],
   "source": [
    "# no. of duplicates\n",
    "df.duplicated().sum()"
   ]
  },
  {
   "cell_type": "code",
   "execution_count": 186,
   "metadata": {},
   "outputs": [],
   "source": [
    "# preserving original DataFrame.\n",
    "df_clean = df.copy()"
   ]
  },
  {
   "cell_type": "markdown",
   "metadata": {},
   "source": [
    "## **Let's start cleaning process. 👨‍🦯**"
   ]
  },
  {
   "cell_type": "markdown",
   "metadata": {},
   "source": [
    "### **Removing all duplicates**"
   ]
  },
  {
   "cell_type": "code",
   "execution_count": 187,
   "metadata": {},
   "outputs": [
    {
     "name": "stdout",
     "output_type": "stream",
     "text": [
      "\n",
      "    Original DataFrame\n",
      "    No. of rows: 50719\n",
      "    No. of cols: 23\n",
      "    \n",
      "\n",
      "    DataFrame without any duplicates\n",
      "    No. of rows: 49702\n",
      "    No. of cols: 23\n",
      "    \n"
     ]
    }
   ],
   "source": [
    "# remove all duplicates first\n",
    "df_clean.drop_duplicates(inplace=True, keep='first')\n",
    "\n",
    "\n",
    "print(f\"\"\"\n",
    "    Original DataFrame\n",
    "    No. of rows: {rows}\n",
    "    No. of cols: {cols}\n",
    "    \"\"\")\n",
    "\n",
    "rows, cols = df_clean.shape\n",
    "print(f\"\"\"\n",
    "    DataFrame without any duplicates\n",
    "    No. of rows: {rows}\n",
    "    No. of cols: {cols}\n",
    "    \"\"\")"
   ]
  },
  {
   "cell_type": "markdown",
   "metadata": {},
   "source": [
    "### **Lowercase Conversion**"
   ]
  },
  {
   "cell_type": "code",
   "execution_count": 188,
   "metadata": {},
   "outputs": [
    {
     "data": {
      "text/plain": [
       "['url',\n",
       " 'property_name',\n",
       " 'type',\n",
       " 'price',\n",
       " 'location',\n",
       " 'baths',\n",
       " 'area',\n",
       " 'purpose',\n",
       " 'bedrooms',\n",
       " 'added',\n",
       " 'description',\n",
       " 'main_features',\n",
       " 'rooms',\n",
       " 'business_and_communication',\n",
       " 'community_features',\n",
       " 'healthcare_recreational',\n",
       " 'nearby_locations_and_other_facilities',\n",
       " 'other_facilities\\r\\n',\n",
       " 'plot_features',\n",
       " 'level_0',\n",
       " 'initial_amount',\n",
       " 'monthly_installment',\n",
       " 'remaining_installments']"
      ]
     },
     "execution_count": 188,
     "metadata": {},
     "output_type": "execute_result"
    }
   ],
   "source": [
    "# column names lowercase conversion\n",
    "columns = df_clean.columns\n",
    "column_mapper = {}\n",
    "for col in columns:\n",
    "    updated_col = col.lower().replace(\"(s)\", \"s\")\n",
    "    updated_col = \"_\".join(updated_col.split(\" \"))\n",
    "    column_mapper[col] = updated_col\n",
    "column_mapper[\"index\"] = \"url\"\n",
    "df_clean.rename(columns=column_mapper, inplace=True)\n",
    "# column names\n",
    "df_clean.columns.tolist()"
   ]
  },
  {
   "cell_type": "markdown",
   "metadata": {},
   "source": [
    "### **Removing columns having more than 50% null values**"
   ]
  },
  {
   "cell_type": "code",
   "execution_count": 189,
   "metadata": {},
   "outputs": [
    {
     "name": "stdout",
     "output_type": "stream",
     "text": [
      "Index(['business_and_communication', 'community_features',\n",
      "       'healthcare_recreational', 'nearby_locations_and_other_facilities',\n",
      "       'other_facilities\\r\\n', 'plot_features', 'level_0', 'initial_amount',\n",
      "       'monthly_installment', 'remaining_installments'],\n",
      "      dtype='object')\n"
     ]
    }
   ],
   "source": [
    "null_percentage = (df_clean.isnull().sum() / df_clean.shape[0])\n",
    "cols_tobe_removed = null_percentage[null_percentage > 0.5].index\n",
    "print(cols_tobe_removed)"
   ]
  },
  {
   "cell_type": "code",
   "execution_count": 190,
   "metadata": {},
   "outputs": [
    {
     "data": {
      "text/plain": [
       "(49702, 13)"
      ]
     },
     "execution_count": 190,
     "metadata": {},
     "output_type": "execute_result"
    }
   ],
   "source": [
    "# remove columns with more than 50% null\n",
    "df_clean.drop(columns=cols_tobe_removed, inplace=True)\n",
    "df_clean.shape"
   ]
  },
  {
   "cell_type": "markdown",
   "metadata": {},
   "source": [
    "### **Working on Location column**"
   ]
  },
  {
   "cell_type": "code",
   "execution_count": 191,
   "metadata": {},
   "outputs": [
    {
     "data": {
      "text/plain": [
       "0        DHA Defence, Islamabad, Islamabad Capital\n",
       "1        DHA Defence, Islamabad, Islamabad Capital\n",
       "2        DHA Defence, Islamabad, Islamabad Capital\n",
       "3        DHA Defence, Islamabad, Islamabad Capital\n",
       "4        DHA Defence, Islamabad, Islamabad Capital\n",
       "                           ...                    \n",
       "50714            Jinnah Colony, Rawalpindi, Punjab\n",
       "50715            Jinnah Colony, Rawalpindi, Punjab\n",
       "50716            Jinnah Colony, Rawalpindi, Punjab\n",
       "50717            Jinnah Colony, Rawalpindi, Punjab\n",
       "50718            Jinnah Colony, Rawalpindi, Punjab\n",
       "Name: location, Length: 49702, dtype: object"
      ]
     },
     "execution_count": 191,
     "metadata": {},
     "output_type": "execute_result"
    }
   ],
   "source": [
    "# how it looks?\n",
    "df_clean['location']"
   ]
  },
  {
   "cell_type": "code",
   "execution_count": 192,
   "metadata": {},
   "outputs": [
    {
     "data": {
      "text/plain": [
       "location\n",
       "DHA Defence, Lahore, Punjab                    5332\n",
       "Bahria Town Rawalpindi, Rawalpindi, Punjab     3005\n",
       "DHA Defence, Islamabad, Islamabad Capital      1769\n",
       "Bahria Town, Lahore, Punjab                    1701\n",
       "G-13, Islamabad, Islamabad Capital              735\n",
       "                                               ... \n",
       "Women Housing Society, Lahore, Punjab             2\n",
       "Usmania Colony, Lahore, Punjab                    2\n",
       "Daultala, Rawalpindi, Punjab                      2\n",
       "Pind Begwal, Islamabad, Islamabad Capital         1\n",
       "Baghban Pura Housing Scheme, Lahore, Punjab       1\n",
       "Name: count, Length: 1010, dtype: int64"
      ]
     },
     "execution_count": 192,
     "metadata": {},
     "output_type": "execute_result"
    }
   ],
   "source": [
    "# value counts...\n",
    "df_clean['location'].value_counts()"
   ]
  },
  {
   "cell_type": "code",
   "execution_count": 193,
   "metadata": {},
   "outputs": [],
   "source": [
    "# conversion to lowercase\n",
    "df_clean['location'] = df_clean['location'].apply(lambda x: x.lower())"
   ]
  },
  {
   "cell_type": "markdown",
   "metadata": {},
   "source": [
    "The location column can be splitted into town, city and province. Let's create three new features."
   ]
  },
  {
   "cell_type": "code",
   "execution_count": 194,
   "metadata": {},
   "outputs": [],
   "source": [
    "df_clean['city'] = df_clean['location'].apply(lambda x: x.split(\",\")[1])\n",
    "df_clean['province'] = df_clean['location'].apply(lambda x: x.split(\",\")[2])\n",
    "df_clean['town'] = df_clean['location'].apply(lambda x: x.split(\",\")[0])"
   ]
  },
  {
   "cell_type": "code",
   "execution_count": 195,
   "metadata": {},
   "outputs": [
    {
     "data": {
      "text/html": [
       "<div>\n",
       "<style scoped>\n",
       "    .dataframe tbody tr th:only-of-type {\n",
       "        vertical-align: middle;\n",
       "    }\n",
       "\n",
       "    .dataframe tbody tr th {\n",
       "        vertical-align: top;\n",
       "    }\n",
       "\n",
       "    .dataframe thead th {\n",
       "        text-align: right;\n",
       "    }\n",
       "</style>\n",
       "<table border=\"1\" class=\"dataframe\">\n",
       "  <thead>\n",
       "    <tr style=\"text-align: right;\">\n",
       "      <th></th>\n",
       "      <th>town</th>\n",
       "      <th>city</th>\n",
       "      <th>province</th>\n",
       "    </tr>\n",
       "  </thead>\n",
       "  <tbody>\n",
       "    <tr>\n",
       "      <th>0</th>\n",
       "      <td>dha defence</td>\n",
       "      <td>islamabad</td>\n",
       "      <td>islamabad capital</td>\n",
       "    </tr>\n",
       "    <tr>\n",
       "      <th>1</th>\n",
       "      <td>dha defence</td>\n",
       "      <td>islamabad</td>\n",
       "      <td>islamabad capital</td>\n",
       "    </tr>\n",
       "    <tr>\n",
       "      <th>2</th>\n",
       "      <td>dha defence</td>\n",
       "      <td>islamabad</td>\n",
       "      <td>islamabad capital</td>\n",
       "    </tr>\n",
       "    <tr>\n",
       "      <th>3</th>\n",
       "      <td>dha defence</td>\n",
       "      <td>islamabad</td>\n",
       "      <td>islamabad capital</td>\n",
       "    </tr>\n",
       "    <tr>\n",
       "      <th>4</th>\n",
       "      <td>dha defence</td>\n",
       "      <td>islamabad</td>\n",
       "      <td>islamabad capital</td>\n",
       "    </tr>\n",
       "    <tr>\n",
       "      <th>...</th>\n",
       "      <td>...</td>\n",
       "      <td>...</td>\n",
       "      <td>...</td>\n",
       "    </tr>\n",
       "    <tr>\n",
       "      <th>50714</th>\n",
       "      <td>jinnah colony</td>\n",
       "      <td>rawalpindi</td>\n",
       "      <td>punjab</td>\n",
       "    </tr>\n",
       "    <tr>\n",
       "      <th>50715</th>\n",
       "      <td>jinnah colony</td>\n",
       "      <td>rawalpindi</td>\n",
       "      <td>punjab</td>\n",
       "    </tr>\n",
       "    <tr>\n",
       "      <th>50716</th>\n",
       "      <td>jinnah colony</td>\n",
       "      <td>rawalpindi</td>\n",
       "      <td>punjab</td>\n",
       "    </tr>\n",
       "    <tr>\n",
       "      <th>50717</th>\n",
       "      <td>jinnah colony</td>\n",
       "      <td>rawalpindi</td>\n",
       "      <td>punjab</td>\n",
       "    </tr>\n",
       "    <tr>\n",
       "      <th>50718</th>\n",
       "      <td>jinnah colony</td>\n",
       "      <td>rawalpindi</td>\n",
       "      <td>punjab</td>\n",
       "    </tr>\n",
       "  </tbody>\n",
       "</table>\n",
       "<p>49702 rows × 3 columns</p>\n",
       "</div>"
      ],
      "text/plain": [
       "                town         city            province\n",
       "0        dha defence    islamabad   islamabad capital\n",
       "1        dha defence    islamabad   islamabad capital\n",
       "2        dha defence    islamabad   islamabad capital\n",
       "3        dha defence    islamabad   islamabad capital\n",
       "4        dha defence    islamabad   islamabad capital\n",
       "...              ...          ...                 ...\n",
       "50714  jinnah colony   rawalpindi              punjab\n",
       "50715  jinnah colony   rawalpindi              punjab\n",
       "50716  jinnah colony   rawalpindi              punjab\n",
       "50717  jinnah colony   rawalpindi              punjab\n",
       "50718  jinnah colony   rawalpindi              punjab\n",
       "\n",
       "[49702 rows x 3 columns]"
      ]
     },
     "execution_count": 195,
     "metadata": {},
     "output_type": "execute_result"
    }
   ],
   "source": [
    "# let's examine new features\n",
    "df_clean[['town', 'city', 'province']]"
   ]
  },
  {
   "cell_type": "markdown",
   "metadata": {},
   "source": [
    "### **Working on Bath column**"
   ]
  },
  {
   "cell_type": "code",
   "execution_count": 196,
   "metadata": {},
   "outputs": [
    {
     "data": {
      "text/plain": [
       "baths\n",
       "6        15951\n",
       "4         9078\n",
       "5         7942\n",
       "3         6500\n",
       "-         6041\n",
       "2         2775\n",
       "1          558\n",
       "7          502\n",
       "8          220\n",
       "10          70\n",
       "9           64\n",
       "5,555        1\n",
       "Name: count, dtype: int64"
      ]
     },
     "execution_count": 196,
     "metadata": {},
     "output_type": "execute_result"
    }
   ],
   "source": [
    "df_clean['baths'].value_counts()"
   ]
  },
  {
   "cell_type": "markdown",
   "metadata": {},
   "source": [
    "1. 6041 instances contain \"-\".\n",
    "2. 1 instance contains \"5,555\"."
   ]
  },
  {
   "cell_type": "code",
   "execution_count": 197,
   "metadata": {},
   "outputs": [
    {
     "data": {
      "text/html": [
       "<div>\n",
       "<style scoped>\n",
       "    .dataframe tbody tr th:only-of-type {\n",
       "        vertical-align: middle;\n",
       "    }\n",
       "\n",
       "    .dataframe tbody tr th {\n",
       "        vertical-align: top;\n",
       "    }\n",
       "\n",
       "    .dataframe thead th {\n",
       "        text-align: right;\n",
       "    }\n",
       "</style>\n",
       "<table border=\"1\" class=\"dataframe\">\n",
       "  <thead>\n",
       "    <tr style=\"text-align: right;\">\n",
       "      <th></th>\n",
       "      <th>url</th>\n",
       "      <th>property_name</th>\n",
       "      <th>type</th>\n",
       "      <th>price</th>\n",
       "      <th>location</th>\n",
       "      <th>baths</th>\n",
       "      <th>area</th>\n",
       "      <th>purpose</th>\n",
       "      <th>bedrooms</th>\n",
       "      <th>added</th>\n",
       "      <th>description</th>\n",
       "      <th>main_features</th>\n",
       "      <th>rooms</th>\n",
       "      <th>city</th>\n",
       "      <th>province</th>\n",
       "      <th>town</th>\n",
       "    </tr>\n",
       "  </thead>\n",
       "  <tbody>\n",
       "    <tr>\n",
       "      <th>34</th>\n",
       "      <td>https://zameen.com/Property/dha_defence_dha_d...</td>\n",
       "      <td>HUGE VILLA WITH TRIPPLE UNIT CORNER SEPRATE AC...</td>\n",
       "      <td>House</td>\n",
       "      <td>PKR13 Crore</td>\n",
       "      <td>dha defence, islamabad, islamabad capital</td>\n",
       "      <td>-</td>\n",
       "      <td>1 Kanal</td>\n",
       "      <td>For Sale</td>\n",
       "      <td>8</td>\n",
       "      <td>1 week ago</td>\n",
       "      <td>HOUSE AVAILABLE FOR SALE IN DHA PHASE 2 THIS H...</td>\n",
       "      <td>['Built in year: 2023', 'Parking Spaces: 4', '...</td>\n",
       "      <td>['Bedrooms: 8', 'Bathrooms: 10', 'Servant Quar...</td>\n",
       "      <td>islamabad</td>\n",
       "      <td>islamabad capital</td>\n",
       "      <td>dha defence</td>\n",
       "    </tr>\n",
       "    <tr>\n",
       "      <th>84</th>\n",
       "      <td>https://zameen.com/Property/dha_defence_dha_d...</td>\n",
       "      <td>1 kanal luxury house for sale in DHA phase 2 i...</td>\n",
       "      <td>House</td>\n",
       "      <td>PKR11.9 Crore</td>\n",
       "      <td>dha defence, islamabad, islamabad capital</td>\n",
       "      <td>-</td>\n",
       "      <td>1 Kanal</td>\n",
       "      <td>For Sale</td>\n",
       "      <td>6</td>\n",
       "      <td>2 weeks ago</td>\n",
       "      <td>1 Kanal elegant house for Sale DHA-2 Islamabad...</td>\n",
       "      <td>['Flooring']</td>\n",
       "      <td>['Bedrooms: 6', 'Bathrooms: 7', 'Servant Quart...</td>\n",
       "      <td>islamabad</td>\n",
       "      <td>islamabad capital</td>\n",
       "      <td>dha defence</td>\n",
       "    </tr>\n",
       "    <tr>\n",
       "      <th>87</th>\n",
       "      <td>https://zameen.com/Property/dha_defence_dha_d...</td>\n",
       "      <td>1 Kanal Elegant house For Sale - Sector A - DH...</td>\n",
       "      <td>House</td>\n",
       "      <td>PKR11.3 Crore</td>\n",
       "      <td>dha defence, islamabad, islamabad capital</td>\n",
       "      <td>-</td>\n",
       "      <td>1 Kanal</td>\n",
       "      <td>For Sale</td>\n",
       "      <td>9</td>\n",
       "      <td>2 days ago</td>\n",
       "      <td>Your dream home awaits!Looking for the perfect...</td>\n",
       "      <td>['Built in year: 2022', 'Parking Spaces', 'Flo...</td>\n",
       "      <td>['Bedrooms: 9', 'Bathrooms: 12', 'Servant Quar...</td>\n",
       "      <td>islamabad</td>\n",
       "      <td>islamabad capital</td>\n",
       "      <td>dha defence</td>\n",
       "    </tr>\n",
       "    <tr>\n",
       "      <th>138</th>\n",
       "      <td>https://zameen.com/Property/dha_defence_dha_d...</td>\n",
       "      <td>Beautiful House At Vip 70ft Street</td>\n",
       "      <td>House</td>\n",
       "      <td>PKR11.98 Crore</td>\n",
       "      <td>dha defence, islamabad, islamabad capital</td>\n",
       "      <td>-</td>\n",
       "      <td>1 Kanal</td>\n",
       "      <td>For Sale</td>\n",
       "      <td>6</td>\n",
       "      <td>1 week ago</td>\n",
       "      <td>Top Class Location70 Ft Wide StreetBrand New O...</td>\n",
       "      <td>['Built in year: 2023', 'Parking Spaces: 3', '...</td>\n",
       "      <td>['Bedrooms: 6', 'Bathrooms: 8', 'Servant Quart...</td>\n",
       "      <td>islamabad</td>\n",
       "      <td>islamabad capital</td>\n",
       "      <td>dha defence</td>\n",
       "    </tr>\n",
       "    <tr>\n",
       "      <th>182</th>\n",
       "      <td>https://zameen.com/Property/dha_defence_dha_d...</td>\n",
       "      <td>Ultra Modern Designer Luxury House at Outstand...</td>\n",
       "      <td>House</td>\n",
       "      <td>PKR11.9 Crore</td>\n",
       "      <td>dha defence, islamabad, islamabad capital</td>\n",
       "      <td>-</td>\n",
       "      <td>1 Kanal</td>\n",
       "      <td>For Sale</td>\n",
       "      <td>5</td>\n",
       "      <td>3 weeks ago</td>\n",
       "      <td>1 Kanal brand New House Double Unit 5 Bed TV L...</td>\n",
       "      <td>['Built in year: 2023', 'Parking Spaces: 3', '...</td>\n",
       "      <td>['Bedrooms: 5', 'Bathrooms: 6', 'Servant Quart...</td>\n",
       "      <td>islamabad</td>\n",
       "      <td>islamabad capital</td>\n",
       "      <td>dha defence</td>\n",
       "    </tr>\n",
       "    <tr>\n",
       "      <th>...</th>\n",
       "      <td>...</td>\n",
       "      <td>...</td>\n",
       "      <td>...</td>\n",
       "      <td>...</td>\n",
       "      <td>...</td>\n",
       "      <td>...</td>\n",
       "      <td>...</td>\n",
       "      <td>...</td>\n",
       "      <td>...</td>\n",
       "      <td>...</td>\n",
       "      <td>...</td>\n",
       "      <td>...</td>\n",
       "      <td>...</td>\n",
       "      <td>...</td>\n",
       "      <td>...</td>\n",
       "      <td>...</td>\n",
       "    </tr>\n",
       "    <tr>\n",
       "      <th>50705</th>\n",
       "      <td>https://zameen.com/Property/rawalpindi_jinnah...</td>\n",
       "      <td>Single Storey House Is Available For Sale</td>\n",
       "      <td>House</td>\n",
       "      <td>PKR45 Lakh</td>\n",
       "      <td>jinnah colony, rawalpindi, punjab</td>\n",
       "      <td>-</td>\n",
       "      <td>3 Marla</td>\n",
       "      <td>For Sale</td>\n",
       "      <td>2</td>\n",
       "      <td>6 years ago</td>\n",
       "      <td>House for sale. Ideal Location. D/D, TV Lounge...</td>\n",
       "      <td>NaN</td>\n",
       "      <td>['Bedrooms: 2']</td>\n",
       "      <td>rawalpindi</td>\n",
       "      <td>punjab</td>\n",
       "      <td>jinnah colony</td>\n",
       "    </tr>\n",
       "    <tr>\n",
       "      <th>50706</th>\n",
       "      <td>https://zameen.com/Property/rawalpindi_jinnah...</td>\n",
       "      <td>3 Unit House Is Available For Sale</td>\n",
       "      <td>House</td>\n",
       "      <td>PKR1.3 Crore</td>\n",
       "      <td>jinnah colony, rawalpindi, punjab</td>\n",
       "      <td>-</td>\n",
       "      <td>7 Marla</td>\n",
       "      <td>For Sale</td>\n",
       "      <td>6</td>\n",
       "      <td>6 years ago</td>\n",
       "      <td>House for sale. Ideal Location. D/D, TV Lounge...</td>\n",
       "      <td>NaN</td>\n",
       "      <td>['Bedrooms: 6']</td>\n",
       "      <td>rawalpindi</td>\n",
       "      <td>punjab</td>\n",
       "      <td>jinnah colony</td>\n",
       "    </tr>\n",
       "    <tr>\n",
       "      <th>50707</th>\n",
       "      <td>https://zameen.com/Property/rawalpindi_jinnah...</td>\n",
       "      <td>Double Storey House for Sale</td>\n",
       "      <td>House</td>\n",
       "      <td>PKR1.6 Crore</td>\n",
       "      <td>jinnah colony, rawalpindi, punjab</td>\n",
       "      <td>-</td>\n",
       "      <td>10 Marla</td>\n",
       "      <td>For Sale</td>\n",
       "      <td>8</td>\n",
       "      <td>7 years ago</td>\n",
       "      <td>House is available for sale. Location: Jinnah ...</td>\n",
       "      <td>NaN</td>\n",
       "      <td>['Bedrooms: 8']</td>\n",
       "      <td>rawalpindi</td>\n",
       "      <td>punjab</td>\n",
       "      <td>jinnah colony</td>\n",
       "    </tr>\n",
       "    <tr>\n",
       "      <th>50716</th>\n",
       "      <td>https://zameen.com/Property/rawalpindi_jinnah...</td>\n",
       "      <td>Residential Plot Is Available For Sale</td>\n",
       "      <td>House</td>\n",
       "      <td>PKR37 Lakh</td>\n",
       "      <td>jinnah colony, rawalpindi, punjab</td>\n",
       "      <td>-</td>\n",
       "      <td>7 Marla</td>\n",
       "      <td>For Sale</td>\n",
       "      <td>-</td>\n",
       "      <td>6 years ago</td>\n",
       "      <td>Plot For Sale. Good location. Street No: 205 B...</td>\n",
       "      <td>NaN</td>\n",
       "      <td>NaN</td>\n",
       "      <td>rawalpindi</td>\n",
       "      <td>punjab</td>\n",
       "      <td>jinnah colony</td>\n",
       "    </tr>\n",
       "    <tr>\n",
       "      <th>50718</th>\n",
       "      <td>https://zameen.com/Property/rawalpindi_jinnah...</td>\n",
       "      <td>6 Marla 3 Storey House For Sale</td>\n",
       "      <td>House</td>\n",
       "      <td>PKR90 Lakh</td>\n",
       "      <td>jinnah colony, rawalpindi, punjab</td>\n",
       "      <td>-</td>\n",
       "      <td>6 Marla</td>\n",
       "      <td>For Sale</td>\n",
       "      <td>8</td>\n",
       "      <td>13 years ago</td>\n",
       "      <td>Beautiful house of 6 marla with all basic faci...</td>\n",
       "      <td>NaN</td>\n",
       "      <td>NaN</td>\n",
       "      <td>rawalpindi</td>\n",
       "      <td>punjab</td>\n",
       "      <td>jinnah colony</td>\n",
       "    </tr>\n",
       "  </tbody>\n",
       "</table>\n",
       "<p>6041 rows × 16 columns</p>\n",
       "</div>"
      ],
      "text/plain": [
       "                                                     url   \n",
       "34      https://zameen.com/Property/dha_defence_dha_d...  \\\n",
       "84      https://zameen.com/Property/dha_defence_dha_d...   \n",
       "87      https://zameen.com/Property/dha_defence_dha_d...   \n",
       "138     https://zameen.com/Property/dha_defence_dha_d...   \n",
       "182     https://zameen.com/Property/dha_defence_dha_d...   \n",
       "...                                                  ...   \n",
       "50705   https://zameen.com/Property/rawalpindi_jinnah...   \n",
       "50706   https://zameen.com/Property/rawalpindi_jinnah...   \n",
       "50707   https://zameen.com/Property/rawalpindi_jinnah...   \n",
       "50716   https://zameen.com/Property/rawalpindi_jinnah...   \n",
       "50718   https://zameen.com/Property/rawalpindi_jinnah...   \n",
       "\n",
       "                                           property_name   type   \n",
       "34     HUGE VILLA WITH TRIPPLE UNIT CORNER SEPRATE AC...  House  \\\n",
       "84     1 kanal luxury house for sale in DHA phase 2 i...  House   \n",
       "87     1 Kanal Elegant house For Sale - Sector A - DH...  House   \n",
       "138                   Beautiful House At Vip 70ft Street  House   \n",
       "182    Ultra Modern Designer Luxury House at Outstand...  House   \n",
       "...                                                  ...    ...   \n",
       "50705          Single Storey House Is Available For Sale  House   \n",
       "50706                 3 Unit House Is Available For Sale  House   \n",
       "50707                       Double Storey House for Sale  House   \n",
       "50716             Residential Plot Is Available For Sale  House   \n",
       "50718                    6 Marla 3 Storey House For Sale  House   \n",
       "\n",
       "                price                                   location baths   \n",
       "34        PKR13 Crore  dha defence, islamabad, islamabad capital     -  \\\n",
       "84      PKR11.9 Crore  dha defence, islamabad, islamabad capital     -   \n",
       "87      PKR11.3 Crore  dha defence, islamabad, islamabad capital     -   \n",
       "138    PKR11.98 Crore  dha defence, islamabad, islamabad capital     -   \n",
       "182     PKR11.9 Crore  dha defence, islamabad, islamabad capital     -   \n",
       "...               ...                                        ...   ...   \n",
       "50705      PKR45 Lakh          jinnah colony, rawalpindi, punjab     -   \n",
       "50706    PKR1.3 Crore          jinnah colony, rawalpindi, punjab     -   \n",
       "50707    PKR1.6 Crore          jinnah colony, rawalpindi, punjab     -   \n",
       "50716      PKR37 Lakh          jinnah colony, rawalpindi, punjab     -   \n",
       "50718      PKR90 Lakh          jinnah colony, rawalpindi, punjab     -   \n",
       "\n",
       "           area   purpose bedrooms         added   \n",
       "34      1 Kanal  For Sale        8    1 week ago  \\\n",
       "84      1 Kanal  For Sale        6   2 weeks ago   \n",
       "87      1 Kanal  For Sale        9    2 days ago   \n",
       "138     1 Kanal  For Sale        6    1 week ago   \n",
       "182     1 Kanal  For Sale        5   3 weeks ago   \n",
       "...         ...       ...      ...           ...   \n",
       "50705   3 Marla  For Sale        2   6 years ago   \n",
       "50706   7 Marla  For Sale        6   6 years ago   \n",
       "50707  10 Marla  For Sale        8   7 years ago   \n",
       "50716   7 Marla  For Sale        -   6 years ago   \n",
       "50718   6 Marla  For Sale        8  13 years ago   \n",
       "\n",
       "                                             description   \n",
       "34     HOUSE AVAILABLE FOR SALE IN DHA PHASE 2 THIS H...  \\\n",
       "84     1 Kanal elegant house for Sale DHA-2 Islamabad...   \n",
       "87     Your dream home awaits!Looking for the perfect...   \n",
       "138    Top Class Location70 Ft Wide StreetBrand New O...   \n",
       "182    1 Kanal brand New House Double Unit 5 Bed TV L...   \n",
       "...                                                  ...   \n",
       "50705  House for sale. Ideal Location. D/D, TV Lounge...   \n",
       "50706  House for sale. Ideal Location. D/D, TV Lounge...   \n",
       "50707  House is available for sale. Location: Jinnah ...   \n",
       "50716  Plot For Sale. Good location. Street No: 205 B...   \n",
       "50718  Beautiful house of 6 marla with all basic faci...   \n",
       "\n",
       "                                           main_features   \n",
       "34     ['Built in year: 2023', 'Parking Spaces: 4', '...  \\\n",
       "84                                          ['Flooring']   \n",
       "87     ['Built in year: 2022', 'Parking Spaces', 'Flo...   \n",
       "138    ['Built in year: 2023', 'Parking Spaces: 3', '...   \n",
       "182    ['Built in year: 2023', 'Parking Spaces: 3', '...   \n",
       "...                                                  ...   \n",
       "50705                                                NaN   \n",
       "50706                                                NaN   \n",
       "50707                                                NaN   \n",
       "50716                                                NaN   \n",
       "50718                                                NaN   \n",
       "\n",
       "                                                   rooms         city   \n",
       "34     ['Bedrooms: 8', 'Bathrooms: 10', 'Servant Quar...    islamabad  \\\n",
       "84     ['Bedrooms: 6', 'Bathrooms: 7', 'Servant Quart...    islamabad   \n",
       "87     ['Bedrooms: 9', 'Bathrooms: 12', 'Servant Quar...    islamabad   \n",
       "138    ['Bedrooms: 6', 'Bathrooms: 8', 'Servant Quart...    islamabad   \n",
       "182    ['Bedrooms: 5', 'Bathrooms: 6', 'Servant Quart...    islamabad   \n",
       "...                                                  ...          ...   \n",
       "50705                                    ['Bedrooms: 2']   rawalpindi   \n",
       "50706                                    ['Bedrooms: 6']   rawalpindi   \n",
       "50707                                    ['Bedrooms: 8']   rawalpindi   \n",
       "50716                                                NaN   rawalpindi   \n",
       "50718                                                NaN   rawalpindi   \n",
       "\n",
       "                 province           town  \n",
       "34      islamabad capital    dha defence  \n",
       "84      islamabad capital    dha defence  \n",
       "87      islamabad capital    dha defence  \n",
       "138     islamabad capital    dha defence  \n",
       "182     islamabad capital    dha defence  \n",
       "...                   ...            ...  \n",
       "50705              punjab  jinnah colony  \n",
       "50706              punjab  jinnah colony  \n",
       "50707              punjab  jinnah colony  \n",
       "50716              punjab  jinnah colony  \n",
       "50718              punjab  jinnah colony  \n",
       "\n",
       "[6041 rows x 16 columns]"
      ]
     },
     "execution_count": 197,
     "metadata": {},
     "output_type": "execute_result"
    }
   ],
   "source": [
    "# rows where bath column contains '-''\n",
    "df_clean[df_clean['baths'] == '-']"
   ]
  },
  {
   "cell_type": "code",
   "execution_count": 198,
   "metadata": {},
   "outputs": [
    {
     "data": {
      "text/html": [
       "<div>\n",
       "<style scoped>\n",
       "    .dataframe tbody tr th:only-of-type {\n",
       "        vertical-align: middle;\n",
       "    }\n",
       "\n",
       "    .dataframe tbody tr th {\n",
       "        vertical-align: top;\n",
       "    }\n",
       "\n",
       "    .dataframe thead th {\n",
       "        text-align: right;\n",
       "    }\n",
       "</style>\n",
       "<table border=\"1\" class=\"dataframe\">\n",
       "  <thead>\n",
       "    <tr style=\"text-align: right;\">\n",
       "      <th></th>\n",
       "      <th>url</th>\n",
       "      <th>property_name</th>\n",
       "      <th>type</th>\n",
       "      <th>price</th>\n",
       "      <th>location</th>\n",
       "      <th>baths</th>\n",
       "      <th>area</th>\n",
       "      <th>purpose</th>\n",
       "      <th>bedrooms</th>\n",
       "      <th>added</th>\n",
       "      <th>description</th>\n",
       "      <th>main_features</th>\n",
       "      <th>rooms</th>\n",
       "      <th>city</th>\n",
       "      <th>province</th>\n",
       "      <th>town</th>\n",
       "    </tr>\n",
       "  </thead>\n",
       "  <tbody>\n",
       "    <tr>\n",
       "      <th>33807</th>\n",
       "      <td>https://zameen.com/Property/lahore_circular_r...</td>\n",
       "      <td>House Is Available For Sale</td>\n",
       "      <td>House</td>\n",
       "      <td>PKR5.5 Arab</td>\n",
       "      <td>circular road, lahore, punjab</td>\n",
       "      <td>5,555</td>\n",
       "      <td>175.1 Kanal</td>\n",
       "      <td>For Sale</td>\n",
       "      <td>5,555</td>\n",
       "      <td>7 years ago</td>\n",
       "      <td>House available for sale. Best option for livi...</td>\n",
       "      <td>NaN</td>\n",
       "      <td>['Bedrooms: 5555', 'Bathrooms: 5555', 'Drawing...</td>\n",
       "      <td>lahore</td>\n",
       "      <td>punjab</td>\n",
       "      <td>circular road</td>\n",
       "    </tr>\n",
       "  </tbody>\n",
       "</table>\n",
       "</div>"
      ],
      "text/plain": [
       "                                                     url   \n",
       "33807   https://zameen.com/Property/lahore_circular_r...  \\\n",
       "\n",
       "                     property_name   type        price   \n",
       "33807  House Is Available For Sale  House  PKR5.5 Arab  \\\n",
       "\n",
       "                            location  baths         area   purpose bedrooms   \n",
       "33807  circular road, lahore, punjab  5,555  175.1 Kanal  For Sale    5,555  \\\n",
       "\n",
       "             added                                        description   \n",
       "33807  7 years ago  House available for sale. Best option for livi...  \\\n",
       "\n",
       "      main_features                                              rooms   \n",
       "33807           NaN  ['Bedrooms: 5555', 'Bathrooms: 5555', 'Drawing...  \\\n",
       "\n",
       "          city province           town  \n",
       "33807   lahore   punjab  circular road  "
      ]
     },
     "execution_count": 198,
     "metadata": {},
     "output_type": "execute_result"
    }
   ],
   "source": [
    "# row where bath column contains '-'\n",
    "df_clean[df_clean['baths'] == '5,555']"
   ]
  },
  {
   "cell_type": "code",
   "execution_count": 199,
   "metadata": {},
   "outputs": [],
   "source": [
    "# let's remove the row displayed in above code output\n",
    "df_clean.drop(index=33807, inplace=True)"
   ]
  },
  {
   "cell_type": "markdown",
   "metadata": {},
   "source": [
    "**We will work on this column later on in this notebook.**\n",
    "\n",
    "We know that 6041 rows contain '-', so we need to extract the information of baths from other columns like 'description' column."
   ]
  },
  {
   "cell_type": "markdown",
   "metadata": {},
   "source": [
    "### **Working on Bedrooms column**"
   ]
  },
  {
   "cell_type": "code",
   "execution_count": 200,
   "metadata": {},
   "outputs": [
    {
     "data": {
      "text/plain": [
       "0        5\n",
       "1        5\n",
       "2        5\n",
       "3        6\n",
       "4        5\n",
       "        ..\n",
       "50714    4\n",
       "50715    4\n",
       "50716    -\n",
       "50717    8\n",
       "50718    8\n",
       "Name: bedrooms, Length: 49701, dtype: object"
      ]
     },
     "execution_count": 200,
     "metadata": {},
     "output_type": "execute_result"
    }
   ],
   "source": [
    "df_clean['bedrooms']"
   ]
  },
  {
   "cell_type": "code",
   "execution_count": 201,
   "metadata": {},
   "outputs": [
    {
     "data": {
      "text/plain": [
       "bedrooms\n",
       "5      13244\n",
       "3      10421\n",
       "4       9349\n",
       "6       6083\n",
       "-       3934\n",
       "2       3201\n",
       "7       1663\n",
       "8        652\n",
       "1        433\n",
       "9        312\n",
       "10       253\n",
       "11       126\n",
       "12        20\n",
       "13         3\n",
       "17         3\n",
       "25         1\n",
       "100        1\n",
       "16         1\n",
       "33         1\n",
       "Name: count, dtype: int64"
      ]
     },
     "execution_count": 201,
     "metadata": {},
     "output_type": "execute_result"
    }
   ],
   "source": [
    "df_clean['bedrooms'].value_counts()"
   ]
  },
  {
   "cell_type": "markdown",
   "metadata": {},
   "source": [
    "1. 3934 instances contain \"-\"."
   ]
  },
  {
   "cell_type": "markdown",
   "metadata": {},
   "source": [
    "**We will work on this column later on in this notebook.**\n",
    "\n",
    "Similar to bathroom case."
   ]
  },
  {
   "cell_type": "markdown",
   "metadata": {},
   "source": [
    "### **Working on Price column**"
   ]
  },
  {
   "cell_type": "code",
   "execution_count": 202,
   "metadata": {},
   "outputs": [
    {
     "data": {
      "text/plain": [
       "0          PKR7.1 Crore\n",
       "1         PKR6.25 Crore\n",
       "2        PKR13.95 Crore\n",
       "3          PKR9.9 Crore\n",
       "4        PKR13.95 Crore\n",
       "              ...      \n",
       "50714      PKR1.5 Crore\n",
       "50715     PKR1.63 Crore\n",
       "50716        PKR37 Lakh\n",
       "50717     PKR1.15 Crore\n",
       "50718        PKR90 Lakh\n",
       "Name: price, Length: 49701, dtype: object"
      ]
     },
     "execution_count": 202,
     "metadata": {},
     "output_type": "execute_result"
    }
   ],
   "source": [
    "df_clean['price']"
   ]
  },
  {
   "cell_type": "code",
   "execution_count": 203,
   "metadata": {},
   "outputs": [],
   "source": [
    "df_clean['price'] = df_clean['price'].str[3:]"
   ]
  },
  {
   "cell_type": "code",
   "execution_count": 204,
   "metadata": {},
   "outputs": [],
   "source": [
    "\n",
    "df_clean['price_unit'] = df_clean['price'].apply(lambda x: x.split(\" \")[-1].strip())"
   ]
  },
  {
   "cell_type": "code",
   "execution_count": 205,
   "metadata": {},
   "outputs": [
    {
     "data": {
      "text/html": [
       "<div>\n",
       "<style scoped>\n",
       "    .dataframe tbody tr th:only-of-type {\n",
       "        vertical-align: middle;\n",
       "    }\n",
       "\n",
       "    .dataframe tbody tr th {\n",
       "        vertical-align: top;\n",
       "    }\n",
       "\n",
       "    .dataframe thead th {\n",
       "        text-align: right;\n",
       "    }\n",
       "</style>\n",
       "<table border=\"1\" class=\"dataframe\">\n",
       "  <thead>\n",
       "    <tr style=\"text-align: right;\">\n",
       "      <th></th>\n",
       "      <th>url</th>\n",
       "      <th>property_name</th>\n",
       "      <th>type</th>\n",
       "      <th>price</th>\n",
       "      <th>location</th>\n",
       "      <th>baths</th>\n",
       "      <th>area</th>\n",
       "      <th>purpose</th>\n",
       "      <th>bedrooms</th>\n",
       "      <th>added</th>\n",
       "      <th>description</th>\n",
       "      <th>main_features</th>\n",
       "      <th>rooms</th>\n",
       "      <th>city</th>\n",
       "      <th>province</th>\n",
       "      <th>town</th>\n",
       "      <th>price_unit</th>\n",
       "    </tr>\n",
       "  </thead>\n",
       "  <tbody>\n",
       "    <tr>\n",
       "      <th>31039</th>\n",
       "      <td>https://zameen.com/Property/lahore_bahaduraba...</td>\n",
       "      <td>0</td>\n",
       "      <td>House</td>\n",
       "      <td>tact for price</td>\n",
       "      <td>bahadurabad, lahore, punjab</td>\n",
       "      <td>-</td>\n",
       "      <td>-</td>\n",
       "      <td>For Sale</td>\n",
       "      <td>-</td>\n",
       "      <td>7 years ago</td>\n",
       "      <td>0</td>\n",
       "      <td>NaN</td>\n",
       "      <td>NaN</td>\n",
       "      <td>lahore</td>\n",
       "      <td>punjab</td>\n",
       "      <td>bahadurabad</td>\n",
       "      <td>price</td>\n",
       "    </tr>\n",
       "    <tr>\n",
       "      <th>31040</th>\n",
       "      <td>https://zameen.com/Property/lahore_bahaduraba...</td>\n",
       "      <td>0</td>\n",
       "      <td>House</td>\n",
       "      <td>tact for price</td>\n",
       "      <td>bahadurabad, lahore, punjab</td>\n",
       "      <td>-</td>\n",
       "      <td>-</td>\n",
       "      <td>For Sale</td>\n",
       "      <td>-</td>\n",
       "      <td>7 years ago</td>\n",
       "      <td>0</td>\n",
       "      <td>NaN</td>\n",
       "      <td>NaN</td>\n",
       "      <td>lahore</td>\n",
       "      <td>punjab</td>\n",
       "      <td>bahadurabad</td>\n",
       "      <td>price</td>\n",
       "    </tr>\n",
       "    <tr>\n",
       "      <th>47775</th>\n",
       "      <td>https://zameen.com/Property/rawalpindi_chah_s...</td>\n",
       "      <td>Chah Sultan, Rawalpindi 9260472</td>\n",
       "      <td>House</td>\n",
       "      <td>tact for price</td>\n",
       "      <td>chah sultan, rawalpindi, punjab</td>\n",
       "      <td>-</td>\n",
       "      <td>-</td>\n",
       "      <td>For Sale</td>\n",
       "      <td>-</td>\n",
       "      <td>6 years ago</td>\n",
       "      <td>Chah Sultan, Rawalpindi 9260472</td>\n",
       "      <td>NaN</td>\n",
       "      <td>NaN</td>\n",
       "      <td>rawalpindi</td>\n",
       "      <td>punjab</td>\n",
       "      <td>chah sultan</td>\n",
       "      <td>price</td>\n",
       "    </tr>\n",
       "  </tbody>\n",
       "</table>\n",
       "</div>"
      ],
      "text/plain": [
       "                                                     url   \n",
       "31039   https://zameen.com/Property/lahore_bahaduraba...  \\\n",
       "31040   https://zameen.com/Property/lahore_bahaduraba...   \n",
       "47775   https://zameen.com/Property/rawalpindi_chah_s...   \n",
       "\n",
       "                         property_name   type           price   \n",
       "31039                                0  House  tact for price  \\\n",
       "31040                                0  House  tact for price   \n",
       "47775  Chah Sultan, Rawalpindi 9260472  House  tact for price   \n",
       "\n",
       "                              location baths area   purpose bedrooms   \n",
       "31039      bahadurabad, lahore, punjab     -    -  For Sale        -  \\\n",
       "31040      bahadurabad, lahore, punjab     -    -  For Sale        -   \n",
       "47775  chah sultan, rawalpindi, punjab     -    -  For Sale        -   \n",
       "\n",
       "             added                      description main_features rooms   \n",
       "31039  7 years ago                                0           NaN   NaN  \\\n",
       "31040  7 years ago                                0           NaN   NaN   \n",
       "47775  6 years ago  Chah Sultan, Rawalpindi 9260472           NaN   NaN   \n",
       "\n",
       "              city province         town price_unit  \n",
       "31039       lahore   punjab  bahadurabad      price  \n",
       "31040       lahore   punjab  bahadurabad      price  \n",
       "47775   rawalpindi   punjab  chah sultan      price  "
      ]
     },
     "execution_count": 205,
     "metadata": {},
     "output_type": "execute_result"
    }
   ],
   "source": [
    "# rows where price column contains 'tact'\n",
    "df_clean[df_clean['price'].str.contains('tact')]"
   ]
  },
  {
   "cell_type": "code",
   "execution_count": 206,
   "metadata": {},
   "outputs": [
    {
     "data": {
      "text/html": [
       "<div>\n",
       "<style scoped>\n",
       "    .dataframe tbody tr th:only-of-type {\n",
       "        vertical-align: middle;\n",
       "    }\n",
       "\n",
       "    .dataframe tbody tr th {\n",
       "        vertical-align: top;\n",
       "    }\n",
       "\n",
       "    .dataframe thead th {\n",
       "        text-align: right;\n",
       "    }\n",
       "</style>\n",
       "<table border=\"1\" class=\"dataframe\">\n",
       "  <thead>\n",
       "    <tr style=\"text-align: right;\">\n",
       "      <th></th>\n",
       "      <th>url</th>\n",
       "      <th>property_name</th>\n",
       "      <th>type</th>\n",
       "      <th>price</th>\n",
       "      <th>location</th>\n",
       "      <th>baths</th>\n",
       "      <th>area</th>\n",
       "      <th>purpose</th>\n",
       "      <th>bedrooms</th>\n",
       "      <th>added</th>\n",
       "      <th>description</th>\n",
       "      <th>main_features</th>\n",
       "      <th>rooms</th>\n",
       "      <th>city</th>\n",
       "      <th>province</th>\n",
       "      <th>town</th>\n",
       "      <th>price_unit</th>\n",
       "    </tr>\n",
       "  </thead>\n",
       "  <tbody>\n",
       "    <tr>\n",
       "      <th>7627</th>\n",
       "      <td>https://zameen.com/Property/islamabad_eden_li...</td>\n",
       "      <td>5 Marla House Is Available For Sale</td>\n",
       "      <td>House</td>\n",
       "      <td>1</td>\n",
       "      <td>eden life islamabad, islamabad, islamabad capital</td>\n",
       "      <td>3</td>\n",
       "      <td>5 Marla</td>\n",
       "      <td>For Sale</td>\n",
       "      <td>2</td>\n",
       "      <td>5 years ago</td>\n",
       "      <td>5 Marla House Is Available For Sale  Having be...</td>\n",
       "      <td>NaN</td>\n",
       "      <td>NaN</td>\n",
       "      <td>islamabad</td>\n",
       "      <td>islamabad capital</td>\n",
       "      <td>eden life islamabad</td>\n",
       "      <td>1</td>\n",
       "    </tr>\n",
       "    <tr>\n",
       "      <th>20728</th>\n",
       "      <td>https://zameen.com/Property/gulberg_2_gulberg...</td>\n",
       "      <td>Looking For A Facing Park House In Lahore</td>\n",
       "      <td>House</td>\n",
       "      <td>600</td>\n",
       "      <td>gulberg, lahore, punjab</td>\n",
       "      <td>2</td>\n",
       "      <td>5 Marla</td>\n",
       "      <td>For Sale</td>\n",
       "      <td>1</td>\n",
       "      <td>2 months ago</td>\n",
       "      <td>All kinds of properties are available for sale...</td>\n",
       "      <td>NaN</td>\n",
       "      <td>NaN</td>\n",
       "      <td>lahore</td>\n",
       "      <td>punjab</td>\n",
       "      <td>gulberg</td>\n",
       "      <td>600</td>\n",
       "    </tr>\n",
       "    <tr>\n",
       "      <th>20729</th>\n",
       "      <td>https://zameen.com/Property/gulberg_2_gulberg...</td>\n",
       "      <td>Facing Park House For sale In Gulberg 2 - Block G</td>\n",
       "      <td>House</td>\n",
       "      <td>600</td>\n",
       "      <td>gulberg, lahore, punjab</td>\n",
       "      <td>2</td>\n",
       "      <td>5 Marla</td>\n",
       "      <td>For Sale</td>\n",
       "      <td>1</td>\n",
       "      <td>2 months ago</td>\n",
       "      <td>This can be the right property for you to buy ...</td>\n",
       "      <td>NaN</td>\n",
       "      <td>NaN</td>\n",
       "      <td>lahore</td>\n",
       "      <td>punjab</td>\n",
       "      <td>gulberg</td>\n",
       "      <td>600</td>\n",
       "    </tr>\n",
       "    <tr>\n",
       "      <th>31039</th>\n",
       "      <td>https://zameen.com/Property/lahore_bahaduraba...</td>\n",
       "      <td>0</td>\n",
       "      <td>House</td>\n",
       "      <td>tact for price</td>\n",
       "      <td>bahadurabad, lahore, punjab</td>\n",
       "      <td>-</td>\n",
       "      <td>-</td>\n",
       "      <td>For Sale</td>\n",
       "      <td>-</td>\n",
       "      <td>7 years ago</td>\n",
       "      <td>0</td>\n",
       "      <td>NaN</td>\n",
       "      <td>NaN</td>\n",
       "      <td>lahore</td>\n",
       "      <td>punjab</td>\n",
       "      <td>bahadurabad</td>\n",
       "      <td>price</td>\n",
       "    </tr>\n",
       "    <tr>\n",
       "      <th>31040</th>\n",
       "      <td>https://zameen.com/Property/lahore_bahaduraba...</td>\n",
       "      <td>0</td>\n",
       "      <td>House</td>\n",
       "      <td>tact for price</td>\n",
       "      <td>bahadurabad, lahore, punjab</td>\n",
       "      <td>-</td>\n",
       "      <td>-</td>\n",
       "      <td>For Sale</td>\n",
       "      <td>-</td>\n",
       "      <td>7 years ago</td>\n",
       "      <td>0</td>\n",
       "      <td>NaN</td>\n",
       "      <td>NaN</td>\n",
       "      <td>lahore</td>\n",
       "      <td>punjab</td>\n",
       "      <td>bahadurabad</td>\n",
       "      <td>price</td>\n",
       "    </tr>\n",
       "    <tr>\n",
       "      <th>47775</th>\n",
       "      <td>https://zameen.com/Property/rawalpindi_chah_s...</td>\n",
       "      <td>Chah Sultan, Rawalpindi 9260472</td>\n",
       "      <td>House</td>\n",
       "      <td>tact for price</td>\n",
       "      <td>chah sultan, rawalpindi, punjab</td>\n",
       "      <td>-</td>\n",
       "      <td>-</td>\n",
       "      <td>For Sale</td>\n",
       "      <td>-</td>\n",
       "      <td>6 years ago</td>\n",
       "      <td>Chah Sultan, Rawalpindi 9260472</td>\n",
       "      <td>NaN</td>\n",
       "      <td>NaN</td>\n",
       "      <td>rawalpindi</td>\n",
       "      <td>punjab</td>\n",
       "      <td>chah sultan</td>\n",
       "      <td>price</td>\n",
       "    </tr>\n",
       "  </tbody>\n",
       "</table>\n",
       "</div>"
      ],
      "text/plain": [
       "                                                     url   \n",
       "7627    https://zameen.com/Property/islamabad_eden_li...  \\\n",
       "20728   https://zameen.com/Property/gulberg_2_gulberg...   \n",
       "20729   https://zameen.com/Property/gulberg_2_gulberg...   \n",
       "31039   https://zameen.com/Property/lahore_bahaduraba...   \n",
       "31040   https://zameen.com/Property/lahore_bahaduraba...   \n",
       "47775   https://zameen.com/Property/rawalpindi_chah_s...   \n",
       "\n",
       "                                           property_name   type   \n",
       "7627                 5 Marla House Is Available For Sale  House  \\\n",
       "20728          Looking For A Facing Park House In Lahore  House   \n",
       "20729  Facing Park House For sale In Gulberg 2 - Block G  House   \n",
       "31039                                                  0  House   \n",
       "31040                                                  0  House   \n",
       "47775                    Chah Sultan, Rawalpindi 9260472  House   \n",
       "\n",
       "                price                                           location   \n",
       "7627                1  eden life islamabad, islamabad, islamabad capital  \\\n",
       "20728             600                            gulberg, lahore, punjab   \n",
       "20729             600                            gulberg, lahore, punjab   \n",
       "31039  tact for price                        bahadurabad, lahore, punjab   \n",
       "31040  tact for price                        bahadurabad, lahore, punjab   \n",
       "47775  tact for price                    chah sultan, rawalpindi, punjab   \n",
       "\n",
       "      baths     area   purpose bedrooms         added   \n",
       "7627      3  5 Marla  For Sale        2   5 years ago  \\\n",
       "20728     2  5 Marla  For Sale        1  2 months ago   \n",
       "20729     2  5 Marla  For Sale        1  2 months ago   \n",
       "31039     -        -  For Sale        -   7 years ago   \n",
       "31040     -        -  For Sale        -   7 years ago   \n",
       "47775     -        -  For Sale        -   6 years ago   \n",
       "\n",
       "                                             description main_features rooms   \n",
       "7627   5 Marla House Is Available For Sale  Having be...           NaN   NaN  \\\n",
       "20728  All kinds of properties are available for sale...           NaN   NaN   \n",
       "20729  This can be the right property for you to buy ...           NaN   NaN   \n",
       "31039                                                  0           NaN   NaN   \n",
       "31040                                                  0           NaN   NaN   \n",
       "47775                    Chah Sultan, Rawalpindi 9260472           NaN   NaN   \n",
       "\n",
       "              city            province                 town price_unit  \n",
       "7627     islamabad   islamabad capital  eden life islamabad          1  \n",
       "20728       lahore              punjab              gulberg        600  \n",
       "20729       lahore              punjab              gulberg        600  \n",
       "31039       lahore              punjab          bahadurabad      price  \n",
       "31040       lahore              punjab          bahadurabad      price  \n",
       "47775   rawalpindi              punjab          chah sultan      price  "
      ]
     },
     "execution_count": 206,
     "metadata": {},
     "output_type": "execute_result"
    }
   ],
   "source": [
    "# rows where price column contains un-realistic data\n",
    "df_clean.loc[[7627, 20728, 20729, 31039, 31040, 47775]]"
   ]
  },
  {
   "cell_type": "code",
   "execution_count": 207,
   "metadata": {},
   "outputs": [],
   "source": [
    "# let's remove them\n",
    "df_clean.drop(index=[7627, 20728, 20729, 31039, 31040, 47775], inplace=True)"
   ]
  },
  {
   "cell_type": "code",
   "execution_count": 208,
   "metadata": {},
   "outputs": [
    {
     "data": {
      "text/plain": [
       "array(['Crore', 'Lakh', 'Thousand', 'Arab'], dtype=object)"
      ]
     },
     "execution_count": 208,
     "metadata": {},
     "output_type": "execute_result"
    }
   ],
   "source": [
    "# unique price unit\n",
    "df_clean['price_unit'].unique()"
   ]
  },
  {
   "cell_type": "code",
   "execution_count": 209,
   "metadata": {},
   "outputs": [],
   "source": [
    "# extracting value from price column\n",
    "df_clean['price'] = df_clean['price'].apply(lambda x: x.split(\" \")[0]).astype(float)"
   ]
  },
  {
   "cell_type": "code",
   "execution_count": 210,
   "metadata": {},
   "outputs": [
    {
     "data": {
      "text/html": [
       "<div>\n",
       "<style scoped>\n",
       "    .dataframe tbody tr th:only-of-type {\n",
       "        vertical-align: middle;\n",
       "    }\n",
       "\n",
       "    .dataframe tbody tr th {\n",
       "        vertical-align: top;\n",
       "    }\n",
       "\n",
       "    .dataframe thead th {\n",
       "        text-align: right;\n",
       "    }\n",
       "</style>\n",
       "<table border=\"1\" class=\"dataframe\">\n",
       "  <thead>\n",
       "    <tr style=\"text-align: right;\">\n",
       "      <th></th>\n",
       "      <th>url</th>\n",
       "      <th>property_name</th>\n",
       "      <th>type</th>\n",
       "      <th>price</th>\n",
       "      <th>location</th>\n",
       "      <th>baths</th>\n",
       "      <th>area</th>\n",
       "      <th>purpose</th>\n",
       "      <th>bedrooms</th>\n",
       "      <th>added</th>\n",
       "      <th>description</th>\n",
       "      <th>main_features</th>\n",
       "      <th>rooms</th>\n",
       "      <th>city</th>\n",
       "      <th>province</th>\n",
       "      <th>town</th>\n",
       "      <th>price_unit</th>\n",
       "    </tr>\n",
       "  </thead>\n",
       "  <tbody>\n",
       "    <tr>\n",
       "      <th>14024</th>\n",
       "      <td>https://zameen.com/Property/dha_defence_dha_p...</td>\n",
       "      <td>1 Kanal Brand New Spanish Design Top Location ...</td>\n",
       "      <td>House</td>\n",
       "      <td>7.95</td>\n",
       "      <td>dha defence, lahore, punjab</td>\n",
       "      <td>6</td>\n",
       "      <td>1 Kanal</td>\n",
       "      <td>For Sale</td>\n",
       "      <td>5</td>\n",
       "      <td>1 day ago</td>\n",
       "      <td>HARMAIN REAL ESTATE OFFERS' HIDDEN OUT OF MARK...</td>\n",
       "      <td>['Built in year: 2023', 'Parking Spaces: 4', '...</td>\n",
       "      <td>['Bedrooms: 5', 'Bathrooms: 6', 'Servant Quart...</td>\n",
       "      <td>lahore</td>\n",
       "      <td>punjab</td>\n",
       "      <td>dha defence</td>\n",
       "      <td>Crore</td>\n",
       "    </tr>\n",
       "    <tr>\n",
       "      <th>18810</th>\n",
       "      <td>https://zameen.com/Property/bahria_town_bahri...</td>\n",
       "      <td>Beautiful 10 Marla House For Sale In Sector C ...</td>\n",
       "      <td>House</td>\n",
       "      <td>4.00</td>\n",
       "      <td>bahria town, lahore, punjab</td>\n",
       "      <td>4</td>\n",
       "      <td>10 Marla</td>\n",
       "      <td>For Sale</td>\n",
       "      <td>5</td>\n",
       "      <td>2 weeks ago</td>\n",
       "      <td>Dear Valued CustomerAssalam O alaikumLuxurious...</td>\n",
       "      <td>['Built in year: 2023', 'Parking Spaces: 2', '...</td>\n",
       "      <td>NaN</td>\n",
       "      <td>lahore</td>\n",
       "      <td>punjab</td>\n",
       "      <td>bahria town</td>\n",
       "      <td>Crore</td>\n",
       "    </tr>\n",
       "    <tr>\n",
       "      <th>18434</th>\n",
       "      <td>https://zameen.com/Property/bahria_town_secto...</td>\n",
       "      <td>10 Marla LDA Approved Brand New House For Sale...</td>\n",
       "      <td>House</td>\n",
       "      <td>3.95</td>\n",
       "      <td>bahria town, lahore, punjab</td>\n",
       "      <td>6</td>\n",
       "      <td>10 Marla</td>\n",
       "      <td>For Sale</td>\n",
       "      <td>5</td>\n",
       "      <td>1 month ago</td>\n",
       "      <td>Meta Properties offers best investment opportu...</td>\n",
       "      <td>['Built in year: 2023', 'Parking Spaces', 'Flo...</td>\n",
       "      <td>['Bedrooms: 5', 'Bathrooms: 6', 'Servant Quart...</td>\n",
       "      <td>lahore</td>\n",
       "      <td>punjab</td>\n",
       "      <td>bahria town</td>\n",
       "      <td>Crore</td>\n",
       "    </tr>\n",
       "    <tr>\n",
       "      <th>34156</th>\n",
       "      <td>https://zameen.com/Property/lahore_captain_ja...</td>\n",
       "      <td>Brand New Double Storey House Is Available For...</td>\n",
       "      <td>House</td>\n",
       "      <td>52.00</td>\n",
       "      <td>captain jamal road, lahore, punjab</td>\n",
       "      <td>-</td>\n",
       "      <td>2 Marla</td>\n",
       "      <td>For Sale</td>\n",
       "      <td>3</td>\n",
       "      <td>4 years ago</td>\n",
       "      <td>House Is Available For Sale. Ideal Location. R...</td>\n",
       "      <td>NaN</td>\n",
       "      <td>['Bedrooms: 3']</td>\n",
       "      <td>lahore</td>\n",
       "      <td>punjab</td>\n",
       "      <td>captain jamal road</td>\n",
       "      <td>Lakh</td>\n",
       "    </tr>\n",
       "    <tr>\n",
       "      <th>37429</th>\n",
       "      <td>https://zameen.com/Property/township_township...</td>\n",
       "      <td>20 Marla Semi Commercial House Haider Road tow...</td>\n",
       "      <td>House</td>\n",
       "      <td>7.00</td>\n",
       "      <td>township, lahore, punjab</td>\n",
       "      <td>5</td>\n",
       "      <td>1 Kanal</td>\n",
       "      <td>For Sale</td>\n",
       "      <td>4</td>\n",
       "      <td>3 weeks ago</td>\n",
       "      <td>Township A1Haider RoadSemi commercial House1 K...</td>\n",
       "      <td>NaN</td>\n",
       "      <td>NaN</td>\n",
       "      <td>lahore</td>\n",
       "      <td>punjab</td>\n",
       "      <td>township</td>\n",
       "      <td>Crore</td>\n",
       "    </tr>\n",
       "  </tbody>\n",
       "</table>\n",
       "</div>"
      ],
      "text/plain": [
       "                                                     url   \n",
       "14024   https://zameen.com/Property/dha_defence_dha_p...  \\\n",
       "18810   https://zameen.com/Property/bahria_town_bahri...   \n",
       "18434   https://zameen.com/Property/bahria_town_secto...   \n",
       "34156   https://zameen.com/Property/lahore_captain_ja...   \n",
       "37429   https://zameen.com/Property/township_township...   \n",
       "\n",
       "                                           property_name   type  price   \n",
       "14024  1 Kanal Brand New Spanish Design Top Location ...  House   7.95  \\\n",
       "18810  Beautiful 10 Marla House For Sale In Sector C ...  House   4.00   \n",
       "18434  10 Marla LDA Approved Brand New House For Sale...  House   3.95   \n",
       "34156  Brand New Double Storey House Is Available For...  House  52.00   \n",
       "37429  20 Marla Semi Commercial House Haider Road tow...  House   7.00   \n",
       "\n",
       "                                 location baths      area   purpose bedrooms   \n",
       "14024         dha defence, lahore, punjab     6   1 Kanal  For Sale        5  \\\n",
       "18810         bahria town, lahore, punjab     4  10 Marla  For Sale        5   \n",
       "18434         bahria town, lahore, punjab     6  10 Marla  For Sale        5   \n",
       "34156  captain jamal road, lahore, punjab     -   2 Marla  For Sale        3   \n",
       "37429            township, lahore, punjab     5   1 Kanal  For Sale        4   \n",
       "\n",
       "             added                                        description   \n",
       "14024    1 day ago  HARMAIN REAL ESTATE OFFERS' HIDDEN OUT OF MARK...  \\\n",
       "18810  2 weeks ago  Dear Valued CustomerAssalam O alaikumLuxurious...   \n",
       "18434  1 month ago  Meta Properties offers best investment opportu...   \n",
       "34156  4 years ago  House Is Available For Sale. Ideal Location. R...   \n",
       "37429  3 weeks ago  Township A1Haider RoadSemi commercial House1 K...   \n",
       "\n",
       "                                           main_features   \n",
       "14024  ['Built in year: 2023', 'Parking Spaces: 4', '...  \\\n",
       "18810  ['Built in year: 2023', 'Parking Spaces: 2', '...   \n",
       "18434  ['Built in year: 2023', 'Parking Spaces', 'Flo...   \n",
       "34156                                                NaN   \n",
       "37429                                                NaN   \n",
       "\n",
       "                                                   rooms     city province   \n",
       "14024  ['Bedrooms: 5', 'Bathrooms: 6', 'Servant Quart...   lahore   punjab  \\\n",
       "18810                                                NaN   lahore   punjab   \n",
       "18434  ['Bedrooms: 5', 'Bathrooms: 6', 'Servant Quart...   lahore   punjab   \n",
       "34156                                    ['Bedrooms: 3']   lahore   punjab   \n",
       "37429                                                NaN   lahore   punjab   \n",
       "\n",
       "                     town price_unit  \n",
       "14024         dha defence      Crore  \n",
       "18810         bahria town      Crore  \n",
       "18434         bahria town      Crore  \n",
       "34156  captain jamal road       Lakh  \n",
       "37429            township      Crore  "
      ]
     },
     "execution_count": 210,
     "metadata": {},
     "output_type": "execute_result"
    }
   ],
   "source": [
    "# separate the price and its unit\n",
    "df_clean.sample(5)"
   ]
  },
  {
   "cell_type": "code",
   "execution_count": 211,
   "metadata": {},
   "outputs": [],
   "source": [
    "# converting price col to one range i.e thousand\n",
    "price_units = df_clean['price_unit'].unique().tolist()\n",
    "for price_unit in price_units:\n",
    "    if price_unit == 'Crore':\n",
    "        df_clean.loc[df_clean['price_unit'] == 'Crore', 'price'] = df_clean.loc[df_clean['price_unit'] == 'Crore', 'price']*10000000\n",
    "    elif price_unit == 'Thousand':\n",
    "        df_clean.loc[df_clean['price_unit'] == 'Thousand', 'price'] = df_clean.loc[df_clean['price_unit'] == 'Thousand', 'price']*1000\n",
    "    elif price_unit == 'Arab':\n",
    "        df_clean.loc[df_clean['price_unit'] == 'Arab', 'price'] = df_clean.loc[df_clean['price_unit'] == 'Arab', 'price']*1000000000\n",
    "    elif price_unit == 'Lakh':\n",
    "        df_clean.loc[df_clean['price_unit'] == 'Lakh', 'price'] = df_clean.loc[df_clean['price_unit'] == 'Lakh', 'price']*100000\n",
    "    else:\n",
    "        continue"
   ]
  },
  {
   "cell_type": "code",
   "execution_count": 212,
   "metadata": {},
   "outputs": [
    {
     "data": {
      "text/html": [
       "<div>\n",
       "<style scoped>\n",
       "    .dataframe tbody tr th:only-of-type {\n",
       "        vertical-align: middle;\n",
       "    }\n",
       "\n",
       "    .dataframe tbody tr th {\n",
       "        vertical-align: top;\n",
       "    }\n",
       "\n",
       "    .dataframe thead th {\n",
       "        text-align: right;\n",
       "    }\n",
       "</style>\n",
       "<table border=\"1\" class=\"dataframe\">\n",
       "  <thead>\n",
       "    <tr style=\"text-align: right;\">\n",
       "      <th></th>\n",
       "      <th>url</th>\n",
       "      <th>property_name</th>\n",
       "      <th>type</th>\n",
       "      <th>price</th>\n",
       "      <th>location</th>\n",
       "      <th>baths</th>\n",
       "      <th>area</th>\n",
       "      <th>purpose</th>\n",
       "      <th>bedrooms</th>\n",
       "      <th>added</th>\n",
       "      <th>description</th>\n",
       "      <th>main_features</th>\n",
       "      <th>rooms</th>\n",
       "      <th>city</th>\n",
       "      <th>province</th>\n",
       "      <th>town</th>\n",
       "      <th>price_unit</th>\n",
       "    </tr>\n",
       "  </thead>\n",
       "  <tbody>\n",
       "    <tr>\n",
       "      <th>16620</th>\n",
       "      <td>https://zameen.com/Property/dha_defence_dha_p...</td>\n",
       "      <td>1 Kanal Brand New Modern Design House Availabl...</td>\n",
       "      <td>House</td>\n",
       "      <td>78000000.0</td>\n",
       "      <td>dha defence, lahore, punjab</td>\n",
       "      <td>6</td>\n",
       "      <td>1 Kanal</td>\n",
       "      <td>For Sale</td>\n",
       "      <td>5</td>\n",
       "      <td>2 days ago</td>\n",
       "      <td>Leppon Estate &amp; Builders Offers:1 Kanal Brand ...</td>\n",
       "      <td>['Built in year: 2023', 'Parking Spaces: 4', '...</td>\n",
       "      <td>['Bedrooms: 5', 'Bathrooms: 6', 'Servant Quart...</td>\n",
       "      <td>lahore</td>\n",
       "      <td>punjab</td>\n",
       "      <td>dha defence</td>\n",
       "      <td>Crore</td>\n",
       "    </tr>\n",
       "    <tr>\n",
       "      <th>33101</th>\n",
       "      <td>https://zameen.com/Property/lahore_kasur_road...</td>\n",
       "      <td>4 Marla Dabal Storey House Available For Sale ...</td>\n",
       "      <td>House</td>\n",
       "      <td>5500000.0</td>\n",
       "      <td>lahore - kasur road, lahore, punjab</td>\n",
       "      <td>3</td>\n",
       "      <td>4 Marla</td>\n",
       "      <td>For Sale</td>\n",
       "      <td>3</td>\n",
       "      <td>1 year ago</td>\n",
       "      <td>4 Marla Double Storey House Available For Sale...</td>\n",
       "      <td>NaN</td>\n",
       "      <td>NaN</td>\n",
       "      <td>lahore</td>\n",
       "      <td>punjab</td>\n",
       "      <td>lahore - kasur road</td>\n",
       "      <td>Lakh</td>\n",
       "    </tr>\n",
       "    <tr>\n",
       "      <th>14872</th>\n",
       "      <td>https://zameen.com/Property/dha_phase_3_dha_p...</td>\n",
       "      <td>1 kanal house for sale in DHA phase 3 Xx Block...</td>\n",
       "      <td>House</td>\n",
       "      <td>82500000.0</td>\n",
       "      <td>dha defence, lahore, punjab</td>\n",
       "      <td>6</td>\n",
       "      <td>1 Kanal</td>\n",
       "      <td>For Sale</td>\n",
       "      <td>5</td>\n",
       "      <td>4 days ago</td>\n",
       "      <td>Bhatti Associates Offers1 kanal basement house...</td>\n",
       "      <td>['Parking Spaces: 4', 'Double Glazed Windows',...</td>\n",
       "      <td>['Bedrooms: 5', 'Bathrooms: 6', 'Servant Quart...</td>\n",
       "      <td>lahore</td>\n",
       "      <td>punjab</td>\n",
       "      <td>dha defence</td>\n",
       "      <td>Crore</td>\n",
       "    </tr>\n",
       "    <tr>\n",
       "      <th>13861</th>\n",
       "      <td>https://zameen.com/Property/dha_defence_dha_p...</td>\n",
       "      <td>2 Kanal Brand New Spanish Design Fully Furnish...</td>\n",
       "      <td>House</td>\n",
       "      <td>270000000.0</td>\n",
       "      <td>dha defence, lahore, punjab</td>\n",
       "      <td>6</td>\n",
       "      <td>1 Kanal</td>\n",
       "      <td>For Sale</td>\n",
       "      <td>6</td>\n",
       "      <td>1 day ago</td>\n",
       "      <td>Yasir Brothers Offers:2 Kanal Bungalow Details...</td>\n",
       "      <td>['Built in year: 2023', 'Parking Spaces: 5', '...</td>\n",
       "      <td>['Bedrooms: 6', 'Bathrooms: 6', 'Servant Quart...</td>\n",
       "      <td>lahore</td>\n",
       "      <td>punjab</td>\n",
       "      <td>dha defence</td>\n",
       "      <td>Crore</td>\n",
       "    </tr>\n",
       "    <tr>\n",
       "      <th>9616</th>\n",
       "      <td>https://zameen.com/Property/islamabad_e-11_br...</td>\n",
       "      <td>Brand New Double Storey 8 Marla House Availabl...</td>\n",
       "      <td>House</td>\n",
       "      <td>75000000.0</td>\n",
       "      <td>e-11, islamabad, islamabad capital</td>\n",
       "      <td>6</td>\n",
       "      <td>8 Marla</td>\n",
       "      <td>For Sale</td>\n",
       "      <td>5</td>\n",
       "      <td>4 weeks ago</td>\n",
       "      <td>8 Marla brand new double story house for sale ...</td>\n",
       "      <td>NaN</td>\n",
       "      <td>NaN</td>\n",
       "      <td>islamabad</td>\n",
       "      <td>islamabad capital</td>\n",
       "      <td>e-11</td>\n",
       "      <td>Crore</td>\n",
       "    </tr>\n",
       "  </tbody>\n",
       "</table>\n",
       "</div>"
      ],
      "text/plain": [
       "                                                     url   \n",
       "16620   https://zameen.com/Property/dha_defence_dha_p...  \\\n",
       "33101   https://zameen.com/Property/lahore_kasur_road...   \n",
       "14872   https://zameen.com/Property/dha_phase_3_dha_p...   \n",
       "13861   https://zameen.com/Property/dha_defence_dha_p...   \n",
       "9616    https://zameen.com/Property/islamabad_e-11_br...   \n",
       "\n",
       "                                           property_name   type        price   \n",
       "16620  1 Kanal Brand New Modern Design House Availabl...  House   78000000.0  \\\n",
       "33101  4 Marla Dabal Storey House Available For Sale ...  House    5500000.0   \n",
       "14872  1 kanal house for sale in DHA phase 3 Xx Block...  House   82500000.0   \n",
       "13861  2 Kanal Brand New Spanish Design Fully Furnish...  House  270000000.0   \n",
       "9616   Brand New Double Storey 8 Marla House Availabl...  House   75000000.0   \n",
       "\n",
       "                                  location baths     area   purpose bedrooms   \n",
       "16620          dha defence, lahore, punjab     6  1 Kanal  For Sale        5  \\\n",
       "33101  lahore - kasur road, lahore, punjab     3  4 Marla  For Sale        3   \n",
       "14872          dha defence, lahore, punjab     6  1 Kanal  For Sale        5   \n",
       "13861          dha defence, lahore, punjab     6  1 Kanal  For Sale        6   \n",
       "9616    e-11, islamabad, islamabad capital     6  8 Marla  For Sale        5   \n",
       "\n",
       "             added                                        description   \n",
       "16620   2 days ago  Leppon Estate & Builders Offers:1 Kanal Brand ...  \\\n",
       "33101   1 year ago  4 Marla Double Storey House Available For Sale...   \n",
       "14872   4 days ago  Bhatti Associates Offers1 kanal basement house...   \n",
       "13861    1 day ago  Yasir Brothers Offers:2 Kanal Bungalow Details...   \n",
       "9616   4 weeks ago  8 Marla brand new double story house for sale ...   \n",
       "\n",
       "                                           main_features   \n",
       "16620  ['Built in year: 2023', 'Parking Spaces: 4', '...  \\\n",
       "33101                                                NaN   \n",
       "14872  ['Parking Spaces: 4', 'Double Glazed Windows',...   \n",
       "13861  ['Built in year: 2023', 'Parking Spaces: 5', '...   \n",
       "9616                                                 NaN   \n",
       "\n",
       "                                                   rooms        city   \n",
       "16620  ['Bedrooms: 5', 'Bathrooms: 6', 'Servant Quart...      lahore  \\\n",
       "33101                                                NaN      lahore   \n",
       "14872  ['Bedrooms: 5', 'Bathrooms: 6', 'Servant Quart...      lahore   \n",
       "13861  ['Bedrooms: 6', 'Bathrooms: 6', 'Servant Quart...      lahore   \n",
       "9616                                                 NaN   islamabad   \n",
       "\n",
       "                 province                 town price_unit  \n",
       "16620              punjab          dha defence      Crore  \n",
       "33101              punjab  lahore - kasur road       Lakh  \n",
       "14872              punjab          dha defence      Crore  \n",
       "13861              punjab          dha defence      Crore  \n",
       "9616    islamabad capital                 e-11      Crore  "
      ]
     },
     "execution_count": 212,
     "metadata": {},
     "output_type": "execute_result"
    }
   ],
   "source": [
    "df_clean.sample(5)"
   ]
  },
  {
   "cell_type": "markdown",
   "metadata": {},
   "source": [
    "### **Working on Added column**\n",
    "\n",
    "It is necessary to remove all those houses data which were added before 2.5 years because price of house also  \n",
    "depends on dollar rate."
   ]
  },
  {
   "cell_type": "code",
   "execution_count": 213,
   "metadata": {},
   "outputs": [
    {
     "data": {
      "text/plain": [
       "added_time_unit\n",
       "weeks      10830\n",
       "years      10457\n",
       "days       10068\n",
       "months      4421\n",
       "week        4024\n",
       "month       3364\n",
       "hours       2821\n",
       "year        1884\n",
       "day         1627\n",
       "minutes      133\n",
       "hour          62\n",
       "minute         4\n",
       "Name: count, dtype: int64"
      ]
     },
     "execution_count": 213,
     "metadata": {},
     "output_type": "execute_result"
    }
   ],
   "source": [
    "# no need of 'ago'\n",
    "df_clean['added'] = df_clean['added'].str.replace(\" ago\", \"\")\n",
    "# extract the time\n",
    "df_clean[\"added_time\"] = df_clean[\"added\"].apply(lambda x: int(x.split(\" \")[0]))\n",
    "# extract time unit (days, weeks, months and years)\n",
    "df_clean['added_time_unit'] = df_clean['added'].apply(lambda x: x.split(\" \")[-1])\n",
    "df_clean['added_time_unit'].value_counts()"
   ]
  },
  {
   "cell_type": "code",
   "execution_count": 214,
   "metadata": {},
   "outputs": [
    {
     "data": {
      "text/html": [
       "<div>\n",
       "<style scoped>\n",
       "    .dataframe tbody tr th:only-of-type {\n",
       "        vertical-align: middle;\n",
       "    }\n",
       "\n",
       "    .dataframe tbody tr th {\n",
       "        vertical-align: top;\n",
       "    }\n",
       "\n",
       "    .dataframe thead th {\n",
       "        text-align: right;\n",
       "    }\n",
       "</style>\n",
       "<table border=\"1\" class=\"dataframe\">\n",
       "  <thead>\n",
       "    <tr style=\"text-align: right;\">\n",
       "      <th></th>\n",
       "      <th>added</th>\n",
       "      <th>added_time</th>\n",
       "      <th>added_time_unit</th>\n",
       "    </tr>\n",
       "  </thead>\n",
       "  <tbody>\n",
       "    <tr>\n",
       "      <th>42872</th>\n",
       "      <td>1 week</td>\n",
       "      <td>1</td>\n",
       "      <td>week</td>\n",
       "    </tr>\n",
       "    <tr>\n",
       "      <th>21572</th>\n",
       "      <td>4 days</td>\n",
       "      <td>4</td>\n",
       "      <td>days</td>\n",
       "    </tr>\n",
       "    <tr>\n",
       "      <th>23225</th>\n",
       "      <td>1 month</td>\n",
       "      <td>1</td>\n",
       "      <td>month</td>\n",
       "    </tr>\n",
       "  </tbody>\n",
       "</table>\n",
       "</div>"
      ],
      "text/plain": [
       "         added  added_time added_time_unit\n",
       "42872   1 week           1            week\n",
       "21572   4 days           4            days\n",
       "23225  1 month           1           month"
      ]
     },
     "execution_count": 214,
     "metadata": {},
     "output_type": "execute_result"
    }
   ],
   "source": [
    "df_clean[['added', 'added_time', 'added_time_unit']].sample(3)"
   ]
  },
  {
   "cell_type": "code",
   "execution_count": 215,
   "metadata": {},
   "outputs": [
    {
     "data": {
      "text/plain": [
       "added_time_unit\n",
       "weeks      14854\n",
       "years      12341\n",
       "days       11695\n",
       "months      7785\n",
       "hours       2883\n",
       "minutes      137\n",
       "Name: count, dtype: int64"
      ]
     },
     "execution_count": 215,
     "metadata": {},
     "output_type": "execute_result"
    }
   ],
   "source": [
    "df_clean['added_time_unit'].replace({\"week\" : \"weeks\", \"month\" : \"months\",\n",
    "                            \"year\" : \"years\", \"hour\" : \"hours\", \"day\" : \"days\",\n",
    "                            \"minute\" : \"minutes\"}, inplace=True)\n",
    "df_clean['added_time_unit'].value_counts()"
   ]
  },
  {
   "cell_type": "code",
   "execution_count": 216,
   "metadata": {},
   "outputs": [],
   "source": [
    "# converting added_time to one range (days)\n",
    "df_clean.loc[df_clean['added_time_unit'] == 'hours', 'added_time'] = 1\n",
    "df_clean.loc[df_clean['added_time_unit'] == 'minutes', 'added_time'] = 1\n",
    "for unique_unit in df_clean[\"added_time_unit\"].unique().tolist():\n",
    "    if unique_unit == \"years\":\n",
    "        df_clean.loc[df_clean['added_time_unit'] == 'years', 'added_time'] = df_clean.loc[df_clean['added_time_unit'] == 'years', 'added_time']*365\n",
    "    elif unique_unit == \"months\":\n",
    "        df_clean.loc[df_clean['added_time_unit'] == 'months', 'added_time'] = df_clean.loc[df_clean['added_time_unit'] == 'months', 'added_time']*30\n",
    "    elif unique_unit == \"weeks\":\n",
    "        df_clean.loc[df_clean['added_time_unit'] == 'weeks', 'added_time'] = df_clean.loc[df_clean['added_time_unit'] == 'weeks', 'added_time']*7\n",
    "    else:\n",
    "        continue"
   ]
  },
  {
   "cell_type": "code",
   "execution_count": 217,
   "metadata": {},
   "outputs": [
    {
     "data": {
      "text/html": [
       "<div>\n",
       "<style scoped>\n",
       "    .dataframe tbody tr th:only-of-type {\n",
       "        vertical-align: middle;\n",
       "    }\n",
       "\n",
       "    .dataframe tbody tr th {\n",
       "        vertical-align: top;\n",
       "    }\n",
       "\n",
       "    .dataframe thead th {\n",
       "        text-align: right;\n",
       "    }\n",
       "</style>\n",
       "<table border=\"1\" class=\"dataframe\">\n",
       "  <thead>\n",
       "    <tr style=\"text-align: right;\">\n",
       "      <th></th>\n",
       "      <th>added</th>\n",
       "      <th>added_time</th>\n",
       "      <th>added_time_unit</th>\n",
       "    </tr>\n",
       "  </thead>\n",
       "  <tbody>\n",
       "    <tr>\n",
       "      <th>29239</th>\n",
       "      <td>1 year</td>\n",
       "      <td>365</td>\n",
       "      <td>years</td>\n",
       "    </tr>\n",
       "    <tr>\n",
       "      <th>4675</th>\n",
       "      <td>2 months</td>\n",
       "      <td>60</td>\n",
       "      <td>months</td>\n",
       "    </tr>\n",
       "    <tr>\n",
       "      <th>39794</th>\n",
       "      <td>2 months</td>\n",
       "      <td>60</td>\n",
       "      <td>months</td>\n",
       "    </tr>\n",
       "    <tr>\n",
       "      <th>32016</th>\n",
       "      <td>2 years</td>\n",
       "      <td>730</td>\n",
       "      <td>years</td>\n",
       "    </tr>\n",
       "    <tr>\n",
       "      <th>40026</th>\n",
       "      <td>2 weeks</td>\n",
       "      <td>14</td>\n",
       "      <td>weeks</td>\n",
       "    </tr>\n",
       "  </tbody>\n",
       "</table>\n",
       "</div>"
      ],
      "text/plain": [
       "          added  added_time added_time_unit\n",
       "29239    1 year         365           years\n",
       "4675   2 months          60          months\n",
       "39794  2 months          60          months\n",
       "32016   2 years         730           years\n",
       "40026   2 weeks          14           weeks"
      ]
     },
     "execution_count": 217,
     "metadata": {},
     "output_type": "execute_result"
    }
   ],
   "source": [
    "df_clean[[\"added\", \"added_time\", \"added_time_unit\"]].sample(5)"
   ]
  },
  {
   "cell_type": "code",
   "execution_count": 218,
   "metadata": {},
   "outputs": [
    {
     "data": {
      "text/plain": [
       "(43328, 19)"
      ]
     },
     "execution_count": 218,
     "metadata": {},
     "output_type": "execute_result"
    }
   ],
   "source": [
    "# data of only two years\n",
    "df_clean[df_clean[\"added_time\"] <= 365*2].shape"
   ]
  },
  {
   "cell_type": "markdown",
   "metadata": {},
   "source": [
    "### **Working on Area column**"
   ]
  },
  {
   "cell_type": "code",
   "execution_count": 219,
   "metadata": {},
   "outputs": [
    {
     "data": {
      "text/plain": [
       "0        10 Marla\n",
       "1        12 Marla\n",
       "2         1 Kanal\n",
       "3         1 Kanal\n",
       "4         1 Kanal\n",
       "           ...   \n",
       "50714    10 Marla\n",
       "50715     7 Marla\n",
       "50716     7 Marla\n",
       "50717    10 Marla\n",
       "50718     6 Marla\n",
       "Name: area, Length: 49695, dtype: object"
      ]
     },
     "execution_count": 219,
     "metadata": {},
     "output_type": "execute_result"
    }
   ],
   "source": [
    "# how looks\n",
    "df_clean[\"area\"]"
   ]
  },
  {
   "cell_type": "code",
   "execution_count": 220,
   "metadata": {},
   "outputs": [
    {
     "data": {
      "text/plain": [
       "area\n",
       "5 Marla      10704\n",
       "10 Marla      7935\n",
       "1 Kanal       7460\n",
       "3 Marla       3546\n",
       "4 Marla       2218\n",
       "             ...  \n",
       "5.9 Kanal        1\n",
       "14 Kanal         1\n",
       "19 Kanal         1\n",
       "6.5 Kanal        1\n",
       "50 Kanal         1\n",
       "Name: count, Length: 242, dtype: int64"
      ]
     },
     "execution_count": 220,
     "metadata": {},
     "output_type": "execute_result"
    }
   ],
   "source": [
    "df_clean[\"area\"].value_counts()"
   ]
  },
  {
   "cell_type": "code",
   "execution_count": 221,
   "metadata": {},
   "outputs": [
    {
     "data": {
      "text/plain": [
       "(232, 19)"
      ]
     },
     "execution_count": 221,
     "metadata": {},
     "output_type": "execute_result"
    }
   ],
   "source": [
    "# total no. of rows where area is -.\n",
    "df_clean[df_clean[\"area\"] == \"-\"].shape"
   ]
  },
  {
   "cell_type": "markdown",
   "metadata": {},
   "source": [
    "There are 232 rows where area isn't mentioned. So we need to extract this data from either property name or description."
   ]
  },
  {
   "cell_type": "code",
   "execution_count": 222,
   "metadata": {},
   "outputs": [
    {
     "data": {
      "text/plain": [
       "4"
      ]
     },
     "execution_count": 222,
     "metadata": {},
     "output_type": "execute_result"
    }
   ],
   "source": [
    "# no. of rows where property_name column contains area (kanal only)\n",
    "df_clean[df_clean[\"area\"] == \"-\"][\"property_name\"].str.contains(\"Kanal\").sum()"
   ]
  },
  {
   "cell_type": "code",
   "execution_count": 223,
   "metadata": {},
   "outputs": [
    {
     "data": {
      "text/plain": [
       "132"
      ]
     },
     "execution_count": 223,
     "metadata": {},
     "output_type": "execute_result"
    }
   ],
   "source": [
    "# no. of rows where property_name column contains area (manal only)\n",
    "df_clean[df_clean[\"area\"] == \"-\"][\"property_name\"].str.contains(\"Marla\").sum()"
   ]
  },
  {
   "cell_type": "code",
   "execution_count": 224,
   "metadata": {},
   "outputs": [
    {
     "data": {
      "text/plain": [
       "65"
      ]
     },
     "execution_count": 224,
     "metadata": {},
     "output_type": "execute_result"
    }
   ],
   "source": [
    "# no. of rows where description column contains area (manal only)\n",
    "df_clean[df_clean[\"area\"] == \"-\"][\"description\"].str.contains(\"Marla\").sum()"
   ]
  },
  {
   "cell_type": "code",
   "execution_count": 225,
   "metadata": {},
   "outputs": [
    {
     "data": {
      "text/plain": [
       "28"
      ]
     },
     "execution_count": 225,
     "metadata": {},
     "output_type": "execute_result"
    }
   ],
   "source": [
    "# no. of rows where description column contains area (kanal only)\n",
    "df_clean[df_clean[\"area\"] == \"-\"][\"description\"].str.contains(\"Kanal\").sum()"
   ]
  },
  {
   "cell_type": "code",
   "execution_count": 226,
   "metadata": {},
   "outputs": [],
   "source": [
    "# converting description and property name into lower case\n",
    "df_clean[\"description\"] = df_clean[\"description\"].str.lower()\n",
    "df_clean[\"property_name\"] = df_clean[\"property_name\"].str.lower()"
   ]
  },
  {
   "cell_type": "code",
   "execution_count": 227,
   "metadata": {},
   "outputs": [
    {
     "data": {
      "text/html": [
       "<div>\n",
       "<style scoped>\n",
       "    .dataframe tbody tr th:only-of-type {\n",
       "        vertical-align: middle;\n",
       "    }\n",
       "\n",
       "    .dataframe tbody tr th {\n",
       "        vertical-align: top;\n",
       "    }\n",
       "\n",
       "    .dataframe thead th {\n",
       "        text-align: right;\n",
       "    }\n",
       "</style>\n",
       "<table border=\"1\" class=\"dataframe\">\n",
       "  <thead>\n",
       "    <tr style=\"text-align: right;\">\n",
       "      <th></th>\n",
       "      <th>url</th>\n",
       "      <th>property_name</th>\n",
       "      <th>type</th>\n",
       "      <th>price</th>\n",
       "      <th>location</th>\n",
       "      <th>baths</th>\n",
       "      <th>area</th>\n",
       "      <th>purpose</th>\n",
       "      <th>bedrooms</th>\n",
       "      <th>added</th>\n",
       "      <th>description</th>\n",
       "      <th>main_features</th>\n",
       "      <th>rooms</th>\n",
       "      <th>city</th>\n",
       "      <th>province</th>\n",
       "      <th>town</th>\n",
       "      <th>price_unit</th>\n",
       "      <th>added_time</th>\n",
       "      <th>added_time_unit</th>\n",
       "    </tr>\n",
       "  </thead>\n",
       "  <tbody>\n",
       "    <tr>\n",
       "      <th>42</th>\n",
       "      <td>https://zameen.com/Property/dha_defence_dha_d...</td>\n",
       "      <td>20 marla house in central dha defence phase 2 ...</td>\n",
       "      <td>House</td>\n",
       "      <td>130000000.0</td>\n",
       "      <td>dha defence, islamabad, islamabad capital</td>\n",
       "      <td>5</td>\n",
       "      <td>-</td>\n",
       "      <td>For Sale</td>\n",
       "      <td>5</td>\n",
       "      <td>15 hours</td>\n",
       "      <td>house for saledha 2 islamabadbeautiful housema...</td>\n",
       "      <td>['Built in year: 0000', 'Double Glazed Windows...</td>\n",
       "      <td>['Drawing Room', 'Dining Room', 'Study Room', ...</td>\n",
       "      <td>islamabad</td>\n",
       "      <td>islamabad capital</td>\n",
       "      <td>dha defence</td>\n",
       "      <td>Crore</td>\n",
       "      <td>1</td>\n",
       "      <td>hours</td>\n",
       "    </tr>\n",
       "    <tr>\n",
       "      <th>45</th>\n",
       "      <td>https://zameen.com/Property/dha_defence_dha_d...</td>\n",
       "      <td>20 marla spacious house is available in dha de...</td>\n",
       "      <td>House</td>\n",
       "      <td>105000000.0</td>\n",
       "      <td>dha defence, islamabad, islamabad capital</td>\n",
       "      <td>6</td>\n",
       "      <td>-</td>\n",
       "      <td>For Sale</td>\n",
       "      <td>6</td>\n",
       "      <td>16 hours</td>\n",
       "      <td>house for sale dha 2 islamabad beautiful house...</td>\n",
       "      <td>['Built in year: 0000', 'Double Glazed Windows...</td>\n",
       "      <td>['Drawing Room', 'Dining Room', 'Study Room', ...</td>\n",
       "      <td>islamabad</td>\n",
       "      <td>islamabad capital</td>\n",
       "      <td>dha defence</td>\n",
       "      <td>Crore</td>\n",
       "      <td>1</td>\n",
       "      <td>hours</td>\n",
       "    </tr>\n",
       "    <tr>\n",
       "      <th>70</th>\n",
       "      <td>https://zameen.com/Property/dha_defence_dha_d...</td>\n",
       "      <td>a 20 marla house is up for grabs in dha defence</td>\n",
       "      <td>House</td>\n",
       "      <td>87500000.0</td>\n",
       "      <td>dha defence, islamabad, islamabad capital</td>\n",
       "      <td>6</td>\n",
       "      <td>-</td>\n",
       "      <td>For Sale</td>\n",
       "      <td>6</td>\n",
       "      <td>17 hours</td>\n",
       "      <td>brand new beautiful designer house  dha 2 isla...</td>\n",
       "      <td>['Built in year: 0000', 'Double Glazed Windows...</td>\n",
       "      <td>['Drawing Room', 'Dining Room', 'Study Room', ...</td>\n",
       "      <td>islamabad</td>\n",
       "      <td>islamabad capital</td>\n",
       "      <td>dha defence</td>\n",
       "      <td>Crore</td>\n",
       "      <td>1</td>\n",
       "      <td>hours</td>\n",
       "    </tr>\n",
       "    <tr>\n",
       "      <th>133</th>\n",
       "      <td>https://zameen.com/Property/dha_defence_dha_d...</td>\n",
       "      <td>21 marla house is available in dha defence pha...</td>\n",
       "      <td>House</td>\n",
       "      <td>99000000.0</td>\n",
       "      <td>dha defence, islamabad, islamabad capital</td>\n",
       "      <td>6</td>\n",
       "      <td>-</td>\n",
       "      <td>For Sale</td>\n",
       "      <td>6</td>\n",
       "      <td>1 week</td>\n",
       "      <td>beautiful designer house dha 2 islamabad beaut...</td>\n",
       "      <td>['Built in year: 0000', 'Double Glazed Windows...</td>\n",
       "      <td>['Drawing Room', 'Dining Room', 'Study Room', ...</td>\n",
       "      <td>islamabad</td>\n",
       "      <td>islamabad capital</td>\n",
       "      <td>dha defence</td>\n",
       "      <td>Crore</td>\n",
       "      <td>7</td>\n",
       "      <td>weeks</td>\n",
       "    </tr>\n",
       "    <tr>\n",
       "      <th>146</th>\n",
       "      <td>https://zameen.com/Property/dha_defence_dha_d...</td>\n",
       "      <td>good 20 marla house for sale in dha defence ph...</td>\n",
       "      <td>House</td>\n",
       "      <td>99000000.0</td>\n",
       "      <td>dha defence, islamabad, islamabad capital</td>\n",
       "      <td>6</td>\n",
       "      <td>-</td>\n",
       "      <td>For Sale</td>\n",
       "      <td>6</td>\n",
       "      <td>22 hours</td>\n",
       "      <td>house for sale dha 2 islamabad beautiful house...</td>\n",
       "      <td>['Built in year: 0000', 'Double Glazed Windows...</td>\n",
       "      <td>['Drawing Room', 'Dining Room', 'Study Room', ...</td>\n",
       "      <td>islamabad</td>\n",
       "      <td>islamabad capital</td>\n",
       "      <td>dha defence</td>\n",
       "      <td>Crore</td>\n",
       "      <td>1</td>\n",
       "      <td>hours</td>\n",
       "    </tr>\n",
       "    <tr>\n",
       "      <th>...</th>\n",
       "      <td>...</td>\n",
       "      <td>...</td>\n",
       "      <td>...</td>\n",
       "      <td>...</td>\n",
       "      <td>...</td>\n",
       "      <td>...</td>\n",
       "      <td>...</td>\n",
       "      <td>...</td>\n",
       "      <td>...</td>\n",
       "      <td>...</td>\n",
       "      <td>...</td>\n",
       "      <td>...</td>\n",
       "      <td>...</td>\n",
       "      <td>...</td>\n",
       "      <td>...</td>\n",
       "      <td>...</td>\n",
       "      <td>...</td>\n",
       "      <td>...</td>\n",
       "      <td>...</td>\n",
       "    </tr>\n",
       "    <tr>\n",
       "      <th>44356</th>\n",
       "      <td>https://zameen.com/Property/adiala_road_snobe...</td>\n",
       "      <td>prime location snober city house sized 5 marla</td>\n",
       "      <td>House</td>\n",
       "      <td>15500000.0</td>\n",
       "      <td>adiala road, rawalpindi, punjab</td>\n",
       "      <td>-</td>\n",
       "      <td>-</td>\n",
       "      <td>For Sale</td>\n",
       "      <td>-</td>\n",
       "      <td>1 month</td>\n",
       "      <td>just know that a purchasing opportunity like t...</td>\n",
       "      <td>NaN</td>\n",
       "      <td>NaN</td>\n",
       "      <td>rawalpindi</td>\n",
       "      <td>punjab</td>\n",
       "      <td>adiala road</td>\n",
       "      <td>Crore</td>\n",
       "      <td>30</td>\n",
       "      <td>months</td>\n",
       "    </tr>\n",
       "    <tr>\n",
       "      <th>44366</th>\n",
       "      <td>https://zameen.com/Property/rawalpindi_adiala...</td>\n",
       "      <td>prime location adiala road house sized 4 marla...</td>\n",
       "      <td>House</td>\n",
       "      <td>9000000.0</td>\n",
       "      <td>adiala road, rawalpindi, punjab</td>\n",
       "      <td>4</td>\n",
       "      <td>-</td>\n",
       "      <td>For Sale</td>\n",
       "      <td>4</td>\n",
       "      <td>1 month</td>\n",
       "      <td>this is the newest, most attractive neighbourh...</td>\n",
       "      <td>NaN</td>\n",
       "      <td>NaN</td>\n",
       "      <td>rawalpindi</td>\n",
       "      <td>punjab</td>\n",
       "      <td>adiala road</td>\n",
       "      <td>Lakh</td>\n",
       "      <td>30</td>\n",
       "      <td>months</td>\n",
       "    </tr>\n",
       "    <tr>\n",
       "      <th>45100</th>\n",
       "      <td>https://zameen.com/Property/gulshan_abad_guls...</td>\n",
       "      <td>get this amazing prime location 10 marla house...</td>\n",
       "      <td>House</td>\n",
       "      <td>26500000.0</td>\n",
       "      <td>gulshan abad, rawalpindi, punjab</td>\n",
       "      <td>-</td>\n",
       "      <td>-</td>\n",
       "      <td>For Sale</td>\n",
       "      <td>6</td>\n",
       "      <td>2 weeks</td>\n",
       "      <td>house for sale in gulshanabad sector 3 adiala ...</td>\n",
       "      <td>['Double Glazed Windows', 'Central Air Conditi...</td>\n",
       "      <td>['Bedrooms: 6', 'Bathrooms: 7', 'Servant Quart...</td>\n",
       "      <td>rawalpindi</td>\n",
       "      <td>punjab</td>\n",
       "      <td>gulshan abad</td>\n",
       "      <td>Crore</td>\n",
       "      <td>14</td>\n",
       "      <td>weeks</td>\n",
       "    </tr>\n",
       "    <tr>\n",
       "      <th>45422</th>\n",
       "      <td>https://zameen.com/Property/islamabad_highway...</td>\n",
       "      <td>prime location house of 3 marla is available f...</td>\n",
       "      <td>House</td>\n",
       "      <td>4500000.0</td>\n",
       "      <td>islamabad highway, rawalpindi, punjab</td>\n",
       "      <td>2</td>\n",
       "      <td>-</td>\n",
       "      <td>For Sale</td>\n",
       "      <td>2</td>\n",
       "      <td>1 month</td>\n",
       "      <td>waterelectricitygas availablenear to airport h...</td>\n",
       "      <td>NaN</td>\n",
       "      <td>NaN</td>\n",
       "      <td>rawalpindi</td>\n",
       "      <td>punjab</td>\n",
       "      <td>islamabad highway</td>\n",
       "      <td>Lakh</td>\n",
       "      <td>30</td>\n",
       "      <td>months</td>\n",
       "    </tr>\n",
       "    <tr>\n",
       "      <th>47281</th>\n",
       "      <td>https://zameen.com/Property/rawalpindi_punjab...</td>\n",
       "      <td>5 marla house for sale in punjab government se...</td>\n",
       "      <td>House</td>\n",
       "      <td>9500000.0</td>\n",
       "      <td>punjab government servant housing foundation (...</td>\n",
       "      <td>-</td>\n",
       "      <td>-</td>\n",
       "      <td>For Sale</td>\n",
       "      <td>-</td>\n",
       "      <td>1 month</td>\n",
       "      <td>punjab government servant housing foundation (...</td>\n",
       "      <td>NaN</td>\n",
       "      <td>NaN</td>\n",
       "      <td>rawalpindi</td>\n",
       "      <td>punjab</td>\n",
       "      <td>punjab government servant housing foundation (...</td>\n",
       "      <td>Lakh</td>\n",
       "      <td>30</td>\n",
       "      <td>months</td>\n",
       "    </tr>\n",
       "  </tbody>\n",
       "</table>\n",
       "<p>132 rows × 19 columns</p>\n",
       "</div>"
      ],
      "text/plain": [
       "                                                     url   \n",
       "42      https://zameen.com/Property/dha_defence_dha_d...  \\\n",
       "45      https://zameen.com/Property/dha_defence_dha_d...   \n",
       "70      https://zameen.com/Property/dha_defence_dha_d...   \n",
       "133     https://zameen.com/Property/dha_defence_dha_d...   \n",
       "146     https://zameen.com/Property/dha_defence_dha_d...   \n",
       "...                                                  ...   \n",
       "44356   https://zameen.com/Property/adiala_road_snobe...   \n",
       "44366   https://zameen.com/Property/rawalpindi_adiala...   \n",
       "45100   https://zameen.com/Property/gulshan_abad_guls...   \n",
       "45422   https://zameen.com/Property/islamabad_highway...   \n",
       "47281   https://zameen.com/Property/rawalpindi_punjab...   \n",
       "\n",
       "                                           property_name   type        price   \n",
       "42     20 marla house in central dha defence phase 2 ...  House  130000000.0  \\\n",
       "45     20 marla spacious house is available in dha de...  House  105000000.0   \n",
       "70       a 20 marla house is up for grabs in dha defence  House   87500000.0   \n",
       "133    21 marla house is available in dha defence pha...  House   99000000.0   \n",
       "146    good 20 marla house for sale in dha defence ph...  House   99000000.0   \n",
       "...                                                  ...    ...          ...   \n",
       "44356     prime location snober city house sized 5 marla  House   15500000.0   \n",
       "44366  prime location adiala road house sized 4 marla...  House    9000000.0   \n",
       "45100  get this amazing prime location 10 marla house...  House   26500000.0   \n",
       "45422  prime location house of 3 marla is available f...  House    4500000.0   \n",
       "47281  5 marla house for sale in punjab government se...  House    9500000.0   \n",
       "\n",
       "                                                location baths area   purpose   \n",
       "42             dha defence, islamabad, islamabad capital     5    -  For Sale  \\\n",
       "45             dha defence, islamabad, islamabad capital     6    -  For Sale   \n",
       "70             dha defence, islamabad, islamabad capital     6    -  For Sale   \n",
       "133            dha defence, islamabad, islamabad capital     6    -  For Sale   \n",
       "146            dha defence, islamabad, islamabad capital     6    -  For Sale   \n",
       "...                                                  ...   ...  ...       ...   \n",
       "44356                    adiala road, rawalpindi, punjab     -    -  For Sale   \n",
       "44366                    adiala road, rawalpindi, punjab     4    -  For Sale   \n",
       "45100                   gulshan abad, rawalpindi, punjab     -    -  For Sale   \n",
       "45422              islamabad highway, rawalpindi, punjab     2    -  For Sale   \n",
       "47281  punjab government servant housing foundation (...     -    -  For Sale   \n",
       "\n",
       "      bedrooms     added                                        description   \n",
       "42           5  15 hours  house for saledha 2 islamabadbeautiful housema...  \\\n",
       "45           6  16 hours  house for sale dha 2 islamabad beautiful house...   \n",
       "70           6  17 hours  brand new beautiful designer house  dha 2 isla...   \n",
       "133          6    1 week  beautiful designer house dha 2 islamabad beaut...   \n",
       "146          6  22 hours  house for sale dha 2 islamabad beautiful house...   \n",
       "...        ...       ...                                                ...   \n",
       "44356        -   1 month  just know that a purchasing opportunity like t...   \n",
       "44366        4   1 month  this is the newest, most attractive neighbourh...   \n",
       "45100        6   2 weeks  house for sale in gulshanabad sector 3 adiala ...   \n",
       "45422        2   1 month  waterelectricitygas availablenear to airport h...   \n",
       "47281        -   1 month  punjab government servant housing foundation (...   \n",
       "\n",
       "                                           main_features   \n",
       "42     ['Built in year: 0000', 'Double Glazed Windows...  \\\n",
       "45     ['Built in year: 0000', 'Double Glazed Windows...   \n",
       "70     ['Built in year: 0000', 'Double Glazed Windows...   \n",
       "133    ['Built in year: 0000', 'Double Glazed Windows...   \n",
       "146    ['Built in year: 0000', 'Double Glazed Windows...   \n",
       "...                                                  ...   \n",
       "44356                                                NaN   \n",
       "44366                                                NaN   \n",
       "45100  ['Double Glazed Windows', 'Central Air Conditi...   \n",
       "45422                                                NaN   \n",
       "47281                                                NaN   \n",
       "\n",
       "                                                   rooms         city   \n",
       "42     ['Drawing Room', 'Dining Room', 'Study Room', ...    islamabad  \\\n",
       "45     ['Drawing Room', 'Dining Room', 'Study Room', ...    islamabad   \n",
       "70     ['Drawing Room', 'Dining Room', 'Study Room', ...    islamabad   \n",
       "133    ['Drawing Room', 'Dining Room', 'Study Room', ...    islamabad   \n",
       "146    ['Drawing Room', 'Dining Room', 'Study Room', ...    islamabad   \n",
       "...                                                  ...          ...   \n",
       "44356                                                NaN   rawalpindi   \n",
       "44366                                                NaN   rawalpindi   \n",
       "45100  ['Bedrooms: 6', 'Bathrooms: 7', 'Servant Quart...   rawalpindi   \n",
       "45422                                                NaN   rawalpindi   \n",
       "47281                                                NaN   rawalpindi   \n",
       "\n",
       "                 province                                               town   \n",
       "42      islamabad capital                                        dha defence  \\\n",
       "45      islamabad capital                                        dha defence   \n",
       "70      islamabad capital                                        dha defence   \n",
       "133     islamabad capital                                        dha defence   \n",
       "146     islamabad capital                                        dha defence   \n",
       "...                   ...                                                ...   \n",
       "44356              punjab                                        adiala road   \n",
       "44366              punjab                                        adiala road   \n",
       "45100              punjab                                       gulshan abad   \n",
       "45422              punjab                                  islamabad highway   \n",
       "47281              punjab  punjab government servant housing foundation (...   \n",
       "\n",
       "      price_unit  added_time added_time_unit  \n",
       "42         Crore           1           hours  \n",
       "45         Crore           1           hours  \n",
       "70         Crore           1           hours  \n",
       "133        Crore           7           weeks  \n",
       "146        Crore           1           hours  \n",
       "...          ...         ...             ...  \n",
       "44356      Crore          30          months  \n",
       "44366       Lakh          30          months  \n",
       "45100      Crore          14           weeks  \n",
       "45422       Lakh          30          months  \n",
       "47281       Lakh          30          months  \n",
       "\n",
       "[132 rows x 19 columns]"
      ]
     },
     "execution_count": 227,
     "metadata": {},
     "output_type": "execute_result"
    }
   ],
   "source": [
    "# rows where area is - and property_name contains area details (only for marla)\n",
    "df_clean[(df_clean[\"area\"] == \"-\") & (df_clean[\"property_name\"].str.contains(\"marla\"))]"
   ]
  },
  {
   "cell_type": "code",
   "execution_count": 228,
   "metadata": {},
   "outputs": [],
   "source": [
    "# let's fill null values with `-`\n",
    "df_clean[\"property_name\"].fillna(\"-\", inplace=True)"
   ]
  },
  {
   "cell_type": "code",
   "execution_count": 229,
   "metadata": {},
   "outputs": [],
   "source": [
    "# we need to find the index where the string 'marla' exists in property_name\n",
    "df_clean[\"property_name_area_loc\"] = df_clean[\"property_name\"].apply(lambda x: x.find(\"marla\"))"
   ]
  },
  {
   "cell_type": "code",
   "execution_count": 230,
   "metadata": {},
   "outputs": [
    {
     "data": {
      "text/plain": [
       "0        3\n",
       "1       -1\n",
       "2       -1\n",
       "3        3\n",
       "4       -1\n",
       "        ..\n",
       "50714   -1\n",
       "50715   -1\n",
       "50716   -1\n",
       "50717   -1\n",
       "50718    2\n",
       "Name: property_name_area_loc, Length: 49695, dtype: int64"
      ]
     },
     "execution_count": 230,
     "metadata": {},
     "output_type": "execute_result"
    }
   ],
   "source": [
    "df_clean[\"property_name_area_loc\"]"
   ]
  },
  {
   "cell_type": "code",
   "execution_count": 231,
   "metadata": {},
   "outputs": [],
   "source": [
    "# extracting area details\n",
    "def extract_area_from_property_name(row):\n",
    "    if row.__contains__(\"marla\"):\n",
    "        marla_idx = row.find(\"marla\")\n",
    "        return row[:marla_idx].strip().split(\" \")[-1] + \" Marla\"\n",
    "    elif row.__contains__(\"kanal\"):\n",
    "        kanal_idx = row.find(\"kanal\")\n",
    "        return row[:kanal_idx].strip().split(\" \")[-1] + \" Kanal\"\n",
    "    else:\n",
    "        return \"-\""
   ]
  },
  {
   "cell_type": "code",
   "execution_count": 232,
   "metadata": {},
   "outputs": [],
   "source": [
    "df_clean[\"area_from_property_name\"] = df_clean[\"property_name\"].apply(extract_area_from_property_name)"
   ]
  },
  {
   "cell_type": "code",
   "execution_count": 233,
   "metadata": {},
   "outputs": [
    {
     "data": {
      "text/html": [
       "<div>\n",
       "<style scoped>\n",
       "    .dataframe tbody tr th:only-of-type {\n",
       "        vertical-align: middle;\n",
       "    }\n",
       "\n",
       "    .dataframe tbody tr th {\n",
       "        vertical-align: top;\n",
       "    }\n",
       "\n",
       "    .dataframe thead th {\n",
       "        text-align: right;\n",
       "    }\n",
       "</style>\n",
       "<table border=\"1\" class=\"dataframe\">\n",
       "  <thead>\n",
       "    <tr style=\"text-align: right;\">\n",
       "      <th></th>\n",
       "      <th>property_name</th>\n",
       "      <th>area_from_property_name</th>\n",
       "    </tr>\n",
       "  </thead>\n",
       "  <tbody>\n",
       "    <tr>\n",
       "      <th>42</th>\n",
       "      <td>20 marla house in central dha defence phase 2 ...</td>\n",
       "      <td>20 Marla</td>\n",
       "    </tr>\n",
       "    <tr>\n",
       "      <th>45</th>\n",
       "      <td>20 marla spacious house is available in dha de...</td>\n",
       "      <td>20 Marla</td>\n",
       "    </tr>\n",
       "    <tr>\n",
       "      <th>70</th>\n",
       "      <td>a 20 marla house is up for grabs in dha defence</td>\n",
       "      <td>20 Marla</td>\n",
       "    </tr>\n",
       "    <tr>\n",
       "      <th>133</th>\n",
       "      <td>21 marla house is available in dha defence pha...</td>\n",
       "      <td>21 Marla</td>\n",
       "    </tr>\n",
       "    <tr>\n",
       "      <th>146</th>\n",
       "      <td>good 20 marla house for sale in dha defence ph...</td>\n",
       "      <td>20 Marla</td>\n",
       "    </tr>\n",
       "    <tr>\n",
       "      <th>...</th>\n",
       "      <td>...</td>\n",
       "      <td>...</td>\n",
       "    </tr>\n",
       "    <tr>\n",
       "      <th>44356</th>\n",
       "      <td>prime location snober city house sized 5 marla</td>\n",
       "      <td>5 Marla</td>\n",
       "    </tr>\n",
       "    <tr>\n",
       "      <th>44366</th>\n",
       "      <td>prime location adiala road house sized 4 marla...</td>\n",
       "      <td>4 Marla</td>\n",
       "    </tr>\n",
       "    <tr>\n",
       "      <th>45100</th>\n",
       "      <td>get this amazing prime location 10 marla house...</td>\n",
       "      <td>10 Marla</td>\n",
       "    </tr>\n",
       "    <tr>\n",
       "      <th>45422</th>\n",
       "      <td>prime location house of 3 marla is available f...</td>\n",
       "      <td>3 Marla</td>\n",
       "    </tr>\n",
       "    <tr>\n",
       "      <th>47281</th>\n",
       "      <td>5 marla house for sale in punjab government se...</td>\n",
       "      <td>5 Marla</td>\n",
       "    </tr>\n",
       "  </tbody>\n",
       "</table>\n",
       "<p>132 rows × 2 columns</p>\n",
       "</div>"
      ],
      "text/plain": [
       "                                           property_name   \n",
       "42     20 marla house in central dha defence phase 2 ...  \\\n",
       "45     20 marla spacious house is available in dha de...   \n",
       "70       a 20 marla house is up for grabs in dha defence   \n",
       "133    21 marla house is available in dha defence pha...   \n",
       "146    good 20 marla house for sale in dha defence ph...   \n",
       "...                                                  ...   \n",
       "44356     prime location snober city house sized 5 marla   \n",
       "44366  prime location adiala road house sized 4 marla...   \n",
       "45100  get this amazing prime location 10 marla house...   \n",
       "45422  prime location house of 3 marla is available f...   \n",
       "47281  5 marla house for sale in punjab government se...   \n",
       "\n",
       "      area_from_property_name  \n",
       "42                   20 Marla  \n",
       "45                   20 Marla  \n",
       "70                   20 Marla  \n",
       "133                  21 Marla  \n",
       "146                  20 Marla  \n",
       "...                       ...  \n",
       "44356                 5 Marla  \n",
       "44366                 4 Marla  \n",
       "45100                10 Marla  \n",
       "45422                 3 Marla  \n",
       "47281                 5 Marla  \n",
       "\n",
       "[132 rows x 2 columns]"
      ]
     },
     "execution_count": 233,
     "metadata": {},
     "output_type": "execute_result"
    }
   ],
   "source": [
    "df_clean[(df_clean[\"area\"] == \"-\") & (df_clean[\"property_name\"].str.contains(\"marla\"))][[\"property_name\",\n",
    "                                                                                            \"area_from_property_name\"]]"
   ]
  },
  {
   "cell_type": "code",
   "execution_count": 234,
   "metadata": {},
   "outputs": [],
   "source": [
    "# let's fill the area col\n",
    "df_clean.loc[df_clean[\"area\"] == \"-\", \"area\"] = df_clean.loc[df_clean[\"area\"] == \"-\", \"area_from_property_name\"]"
   ]
  },
  {
   "cell_type": "code",
   "execution_count": 235,
   "metadata": {},
   "outputs": [
    {
     "data": {
      "text/plain": [
       "58"
      ]
     },
     "execution_count": 235,
     "metadata": {},
     "output_type": "execute_result"
    }
   ],
   "source": [
    "# no. of rows where area is missing and some info about area exists in description col.\n",
    "df_clean[(df_clean[\"area\"] == \"-\") & ((df_clean[\"description\"].str.contains(\"marla\")) |\n",
    "                                        (df_clean[\"description\"].str.contains(\"kanal\")))].shape[0]"
   ]
  },
  {
   "cell_type": "code",
   "execution_count": 236,
   "metadata": {},
   "outputs": [],
   "source": [
    "# extracting area details from description col\n",
    "def extract_area_from_description(row):\n",
    "    if row.__contains__(\"marla\"):\n",
    "        marla_idx = row.find(\"marla\")\n",
    "        return row[:marla_idx].strip().split(\" \")[-1] + \" Marla\"\n",
    "    elif row.__contains__(\"kanal\"):\n",
    "        kanal_idx = row.find(\"kanal\")\n",
    "        return row[:kanal_idx].strip().split(\" \")[-1] + \" Kanal\"\n",
    "    else:\n",
    "        return \"-\""
   ]
  },
  {
   "cell_type": "code",
   "execution_count": 237,
   "metadata": {},
   "outputs": [
    {
     "data": {
      "text/plain": [
       "38"
      ]
     },
     "execution_count": 237,
     "metadata": {},
     "output_type": "execute_result"
    }
   ],
   "source": [
    "df_clean[\"area_from_description\"] = df_clean[\"description\"].apply(extract_area_from_description)\n",
    "df_clean.loc[df_clean[\"area\"] == \"-\", \"area\"] = df_clean.loc[df_clean[\"area\"] == \"-\", \"area_from_description\"]\n",
    "\n",
    "# no. of rows where there is no info about area.\n",
    "df_clean[df_clean[\"area\"] == \"-\"].shape[0]"
   ]
  },
  {
   "cell_type": "code",
   "execution_count": 238,
   "metadata": {},
   "outputs": [
    {
     "data": {
      "text/html": [
       "<div>\n",
       "<style scoped>\n",
       "    .dataframe tbody tr th:only-of-type {\n",
       "        vertical-align: middle;\n",
       "    }\n",
       "\n",
       "    .dataframe tbody tr th {\n",
       "        vertical-align: top;\n",
       "    }\n",
       "\n",
       "    .dataframe thead th {\n",
       "        text-align: right;\n",
       "    }\n",
       "</style>\n",
       "<table border=\"1\" class=\"dataframe\">\n",
       "  <thead>\n",
       "    <tr style=\"text-align: right;\">\n",
       "      <th></th>\n",
       "      <th>url</th>\n",
       "      <th>property_name</th>\n",
       "      <th>type</th>\n",
       "      <th>price</th>\n",
       "      <th>location</th>\n",
       "      <th>baths</th>\n",
       "      <th>area</th>\n",
       "      <th>purpose</th>\n",
       "      <th>bedrooms</th>\n",
       "      <th>added</th>\n",
       "      <th>...</th>\n",
       "      <th>rooms</th>\n",
       "      <th>city</th>\n",
       "      <th>province</th>\n",
       "      <th>town</th>\n",
       "      <th>price_unit</th>\n",
       "      <th>added_time</th>\n",
       "      <th>added_time_unit</th>\n",
       "      <th>property_name_area_loc</th>\n",
       "      <th>area_from_property_name</th>\n",
       "      <th>area_from_description</th>\n",
       "    </tr>\n",
       "  </thead>\n",
       "  <tbody>\n",
       "    <tr>\n",
       "      <th>32187</th>\n",
       "      <td>https://zameen.com/Property/lahore_sherwani_t...</td>\n",
       "      <td>6 marla owner built house for sale  in sherwan...</td>\n",
       "      <td>House</td>\n",
       "      <td>9500000.0</td>\n",
       "      <td>sherwani town housing scheme, lahore, punjab</td>\n",
       "      <td>4</td>\n",
       "      <td>6 Marla</td>\n",
       "      <td>For Sale</td>\n",
       "      <td>3</td>\n",
       "      <td>3 years</td>\n",
       "      <td>...</td>\n",
       "      <td>['Bedrooms: 2', 'Bathrooms: 2', 'Servant Quart...</td>\n",
       "      <td>lahore</td>\n",
       "      <td>punjab</td>\n",
       "      <td>sherwani town housing scheme</td>\n",
       "      <td>Lakh</td>\n",
       "      <td>1095</td>\n",
       "      <td>years</td>\n",
       "      <td>2</td>\n",
       "      <td>6 Marla</td>\n",
       "      <td>offers6- Marla</td>\n",
       "    </tr>\n",
       "    <tr>\n",
       "      <th>14220</th>\n",
       "      <td>https://zameen.com/Property/dha_9_town_dha_9_...</td>\n",
       "      <td>5marla brand new house for sale</td>\n",
       "      <td>House</td>\n",
       "      <td>25500000.0</td>\n",
       "      <td>dha defence, lahore, punjab</td>\n",
       "      <td>4</td>\n",
       "      <td>5 Marla</td>\n",
       "      <td>For Sale</td>\n",
       "      <td>3</td>\n",
       "      <td>2 days</td>\n",
       "      <td>...</td>\n",
       "      <td>['Bedrooms: 3', 'Bathrooms: 4', 'Servant Quart...</td>\n",
       "      <td>lahore</td>\n",
       "      <td>punjab</td>\n",
       "      <td>dha defence</td>\n",
       "      <td>Crore</td>\n",
       "      <td>2</td>\n",
       "      <td>days</td>\n",
       "      <td>1</td>\n",
       "      <td>5 Marla</td>\n",
       "      <td>5 Marla</td>\n",
       "    </tr>\n",
       "    <tr>\n",
       "      <th>10857</th>\n",
       "      <td>https://zameen.com/Property/islamabad_f-10_f-...</td>\n",
       "      <td>f-10 beautiful new double storey house 600 yd ...</td>\n",
       "      <td>House</td>\n",
       "      <td>245000000.0</td>\n",
       "      <td>f-10, islamabad, islamabad capital</td>\n",
       "      <td>6</td>\n",
       "      <td>1.2 Kanal</td>\n",
       "      <td>For Sale</td>\n",
       "      <td>6</td>\n",
       "      <td>1 week</td>\n",
       "      <td>...</td>\n",
       "      <td>NaN</td>\n",
       "      <td>islamabad</td>\n",
       "      <td>islamabad capital</td>\n",
       "      <td>f-10</td>\n",
       "      <td>Crore</td>\n",
       "      <td>7</td>\n",
       "      <td>weeks</td>\n",
       "      <td>-1</td>\n",
       "      <td>-</td>\n",
       "      <td>-</td>\n",
       "    </tr>\n",
       "    <tr>\n",
       "      <th>40096</th>\n",
       "      <td>https://zameen.com/Property/lahore_formanites...</td>\n",
       "      <td>10 marla house is available for sale in forman...</td>\n",
       "      <td>House</td>\n",
       "      <td>35500000.0</td>\n",
       "      <td>formanites housing scheme, lahore, punjab</td>\n",
       "      <td>6</td>\n",
       "      <td>10 Marla</td>\n",
       "      <td>For Sale</td>\n",
       "      <td>5</td>\n",
       "      <td>1 week</td>\n",
       "      <td>...</td>\n",
       "      <td>['Bedrooms: 5', 'Bathrooms: 6', 'Servant Quart...</td>\n",
       "      <td>lahore</td>\n",
       "      <td>punjab</td>\n",
       "      <td>formanites housing scheme</td>\n",
       "      <td>Crore</td>\n",
       "      <td>7</td>\n",
       "      <td>weeks</td>\n",
       "      <td>3</td>\n",
       "      <td>10 Marla</td>\n",
       "      <td>10 Marla</td>\n",
       "    </tr>\n",
       "    <tr>\n",
       "      <th>9187</th>\n",
       "      <td>https://zameen.com/Property/islamabad_f-7_you...</td>\n",
       "      <td>your dream home awaits: good livable house is ...</td>\n",
       "      <td>House</td>\n",
       "      <td>268000000.0</td>\n",
       "      <td>f-7, islamabad, islamabad capital</td>\n",
       "      <td>6</td>\n",
       "      <td>1.2 Kanal</td>\n",
       "      <td>For Sale</td>\n",
       "      <td>5</td>\n",
       "      <td>4 weeks</td>\n",
       "      <td>...</td>\n",
       "      <td>['Bedrooms: 5', 'Bathrooms: 6', 'Servant Quart...</td>\n",
       "      <td>islamabad</td>\n",
       "      <td>islamabad capital</td>\n",
       "      <td>f-7</td>\n",
       "      <td>Crore</td>\n",
       "      <td>28</td>\n",
       "      <td>weeks</td>\n",
       "      <td>-1</td>\n",
       "      <td>-</td>\n",
       "      <td>-</td>\n",
       "    </tr>\n",
       "  </tbody>\n",
       "</table>\n",
       "<p>5 rows × 22 columns</p>\n",
       "</div>"
      ],
      "text/plain": [
       "                                                     url   \n",
       "32187   https://zameen.com/Property/lahore_sherwani_t...  \\\n",
       "14220   https://zameen.com/Property/dha_9_town_dha_9_...   \n",
       "10857   https://zameen.com/Property/islamabad_f-10_f-...   \n",
       "40096   https://zameen.com/Property/lahore_formanites...   \n",
       "9187    https://zameen.com/Property/islamabad_f-7_you...   \n",
       "\n",
       "                                           property_name   type        price   \n",
       "32187  6 marla owner built house for sale  in sherwan...  House    9500000.0  \\\n",
       "14220                    5marla brand new house for sale  House   25500000.0   \n",
       "10857  f-10 beautiful new double storey house 600 yd ...  House  245000000.0   \n",
       "40096  10 marla house is available for sale in forman...  House   35500000.0   \n",
       "9187   your dream home awaits: good livable house is ...  House  268000000.0   \n",
       "\n",
       "                                           location baths       area   \n",
       "32187  sherwani town housing scheme, lahore, punjab     4    6 Marla  \\\n",
       "14220                   dha defence, lahore, punjab     4    5 Marla   \n",
       "10857            f-10, islamabad, islamabad capital     6  1.2 Kanal   \n",
       "40096     formanites housing scheme, lahore, punjab     6   10 Marla   \n",
       "9187              f-7, islamabad, islamabad capital     6  1.2 Kanal   \n",
       "\n",
       "        purpose bedrooms    added  ...   \n",
       "32187  For Sale        3  3 years  ...  \\\n",
       "14220  For Sale        3   2 days  ...   \n",
       "10857  For Sale        6   1 week  ...   \n",
       "40096  For Sale        5   1 week  ...   \n",
       "9187   For Sale        5  4 weeks  ...   \n",
       "\n",
       "                                                   rooms        city   \n",
       "32187  ['Bedrooms: 2', 'Bathrooms: 2', 'Servant Quart...      lahore  \\\n",
       "14220  ['Bedrooms: 3', 'Bathrooms: 4', 'Servant Quart...      lahore   \n",
       "10857                                                NaN   islamabad   \n",
       "40096  ['Bedrooms: 5', 'Bathrooms: 6', 'Servant Quart...      lahore   \n",
       "9187   ['Bedrooms: 5', 'Bathrooms: 6', 'Servant Quart...   islamabad   \n",
       "\n",
       "                 province                          town price_unit added_time   \n",
       "32187              punjab  sherwani town housing scheme       Lakh       1095  \\\n",
       "14220              punjab                   dha defence      Crore          2   \n",
       "10857   islamabad capital                          f-10      Crore          7   \n",
       "40096              punjab     formanites housing scheme      Crore          7   \n",
       "9187    islamabad capital                           f-7      Crore         28   \n",
       "\n",
       "      added_time_unit  property_name_area_loc area_from_property_name   \n",
       "32187           years                       2                 6 Marla  \\\n",
       "14220            days                       1                 5 Marla   \n",
       "10857           weeks                      -1                       -   \n",
       "40096           weeks                       3                10 Marla   \n",
       "9187            weeks                      -1                       -   \n",
       "\n",
       "       area_from_description  \n",
       "32187         offers6- Marla  \n",
       "14220                5 Marla  \n",
       "10857                      -  \n",
       "40096               10 Marla  \n",
       "9187                       -  \n",
       "\n",
       "[5 rows x 22 columns]"
      ]
     },
     "execution_count": 238,
     "metadata": {},
     "output_type": "execute_result"
    }
   ],
   "source": [
    "df_clean.sample(5)"
   ]
  },
  {
   "cell_type": "code",
   "execution_count": 239,
   "metadata": {},
   "outputs": [],
   "source": [
    "# we have extracted area from property_name and description col\n",
    "# if there still exists some rows where this data of area is not available\n",
    "# then we have no choice but to remove it\n",
    "df_clean = df_clean[df_clean[\"area\"] != \"-\"]"
   ]
  },
  {
   "cell_type": "code",
   "execution_count": 240,
   "metadata": {},
   "outputs": [],
   "source": [
    "# extracting area (in numbers) and its unit from area col\n",
    "df_clean.loc[:, \"area_unit\"] = df_clean[\"area\"].apply(lambda x: x.split(\" \")[-1])\n",
    "df_clean.loc[:, \"area(sqr feet)\"] = df_clean[\"area\"].apply(lambda x: x.split(\" \")[0])"
   ]
  },
  {
   "cell_type": "code",
   "execution_count": 241,
   "metadata": {},
   "outputs": [
    {
     "data": {
      "text/html": [
       "<div>\n",
       "<style scoped>\n",
       "    .dataframe tbody tr th:only-of-type {\n",
       "        vertical-align: middle;\n",
       "    }\n",
       "\n",
       "    .dataframe tbody tr th {\n",
       "        vertical-align: top;\n",
       "    }\n",
       "\n",
       "    .dataframe thead th {\n",
       "        text-align: right;\n",
       "    }\n",
       "</style>\n",
       "<table border=\"1\" class=\"dataframe\">\n",
       "  <thead>\n",
       "    <tr style=\"text-align: right;\">\n",
       "      <th></th>\n",
       "      <th>area_unit</th>\n",
       "      <th>area(sqr feet)</th>\n",
       "    </tr>\n",
       "  </thead>\n",
       "  <tbody>\n",
       "    <tr>\n",
       "      <th>48167</th>\n",
       "      <td>Marla</td>\n",
       "      <td>3.5</td>\n",
       "    </tr>\n",
       "    <tr>\n",
       "      <th>8117</th>\n",
       "      <td>Marla</td>\n",
       "      <td>20</td>\n",
       "    </tr>\n",
       "    <tr>\n",
       "      <th>26270</th>\n",
       "      <td>Marla</td>\n",
       "      <td>3</td>\n",
       "    </tr>\n",
       "  </tbody>\n",
       "</table>\n",
       "</div>"
      ],
      "text/plain": [
       "      area_unit area(sqr feet)\n",
       "48167     Marla            3.5\n",
       "8117      Marla             20\n",
       "26270     Marla              3"
      ]
     },
     "execution_count": 241,
     "metadata": {},
     "output_type": "execute_result"
    }
   ],
   "source": [
    "df_clean[['area_unit', 'area(sqr feet)']].sample(3)"
   ]
  },
  {
   "cell_type": "code",
   "execution_count": 242,
   "metadata": {},
   "outputs": [],
   "source": [
    "# rows which contain incorrect data\n",
    "df_clean[df_clean[\"area(sqr feet)\"] == \"back1\"] = \"1\"\n",
    "df_clean[df_clean[\"area(sqr feet)\"] == \"boulevard1\"] = \"1\"\n",
    "df_clean[df_clean[\"area(sqr feet)\"] == \"boulevard1\"] = \"1\"\n",
    "df_clean[df_clean[\"area(sqr feet)\"] == \"house21\"] = \"21\"\n",
    "df_clean[df_clean[\"area(sqr feet)\"] == \"327,282.1\"] = \"327282.1\"\n",
    "df_clean[df_clean[\"area(sqr feet)\"] == \"back21\"] = \"21\"\n",
    "df_clean[df_clean[\"area(sqr feet)\"] == \"house1\"] = \"1\"\n",
    "df_clean[df_clean[\"area(sqr feet)\"] == \"2,750\"] = \"2750\"\n",
    "df_clean[df_clean[\"area(sqr feet)\"] == \"477,218.6\"] = \"477218.6\"\n",
    "df_clean[df_clean[\"area(sqr feet)\"] == \"6,000\"] = \"6000\""
   ]
  },
  {
   "cell_type": "code",
   "execution_count": 243,
   "metadata": {},
   "outputs": [],
   "source": [
    "# converting area (sqr feet) into float\n",
    "df_clean[\"area(sqr feet)\"] = df_clean[\"area(sqr feet)\"].astype(float)"
   ]
  },
  {
   "cell_type": "code",
   "execution_count": 244,
   "metadata": {},
   "outputs": [],
   "source": [
    "# converting area to a sqr feet\n",
    "for unique_unit in df_clean[\"area_unit\"].unique().tolist():\n",
    "    if unique_unit == \"Marla\":\n",
    "        df_clean.loc[df_clean['area_unit'] == 'Marla', 'area(sqr feet)'] = df_clean.loc[df_clean['area_unit'] == 'Marla', 'area(sqr feet)']*225\n",
    "    elif unique_unit == \"Kanal\":\n",
    "        df_clean.loc[df_clean['area_unit'] == 'Kanal', 'area(sqr feet)'] = df_clean.loc[df_clean['area_unit'] == 'Kanal', 'area(sqr feet)']*225*20\n",
    "    else:\n",
    "        continue"
   ]
  },
  {
   "cell_type": "code",
   "execution_count": 245,
   "metadata": {},
   "outputs": [
    {
     "data": {
      "text/plain": [
       "area_unit\n",
       "Marla       38873\n",
       "Kanal       10765\n",
       "1              11\n",
       "21              4\n",
       "327282.1        1\n",
       "2750            1\n",
       "477218.6        1\n",
       "6000            1\n",
       "Name: count, dtype: int64"
      ]
     },
     "execution_count": 245,
     "metadata": {},
     "output_type": "execute_result"
    }
   ],
   "source": [
    "df_clean[\"area_unit\"].value_counts()"
   ]
  },
  {
   "cell_type": "code",
   "execution_count": 246,
   "metadata": {},
   "outputs": [],
   "source": [
    "def contains_(row):\n",
    "    return len(row[row == \"-\"])"
   ]
  },
  {
   "cell_type": "code",
   "execution_count": 247,
   "metadata": {},
   "outputs": [
    {
     "data": {
      "text/plain": [
       "url                            0\n",
       "property_name                  3\n",
       "type                           0\n",
       "price                          0\n",
       "location                       0\n",
       "baths                       6035\n",
       "area                           0\n",
       "purpose                        0\n",
       "bedrooms                    3930\n",
       "added                          0\n",
       "description                    0\n",
       "main_features                  0\n",
       "rooms                          0\n",
       "city                           0\n",
       "province                       0\n",
       "town                           0\n",
       "price_unit                     0\n",
       "added_time                     0\n",
       "added_time_unit                0\n",
       "property_name_area_loc         0\n",
       "area_from_property_name    18292\n",
       "area_from_description      20283\n",
       "area_unit                      0\n",
       "area(sqr feet)                 0\n",
       "dtype: int64"
      ]
     },
     "execution_count": 247,
     "metadata": {},
     "output_type": "execute_result"
    }
   ],
   "source": [
    "# no. of instances where columns contains \"-\"\n",
    "df_clean.apply(contains_)"
   ]
  },
  {
   "cell_type": "markdown",
   "metadata": {},
   "source": [
    "### **Working on Room column**"
   ]
  },
  {
   "cell_type": "code",
   "execution_count": 248,
   "metadata": {},
   "outputs": [
    {
     "data": {
      "text/plain": [
       "38426    ['Bedrooms: 5', 'Bathrooms: 5', 'Servant Quart...\n",
       "47345                                                  NaN\n",
       "18131                                                  NaN\n",
       "14965    ['Bedrooms: 5', 'Bathrooms: 6', 'Servant Quart...\n",
       "27445                      ['Bedrooms: 3', 'Bathrooms: 3']\n",
       "Name: rooms, dtype: object"
      ]
     },
     "execution_count": 248,
     "metadata": {},
     "output_type": "execute_result"
    }
   ],
   "source": [
    "# how looks\n",
    "df_clean[\"rooms\"].sample(5)"
   ]
  },
  {
   "cell_type": "code",
   "execution_count": 249,
   "metadata": {},
   "outputs": [
    {
     "data": {
      "text/plain": [
       "rooms\n",
       "['Drawing Room', 'Dining Room', 'Study Room', 'Prayer Room', 'Powder Room ', 'Gym', 'Steam Room', 'Lounge or Sitting Room', 'Laundry Room']                                                                                              478\n",
       "['Bedrooms: 3', 'Bathrooms: 3']                                                                                                                                                                                                          398\n",
       "['Drawing Room']                                                                                                                                                                                                                         333\n",
       "['Drawing Room', 'Dining Room', 'Lounge or Sitting Room', 'Laundry Room']                                                                                                                                                                309\n",
       "['Bedrooms: 3']                                                                                                                                                                                                                          296\n",
       "                                                                                                                                                                                                                                        ... \n",
       "['Bedrooms: 6', 'Bathrooms: 8', 'Servant Quarters: 2', 'Drawing Room', 'Dining Room', 'Kitchens: 2', 'Study Room', 'Prayer Room', 'Powder Room ', 'Gym', 'Store Rooms: 1', 'Steam Room', 'Lounge or Sitting Room', 'Laundry Room']         1\n",
       "['Bedrooms', 'Bathrooms: 6', 'Servant Quarters', 'Drawing Room', 'Dining Room', 'Kitchens', 'Study Room', 'Prayer Room', 'Powder Room ', 'Gym', 'Store Rooms', 'Steam Room', 'Lounge or Sitting Room', 'Laundry Room', 'Other Rooms']      1\n",
       "['Bedrooms: 04', 'Bathrooms: 05', 'Servant Quarters: 01', 'Kitchens: 01', 'Store Rooms: 01', 'Other Rooms']                                                                                                                                1\n",
       "['Bedrooms: 6', 'Bathrooms: 7', 'Servant Quarters: 1', 'Kitchens: 3', 'Store Rooms: 2']                                                                                                                                                    1\n",
       "['Drawing Room', 'Dining Room', 'Kitchens: 2', 'Store Rooms: 2', 'Lounge or Sitting Room', 'Laundry Room']                                                                                                                                 1\n",
       "Name: count, Length: 9080, dtype: int64"
      ]
     },
     "execution_count": 249,
     "metadata": {},
     "output_type": "execute_result"
    }
   ],
   "source": [
    "# value count\n",
    "df_clean[\"rooms\"].value_counts()"
   ]
  },
  {
   "cell_type": "code",
   "execution_count": 250,
   "metadata": {},
   "outputs": [
    {
     "data": {
      "text/plain": [
       "(16499, 33.22592987896974)"
      ]
     },
     "execution_count": 250,
     "metadata": {},
     "output_type": "execute_result"
    }
   ],
   "source": [
    "# no. of null\n",
    "# total null values, percentage of null values\n",
    "df_clean[\"rooms\"].isnull().sum(), (df_clean[\"rooms\"].isnull().sum() / df_clean.shape[0])*100"
   ]
  },
  {
   "cell_type": "code",
   "execution_count": 251,
   "metadata": {},
   "outputs": [],
   "source": [
    "# we have to extract information of bedrooms and bathrooms for those rows where this info isn't available.\n",
    "# but there are null values in dataset. without handling null values it isn't possible to extract this info.\n",
    "# so to handle null values I will fill all null values with `Not Available`."
   ]
  },
  {
   "cell_type": "code",
   "execution_count": 252,
   "metadata": {},
   "outputs": [],
   "source": [
    "# filling all null values with 'Not Available'\n",
    "df_clean[\"rooms\"].fillna(\"Not Available\", inplace=True)"
   ]
  },
  {
   "cell_type": "code",
   "execution_count": 253,
   "metadata": {},
   "outputs": [
    {
     "name": "stdout",
     "output_type": "stream",
     "text": [
      "['Rooms', 'Bedrooms', 'Bathrooms', 'Servant', 'Drawing', 'Dining', 'Kitchens', 'Study', 'Prayer', 'Powder', 'Gym', 'Store', 'Steam', 'Lounge', 'Laundry', 'Other']\n"
     ]
    }
   ],
   "source": [
    "# New features from room column\n",
    "new_features_list = df_clean.loc[1247, \"rooms\"].replace(\"[\", \"\").replace(\"]\", \"\").replace('\\'', '').replace(\":\", \"\").split(\",\")\n",
    "new_features = []\n",
    "for idx in new_features_list:\n",
    "    new_features.append(idx.strip().split(\" \")[0])\n",
    "print(new_features)"
   ]
  },
  {
   "cell_type": "code",
   "execution_count": 254,
   "metadata": {},
   "outputs": [],
   "source": [
    "new_features = ['Bedroom', 'Bathroom', 'Servant Quarter', 'Drawing Room', 'Dining Room', 'Kitchen', 'Study Room', \n",
    "                'Prayer Room', 'Powder Room', 'Gym', 'Store Room', 'Steam Room', 'Lounge or Sitting Room', 'Laundry Room', 'Other Room']"
   ]
  },
  {
   "cell_type": "code",
   "execution_count": 255,
   "metadata": {},
   "outputs": [],
   "source": [
    "# extracting new features\n",
    "def str2list(row):\n",
    "    row_list = row.replace(\"[\", \"\").replace(\"]\", \"\").replace('\\'', '').split(\",\")\n",
    "    # print(row_list)\n",
    "    # print(new_features)\n",
    "    new_list = []\n",
    "    for new_feature in new_features:\n",
    "        isDone = False\n",
    "        for room in row_list:\n",
    "            if (room.__contains__(new_feature)):\n",
    "                # return room.split(\" \")[-1].strip()\n",
    "                new_list.append(room.strip())\n",
    "                isDone = True\n",
    "        if isDone == False:\n",
    "            new_list.append(\"-\")\n",
    "    return new_list"
   ]
  },
  {
   "cell_type": "code",
   "execution_count": 256,
   "metadata": {},
   "outputs": [],
   "source": [
    "new_features = ['Bedroom', 'Bathroom', 'Servant Quarter', 'Drawing Room', 'Dining Room', 'Kitchen', 'Study Room', \n",
    "                'Prayer Room', 'Powder Room', 'Gym', 'Store Room', 'Steam Room', 'Lounge or Sitting Room', 'Laundry Room', 'Other Room']"
   ]
  },
  {
   "cell_type": "code",
   "execution_count": 257,
   "metadata": {},
   "outputs": [
    {
     "data": {
      "text/plain": [
       "0        [Bedrooms: 5, Bathrooms: 6, Servant Quarters: ...\n",
       "1        [Bedrooms: 8, Bathrooms: 2, Servant Quarters: ...\n",
       "2        [Bedrooms: 5, Bathrooms: 5, Servant Quarters: ...\n",
       "3        [Bedrooms: 5, Bathrooms: 5, Servant Quarters: ...\n",
       "4        [Bedrooms: 5, Bathrooms: 6, Servant Quarters: ...\n",
       "                               ...                        \n",
       "50714    [-, -, -, Drawing Room, Dining Room, Kitchens:...\n",
       "50715    [Bedrooms: 4, Bathrooms: 5, -, -, -, Kitchens:...\n",
       "50716        [-, -, -, -, -, -, -, -, -, -, -, -, -, -, -]\n",
       "50717        [-, -, -, -, -, -, -, -, -, -, -, -, -, -, -]\n",
       "50718        [-, -, -, -, -, -, -, -, -, -, -, -, -, -, -]\n",
       "Name: rooms, Length: 49657, dtype: object"
      ]
     },
     "execution_count": 257,
     "metadata": {},
     "output_type": "execute_result"
    }
   ],
   "source": [
    "temp = df_clean[\"rooms\"].apply(str2list)\n",
    "temp"
   ]
  },
  {
   "cell_type": "code",
   "execution_count": 258,
   "metadata": {},
   "outputs": [],
   "source": [
    "# concatenating all new features to the dataframe.\n",
    "for idx in df_clean.index.tolist():\n",
    "    df_clean.loc[idx, new_features] = temp[idx]"
   ]
  },
  {
   "cell_type": "code",
   "execution_count": 259,
   "metadata": {},
   "outputs": [],
   "source": [
    "# only useful to extract bedrooms, bathrooms and kitchen\n",
    "def extract_room_num(row):\n",
    "    row_list = row.split(\" \")\n",
    "    if len(row_list) > 1:\n",
    "        try:\n",
    "            return float(row_list[-1])\n",
    "        except ValueError:\n",
    "            return 1\n",
    "    else:\n",
    "        return 1"
   ]
  },
  {
   "cell_type": "code",
   "execution_count": 260,
   "metadata": {},
   "outputs": [],
   "source": [
    "df_clean['Bedroom'] = df_clean['Bedroom'].apply(extract_room_num)\n",
    "df_clean['Bathroom'] = df_clean['Bathroom'].apply(extract_room_num)\n",
    "df_clean['Kitchen'] = df_clean['Kitchen'].apply(extract_room_num)"
   ]
  },
  {
   "cell_type": "code",
   "execution_count": 261,
   "metadata": {},
   "outputs": [],
   "source": [
    "# only useful to extract store room\n",
    "def extract_room_num(row):\n",
    "    row_list = row.split(\" \")\n",
    "    if len(row_list) > 1:\n",
    "        try:\n",
    "            return int(row_list[-1])\n",
    "        except ValueError:\n",
    "            return 1\n",
    "    else:\n",
    "        return 1"
   ]
  },
  {
   "cell_type": "code",
   "execution_count": 262,
   "metadata": {},
   "outputs": [],
   "source": [
    "df_clean['Store Room'] = df_clean['Store Room'].apply(extract_room_num)"
   ]
  },
  {
   "cell_type": "code",
   "execution_count": 263,
   "metadata": {},
   "outputs": [],
   "source": [
    "# only useful to extract servant quarter\n",
    "def extract_servant_quarter(row):\n",
    "    row_list = row.split(\" \")\n",
    "    if len(row_list) > 1:\n",
    "        try:\n",
    "            return int(row_list[-1])\n",
    "        except ValueError:\n",
    "            return 1\n",
    "    else:\n",
    "        return 0"
   ]
  },
  {
   "cell_type": "code",
   "execution_count": 264,
   "metadata": {},
   "outputs": [],
   "source": [
    "df_clean[\"Servant Quarter\"] = df_clean[\"Servant Quarter\"].apply(extract_servant_quarter)"
   ]
  },
  {
   "cell_type": "code",
   "execution_count": 265,
   "metadata": {},
   "outputs": [
    {
     "data": {
      "text/html": [
       "<div>\n",
       "<style scoped>\n",
       "    .dataframe tbody tr th:only-of-type {\n",
       "        vertical-align: middle;\n",
       "    }\n",
       "\n",
       "    .dataframe tbody tr th {\n",
       "        vertical-align: top;\n",
       "    }\n",
       "\n",
       "    .dataframe thead th {\n",
       "        text-align: right;\n",
       "    }\n",
       "</style>\n",
       "<table border=\"1\" class=\"dataframe\">\n",
       "  <thead>\n",
       "    <tr style=\"text-align: right;\">\n",
       "      <th></th>\n",
       "      <th>Bedroom</th>\n",
       "      <th>Bathroom</th>\n",
       "      <th>Servant Quarter</th>\n",
       "      <th>Drawing Room</th>\n",
       "      <th>Dining Room</th>\n",
       "      <th>Kitchen</th>\n",
       "      <th>Study Room</th>\n",
       "      <th>Prayer Room</th>\n",
       "      <th>Powder Room</th>\n",
       "      <th>Gym</th>\n",
       "      <th>Store Room</th>\n",
       "      <th>Steam Room</th>\n",
       "      <th>Lounge or Sitting Room</th>\n",
       "      <th>Laundry Room</th>\n",
       "      <th>Other Room</th>\n",
       "    </tr>\n",
       "  </thead>\n",
       "  <tbody>\n",
       "    <tr>\n",
       "      <th>0</th>\n",
       "      <td>5.0</td>\n",
       "      <td>6.0</td>\n",
       "      <td>1</td>\n",
       "      <td>Drawing Room</td>\n",
       "      <td>Dining Room</td>\n",
       "      <td>2.0</td>\n",
       "      <td>Study Room</td>\n",
       "      <td>Prayer Room</td>\n",
       "      <td>Powder Room</td>\n",
       "      <td>-</td>\n",
       "      <td>1</td>\n",
       "      <td>Steam Room</td>\n",
       "      <td>Lounge or Sitting Room</td>\n",
       "      <td>Laundry Room</td>\n",
       "      <td>Other Rooms</td>\n",
       "    </tr>\n",
       "    <tr>\n",
       "      <th>1</th>\n",
       "      <td>8.0</td>\n",
       "      <td>2.0</td>\n",
       "      <td>2</td>\n",
       "      <td>Drawing Room</td>\n",
       "      <td>Dining Room</td>\n",
       "      <td>2.0</td>\n",
       "      <td>Study Room</td>\n",
       "      <td>Prayer Room</td>\n",
       "      <td>Powder Room</td>\n",
       "      <td>Gym</td>\n",
       "      <td>1</td>\n",
       "      <td>Steam Room</td>\n",
       "      <td>Lounge or Sitting Room</td>\n",
       "      <td>Laundry Room</td>\n",
       "      <td>Other Rooms</td>\n",
       "    </tr>\n",
       "    <tr>\n",
       "      <th>2</th>\n",
       "      <td>5.0</td>\n",
       "      <td>5.0</td>\n",
       "      <td>1</td>\n",
       "      <td>Drawing Room</td>\n",
       "      <td>Dining Room</td>\n",
       "      <td>2.0</td>\n",
       "      <td>-</td>\n",
       "      <td>-</td>\n",
       "      <td>Powder Room</td>\n",
       "      <td>-</td>\n",
       "      <td>1</td>\n",
       "      <td>-</td>\n",
       "      <td>Lounge or Sitting Room</td>\n",
       "      <td>Laundry Room</td>\n",
       "      <td>-</td>\n",
       "    </tr>\n",
       "    <tr>\n",
       "      <th>3</th>\n",
       "      <td>5.0</td>\n",
       "      <td>5.0</td>\n",
       "      <td>1</td>\n",
       "      <td>Drawing Room</td>\n",
       "      <td>Dining Room</td>\n",
       "      <td>2.0</td>\n",
       "      <td>Study Room</td>\n",
       "      <td>Prayer Room</td>\n",
       "      <td>Powder Room</td>\n",
       "      <td>Gym</td>\n",
       "      <td>1</td>\n",
       "      <td>Steam Room</td>\n",
       "      <td>Lounge or Sitting Room</td>\n",
       "      <td>Laundry Room</td>\n",
       "      <td>Other Rooms</td>\n",
       "    </tr>\n",
       "    <tr>\n",
       "      <th>4</th>\n",
       "      <td>5.0</td>\n",
       "      <td>6.0</td>\n",
       "      <td>1</td>\n",
       "      <td>Drawing Room</td>\n",
       "      <td>Dining Room</td>\n",
       "      <td>2.0</td>\n",
       "      <td>-</td>\n",
       "      <td>-</td>\n",
       "      <td>-</td>\n",
       "      <td>-</td>\n",
       "      <td>1</td>\n",
       "      <td>-</td>\n",
       "      <td>-</td>\n",
       "      <td>-</td>\n",
       "      <td>-</td>\n",
       "    </tr>\n",
       "    <tr>\n",
       "      <th>...</th>\n",
       "      <td>...</td>\n",
       "      <td>...</td>\n",
       "      <td>...</td>\n",
       "      <td>...</td>\n",
       "      <td>...</td>\n",
       "      <td>...</td>\n",
       "      <td>...</td>\n",
       "      <td>...</td>\n",
       "      <td>...</td>\n",
       "      <td>...</td>\n",
       "      <td>...</td>\n",
       "      <td>...</td>\n",
       "      <td>...</td>\n",
       "      <td>...</td>\n",
       "      <td>...</td>\n",
       "    </tr>\n",
       "    <tr>\n",
       "      <th>50714</th>\n",
       "      <td>1.0</td>\n",
       "      <td>1.0</td>\n",
       "      <td>0</td>\n",
       "      <td>Drawing Room</td>\n",
       "      <td>Dining Room</td>\n",
       "      <td>2.0</td>\n",
       "      <td>-</td>\n",
       "      <td>-</td>\n",
       "      <td>-</td>\n",
       "      <td>-</td>\n",
       "      <td>2</td>\n",
       "      <td>-</td>\n",
       "      <td>Lounge or Sitting Room</td>\n",
       "      <td>Laundry Room</td>\n",
       "      <td>-</td>\n",
       "    </tr>\n",
       "    <tr>\n",
       "      <th>50715</th>\n",
       "      <td>4.0</td>\n",
       "      <td>5.0</td>\n",
       "      <td>0</td>\n",
       "      <td>-</td>\n",
       "      <td>-</td>\n",
       "      <td>2.0</td>\n",
       "      <td>-</td>\n",
       "      <td>-</td>\n",
       "      <td>-</td>\n",
       "      <td>-</td>\n",
       "      <td>1</td>\n",
       "      <td>-</td>\n",
       "      <td>-</td>\n",
       "      <td>-</td>\n",
       "      <td>-</td>\n",
       "    </tr>\n",
       "    <tr>\n",
       "      <th>50716</th>\n",
       "      <td>1.0</td>\n",
       "      <td>1.0</td>\n",
       "      <td>0</td>\n",
       "      <td>-</td>\n",
       "      <td>-</td>\n",
       "      <td>1.0</td>\n",
       "      <td>-</td>\n",
       "      <td>-</td>\n",
       "      <td>-</td>\n",
       "      <td>-</td>\n",
       "      <td>1</td>\n",
       "      <td>-</td>\n",
       "      <td>-</td>\n",
       "      <td>-</td>\n",
       "      <td>-</td>\n",
       "    </tr>\n",
       "    <tr>\n",
       "      <th>50717</th>\n",
       "      <td>1.0</td>\n",
       "      <td>1.0</td>\n",
       "      <td>0</td>\n",
       "      <td>-</td>\n",
       "      <td>-</td>\n",
       "      <td>1.0</td>\n",
       "      <td>-</td>\n",
       "      <td>-</td>\n",
       "      <td>-</td>\n",
       "      <td>-</td>\n",
       "      <td>1</td>\n",
       "      <td>-</td>\n",
       "      <td>-</td>\n",
       "      <td>-</td>\n",
       "      <td>-</td>\n",
       "    </tr>\n",
       "    <tr>\n",
       "      <th>50718</th>\n",
       "      <td>1.0</td>\n",
       "      <td>1.0</td>\n",
       "      <td>0</td>\n",
       "      <td>-</td>\n",
       "      <td>-</td>\n",
       "      <td>1.0</td>\n",
       "      <td>-</td>\n",
       "      <td>-</td>\n",
       "      <td>-</td>\n",
       "      <td>-</td>\n",
       "      <td>1</td>\n",
       "      <td>-</td>\n",
       "      <td>-</td>\n",
       "      <td>-</td>\n",
       "      <td>-</td>\n",
       "    </tr>\n",
       "  </tbody>\n",
       "</table>\n",
       "<p>49657 rows × 15 columns</p>\n",
       "</div>"
      ],
      "text/plain": [
       "       Bedroom  Bathroom  Servant Quarter  Drawing Room  Dining Room  Kitchen   \n",
       "0          5.0       6.0                1  Drawing Room  Dining Room      2.0  \\\n",
       "1          8.0       2.0                2  Drawing Room  Dining Room      2.0   \n",
       "2          5.0       5.0                1  Drawing Room  Dining Room      2.0   \n",
       "3          5.0       5.0                1  Drawing Room  Dining Room      2.0   \n",
       "4          5.0       6.0                1  Drawing Room  Dining Room      2.0   \n",
       "...        ...       ...              ...           ...          ...      ...   \n",
       "50714      1.0       1.0                0  Drawing Room  Dining Room      2.0   \n",
       "50715      4.0       5.0                0             -            -      2.0   \n",
       "50716      1.0       1.0                0             -            -      1.0   \n",
       "50717      1.0       1.0                0             -            -      1.0   \n",
       "50718      1.0       1.0                0             -            -      1.0   \n",
       "\n",
       "       Study Room  Prayer Room  Powder Room  Gym  Store Room  Steam Room   \n",
       "0      Study Room  Prayer Room  Powder Room    -           1  Steam Room  \\\n",
       "1      Study Room  Prayer Room  Powder Room  Gym           1  Steam Room   \n",
       "2               -            -  Powder Room    -           1           -   \n",
       "3      Study Room  Prayer Room  Powder Room  Gym           1  Steam Room   \n",
       "4               -            -            -    -           1           -   \n",
       "...           ...          ...          ...  ...         ...         ...   \n",
       "50714           -            -            -    -           2           -   \n",
       "50715           -            -            -    -           1           -   \n",
       "50716           -            -            -    -           1           -   \n",
       "50717           -            -            -    -           1           -   \n",
       "50718           -            -            -    -           1           -   \n",
       "\n",
       "       Lounge or Sitting Room  Laundry Room   Other Room  \n",
       "0      Lounge or Sitting Room  Laundry Room  Other Rooms  \n",
       "1      Lounge or Sitting Room  Laundry Room  Other Rooms  \n",
       "2      Lounge or Sitting Room  Laundry Room            -  \n",
       "3      Lounge or Sitting Room  Laundry Room  Other Rooms  \n",
       "4                           -             -            -  \n",
       "...                       ...           ...          ...  \n",
       "50714  Lounge or Sitting Room  Laundry Room            -  \n",
       "50715                       -             -            -  \n",
       "50716                       -             -            -  \n",
       "50717                       -             -            -  \n",
       "50718                       -             -            -  \n",
       "\n",
       "[49657 rows x 15 columns]"
      ]
     },
     "execution_count": 265,
     "metadata": {},
     "output_type": "execute_result"
    }
   ],
   "source": [
    "df_clean[new_features]"
   ]
  },
  {
   "cell_type": "code",
   "execution_count": 266,
   "metadata": {},
   "outputs": [],
   "source": [
    "# only useful to extract other rooms\n",
    "def extract_other_rooms(row):\n",
    "    return 1 if len(row) > 0 else 0"
   ]
  },
  {
   "cell_type": "code",
   "execution_count": 267,
   "metadata": {},
   "outputs": [],
   "source": [
    "df_clean[\"Drawing Room\"] = df_clean[\"Drawing Room\"].apply(extract_other_rooms)\n",
    "df_clean[\"Dining Room\"] = df_clean[\"Dining Room\"].apply(extract_other_rooms)\n",
    "df_clean[\"Study Room\"] = df_clean[\"Study Room\"].apply(extract_other_rooms)\n",
    "df_clean[\"Prayer Room\"] = df_clean[\"Prayer Room\"].apply(extract_other_rooms)\n",
    "df_clean[\"Powder Room\"] = df_clean[\"Powder Room\"].apply(extract_other_rooms)\n",
    "df_clean[\"Steam Room\"] = df_clean[\"Steam Room\"].apply(extract_other_rooms)\n",
    "df_clean[\"Gym\"] = df_clean[\"Gym\"].apply(extract_other_rooms)\n",
    "df_clean[\"Lounge or Sitting Room\"] = df_clean[\"Lounge or Sitting Room\"].apply(extract_other_rooms)\n",
    "df_clean[\"Laundry Room\"] = df_clean[\"Laundry Room\"].apply(extract_other_rooms)\n",
    "df_clean[\"Other Room\"] = df_clean[\"Other Room\"].apply(extract_other_rooms)"
   ]
  },
  {
   "cell_type": "code",
   "execution_count": 268,
   "metadata": {},
   "outputs": [
    {
     "data": {
      "text/html": [
       "<div>\n",
       "<style scoped>\n",
       "    .dataframe tbody tr th:only-of-type {\n",
       "        vertical-align: middle;\n",
       "    }\n",
       "\n",
       "    .dataframe tbody tr th {\n",
       "        vertical-align: top;\n",
       "    }\n",
       "\n",
       "    .dataframe thead th {\n",
       "        text-align: right;\n",
       "    }\n",
       "</style>\n",
       "<table border=\"1\" class=\"dataframe\">\n",
       "  <thead>\n",
       "    <tr style=\"text-align: right;\">\n",
       "      <th></th>\n",
       "      <th>Bedroom</th>\n",
       "      <th>Bathroom</th>\n",
       "      <th>Servant Quarter</th>\n",
       "      <th>Drawing Room</th>\n",
       "      <th>Dining Room</th>\n",
       "      <th>Kitchen</th>\n",
       "      <th>Study Room</th>\n",
       "      <th>Prayer Room</th>\n",
       "      <th>Powder Room</th>\n",
       "      <th>Gym</th>\n",
       "      <th>Store Room</th>\n",
       "      <th>Steam Room</th>\n",
       "      <th>Lounge or Sitting Room</th>\n",
       "      <th>Laundry Room</th>\n",
       "      <th>Other Room</th>\n",
       "    </tr>\n",
       "  </thead>\n",
       "  <tbody>\n",
       "    <tr>\n",
       "      <th>0</th>\n",
       "      <td>5.0</td>\n",
       "      <td>6.0</td>\n",
       "      <td>1</td>\n",
       "      <td>1</td>\n",
       "      <td>1</td>\n",
       "      <td>2.0</td>\n",
       "      <td>1</td>\n",
       "      <td>1</td>\n",
       "      <td>1</td>\n",
       "      <td>1</td>\n",
       "      <td>1</td>\n",
       "      <td>1</td>\n",
       "      <td>1</td>\n",
       "      <td>1</td>\n",
       "      <td>1</td>\n",
       "    </tr>\n",
       "    <tr>\n",
       "      <th>1</th>\n",
       "      <td>8.0</td>\n",
       "      <td>2.0</td>\n",
       "      <td>2</td>\n",
       "      <td>1</td>\n",
       "      <td>1</td>\n",
       "      <td>2.0</td>\n",
       "      <td>1</td>\n",
       "      <td>1</td>\n",
       "      <td>1</td>\n",
       "      <td>1</td>\n",
       "      <td>1</td>\n",
       "      <td>1</td>\n",
       "      <td>1</td>\n",
       "      <td>1</td>\n",
       "      <td>1</td>\n",
       "    </tr>\n",
       "    <tr>\n",
       "      <th>2</th>\n",
       "      <td>5.0</td>\n",
       "      <td>5.0</td>\n",
       "      <td>1</td>\n",
       "      <td>1</td>\n",
       "      <td>1</td>\n",
       "      <td>2.0</td>\n",
       "      <td>1</td>\n",
       "      <td>1</td>\n",
       "      <td>1</td>\n",
       "      <td>1</td>\n",
       "      <td>1</td>\n",
       "      <td>1</td>\n",
       "      <td>1</td>\n",
       "      <td>1</td>\n",
       "      <td>1</td>\n",
       "    </tr>\n",
       "    <tr>\n",
       "      <th>3</th>\n",
       "      <td>5.0</td>\n",
       "      <td>5.0</td>\n",
       "      <td>1</td>\n",
       "      <td>1</td>\n",
       "      <td>1</td>\n",
       "      <td>2.0</td>\n",
       "      <td>1</td>\n",
       "      <td>1</td>\n",
       "      <td>1</td>\n",
       "      <td>1</td>\n",
       "      <td>1</td>\n",
       "      <td>1</td>\n",
       "      <td>1</td>\n",
       "      <td>1</td>\n",
       "      <td>1</td>\n",
       "    </tr>\n",
       "    <tr>\n",
       "      <th>4</th>\n",
       "      <td>5.0</td>\n",
       "      <td>6.0</td>\n",
       "      <td>1</td>\n",
       "      <td>1</td>\n",
       "      <td>1</td>\n",
       "      <td>2.0</td>\n",
       "      <td>1</td>\n",
       "      <td>1</td>\n",
       "      <td>1</td>\n",
       "      <td>1</td>\n",
       "      <td>1</td>\n",
       "      <td>1</td>\n",
       "      <td>1</td>\n",
       "      <td>1</td>\n",
       "      <td>1</td>\n",
       "    </tr>\n",
       "    <tr>\n",
       "      <th>...</th>\n",
       "      <td>...</td>\n",
       "      <td>...</td>\n",
       "      <td>...</td>\n",
       "      <td>...</td>\n",
       "      <td>...</td>\n",
       "      <td>...</td>\n",
       "      <td>...</td>\n",
       "      <td>...</td>\n",
       "      <td>...</td>\n",
       "      <td>...</td>\n",
       "      <td>...</td>\n",
       "      <td>...</td>\n",
       "      <td>...</td>\n",
       "      <td>...</td>\n",
       "      <td>...</td>\n",
       "    </tr>\n",
       "    <tr>\n",
       "      <th>50714</th>\n",
       "      <td>1.0</td>\n",
       "      <td>1.0</td>\n",
       "      <td>0</td>\n",
       "      <td>1</td>\n",
       "      <td>1</td>\n",
       "      <td>2.0</td>\n",
       "      <td>1</td>\n",
       "      <td>1</td>\n",
       "      <td>1</td>\n",
       "      <td>1</td>\n",
       "      <td>2</td>\n",
       "      <td>1</td>\n",
       "      <td>1</td>\n",
       "      <td>1</td>\n",
       "      <td>1</td>\n",
       "    </tr>\n",
       "    <tr>\n",
       "      <th>50715</th>\n",
       "      <td>4.0</td>\n",
       "      <td>5.0</td>\n",
       "      <td>0</td>\n",
       "      <td>1</td>\n",
       "      <td>1</td>\n",
       "      <td>2.0</td>\n",
       "      <td>1</td>\n",
       "      <td>1</td>\n",
       "      <td>1</td>\n",
       "      <td>1</td>\n",
       "      <td>1</td>\n",
       "      <td>1</td>\n",
       "      <td>1</td>\n",
       "      <td>1</td>\n",
       "      <td>1</td>\n",
       "    </tr>\n",
       "    <tr>\n",
       "      <th>50716</th>\n",
       "      <td>1.0</td>\n",
       "      <td>1.0</td>\n",
       "      <td>0</td>\n",
       "      <td>1</td>\n",
       "      <td>1</td>\n",
       "      <td>1.0</td>\n",
       "      <td>1</td>\n",
       "      <td>1</td>\n",
       "      <td>1</td>\n",
       "      <td>1</td>\n",
       "      <td>1</td>\n",
       "      <td>1</td>\n",
       "      <td>1</td>\n",
       "      <td>1</td>\n",
       "      <td>1</td>\n",
       "    </tr>\n",
       "    <tr>\n",
       "      <th>50717</th>\n",
       "      <td>1.0</td>\n",
       "      <td>1.0</td>\n",
       "      <td>0</td>\n",
       "      <td>1</td>\n",
       "      <td>1</td>\n",
       "      <td>1.0</td>\n",
       "      <td>1</td>\n",
       "      <td>1</td>\n",
       "      <td>1</td>\n",
       "      <td>1</td>\n",
       "      <td>1</td>\n",
       "      <td>1</td>\n",
       "      <td>1</td>\n",
       "      <td>1</td>\n",
       "      <td>1</td>\n",
       "    </tr>\n",
       "    <tr>\n",
       "      <th>50718</th>\n",
       "      <td>1.0</td>\n",
       "      <td>1.0</td>\n",
       "      <td>0</td>\n",
       "      <td>1</td>\n",
       "      <td>1</td>\n",
       "      <td>1.0</td>\n",
       "      <td>1</td>\n",
       "      <td>1</td>\n",
       "      <td>1</td>\n",
       "      <td>1</td>\n",
       "      <td>1</td>\n",
       "      <td>1</td>\n",
       "      <td>1</td>\n",
       "      <td>1</td>\n",
       "      <td>1</td>\n",
       "    </tr>\n",
       "  </tbody>\n",
       "</table>\n",
       "<p>49657 rows × 15 columns</p>\n",
       "</div>"
      ],
      "text/plain": [
       "       Bedroom  Bathroom  Servant Quarter  Drawing Room  Dining Room  Kitchen   \n",
       "0          5.0       6.0                1             1            1      2.0  \\\n",
       "1          8.0       2.0                2             1            1      2.0   \n",
       "2          5.0       5.0                1             1            1      2.0   \n",
       "3          5.0       5.0                1             1            1      2.0   \n",
       "4          5.0       6.0                1             1            1      2.0   \n",
       "...        ...       ...              ...           ...          ...      ...   \n",
       "50714      1.0       1.0                0             1            1      2.0   \n",
       "50715      4.0       5.0                0             1            1      2.0   \n",
       "50716      1.0       1.0                0             1            1      1.0   \n",
       "50717      1.0       1.0                0             1            1      1.0   \n",
       "50718      1.0       1.0                0             1            1      1.0   \n",
       "\n",
       "       Study Room  Prayer Room  Powder Room  Gym  Store Room  Steam Room   \n",
       "0               1            1            1    1           1           1  \\\n",
       "1               1            1            1    1           1           1   \n",
       "2               1            1            1    1           1           1   \n",
       "3               1            1            1    1           1           1   \n",
       "4               1            1            1    1           1           1   \n",
       "...           ...          ...          ...  ...         ...         ...   \n",
       "50714           1            1            1    1           2           1   \n",
       "50715           1            1            1    1           1           1   \n",
       "50716           1            1            1    1           1           1   \n",
       "50717           1            1            1    1           1           1   \n",
       "50718           1            1            1    1           1           1   \n",
       "\n",
       "       Lounge or Sitting Room  Laundry Room  Other Room  \n",
       "0                           1             1           1  \n",
       "1                           1             1           1  \n",
       "2                           1             1           1  \n",
       "3                           1             1           1  \n",
       "4                           1             1           1  \n",
       "...                       ...           ...         ...  \n",
       "50714                       1             1           1  \n",
       "50715                       1             1           1  \n",
       "50716                       1             1           1  \n",
       "50717                       1             1           1  \n",
       "50718                       1             1           1  \n",
       "\n",
       "[49657 rows x 15 columns]"
      ]
     },
     "execution_count": 268,
     "metadata": {},
     "output_type": "execute_result"
    }
   ],
   "source": [
    "df_clean[new_features]"
   ]
  },
  {
   "cell_type": "markdown",
   "metadata": {},
   "source": [
    "### **Working on Main Features column**"
   ]
  },
  {
   "cell_type": "code",
   "execution_count": 269,
   "metadata": {},
   "outputs": [],
   "source": [
    "# fill all null values with 'Not Available'\n",
    "df_clean['main_features'].fillna(\"Not Available\", inplace=True)"
   ]
  },
  {
   "cell_type": "code",
   "execution_count": 270,
   "metadata": {},
   "outputs": [],
   "source": [
    "df_clean['main_features'] = df_clean['main_features'].str.replace(\"Elevators\", \"E1evators\")\n",
    "df_clean['main_features'] = df_clean['main_features'].str.replace(\"Service E1evators in Building\",\n",
    "                                                                        \"Service E2evators in Building\")"
   ]
  },
  {
   "cell_type": "code",
   "execution_count": 271,
   "metadata": {},
   "outputs": [],
   "source": [
    "new_features = ['Built in year', 'Parking Spaces', 'Double Glazed Windows', 'Central Air Conditioning', \n",
    "                'Lobby in Building', 'Central Heating', 'Flooring', 'Electricity Backup', 'Waste Disposal', \n",
    "                'Floor:', 'Floors:', 'Floors in Building', 'E1evators', 'Service E2evators in Building', \n",
    "                'Other Main Features', 'Furnished']"
   ]
  },
  {
   "cell_type": "code",
   "execution_count": 272,
   "metadata": {},
   "outputs": [],
   "source": [
    "def str2list(row):\n",
    "    row_list = row.replace(\"[\", \"\").replace(\"]\", \"\").replace('\\'', '').split(\",\")\n",
    "    new_list = []\n",
    "    for new_feature in new_features:\n",
    "        isDone = False\n",
    "        for room in row_list:\n",
    "            if (room.__contains__(new_feature)):\n",
    "                # return room.split(\" \")[-1].strip()\n",
    "                if room.strip() not in new_list:\n",
    "                    new_list.append(room.strip())\n",
    "                isDone = True\n",
    "        if isDone == False:\n",
    "            new_list.append(\"-\")\n",
    "    return new_list"
   ]
  },
  {
   "cell_type": "code",
   "execution_count": 273,
   "metadata": {},
   "outputs": [
    {
     "data": {
      "text/plain": [
       "0        [Built in year: 2023, Parking Spaces: 2, Doubl...\n",
       "1        [Built in year: 2023, Parking Spaces: 2, Doubl...\n",
       "2        [Built in year: 2023, Parking Spaces: 3, Doubl...\n",
       "3        [-, Parking Spaces: 00, Double Glazed Windows,...\n",
       "4        [Built in year: 2023, Parking Spaces: 4, -, -,...\n",
       "                               ...                        \n",
       "50714    [Built in year: 2020, Parking Spaces, Double G...\n",
       "50715    [Built in year: 2020, Parking Spaces: 3, -, -,...\n",
       "50716     [-, -, -, -, -, -, -, -, -, -, -, -, -, -, -, -]\n",
       "50717     [-, -, -, -, -, -, -, -, -, -, -, -, -, -, -, -]\n",
       "50718     [-, -, -, -, -, -, -, -, -, -, -, -, -, -, -, -]\n",
       "Name: main_features, Length: 49657, dtype: object"
      ]
     },
     "execution_count": 273,
     "metadata": {},
     "output_type": "execute_result"
    }
   ],
   "source": [
    "temp = df_clean[\"main_features\"].apply(str2list)\n",
    "temp"
   ]
  },
  {
   "cell_type": "code",
   "execution_count": 274,
   "metadata": {},
   "outputs": [],
   "source": [
    "df_clean[new_features] = None\n",
    "for idx in df_clean.index.tolist():\n",
    "    df_clean.loc[idx, new_features] = temp[idx]"
   ]
  },
  {
   "cell_type": "code",
   "execution_count": 275,
   "metadata": {},
   "outputs": [],
   "source": [
    "df_clean.loc[df_clean['bedrooms'] == '-', \"bedrooms\"] = df_clean.loc[df_clean['bedrooms'] == '-', \"Bedroom\"]\n",
    "df_clean.loc[df_clean['baths'] == '-', \"baths\"] = df_clean.loc[df_clean['baths'] == '-', \"Bathroom\"]\n",
    "df_clean['baths'] = df_clean['baths'].astype('float')\n",
    "df_clean['bedrooms'] = df_clean['bedrooms'].astype('float')"
   ]
  },
  {
   "cell_type": "code",
   "execution_count": 276,
   "metadata": {},
   "outputs": [
    {
     "name": "stdout",
     "output_type": "stream",
     "text": [
      "<class 'pandas.core.frame.DataFrame'>\n",
      "Index: 49657 entries, 0 to 50718\n",
      "Data columns (total 55 columns):\n",
      " #   Column                         Non-Null Count  Dtype  \n",
      "---  ------                         --------------  -----  \n",
      " 0   url                            49657 non-null  object \n",
      " 1   property_name                  49657 non-null  object \n",
      " 2   type                           49657 non-null  object \n",
      " 3   price                          49657 non-null  object \n",
      " 4   location                       49657 non-null  object \n",
      " 5   baths                          49657 non-null  float64\n",
      " 6   area                           49657 non-null  object \n",
      " 7   purpose                        49657 non-null  object \n",
      " 8   bedrooms                       49657 non-null  float64\n",
      " 9   added                          49657 non-null  object \n",
      " 10  description                    49657 non-null  object \n",
      " 11  main_features                  49657 non-null  object \n",
      " 12  rooms                          49657 non-null  object \n",
      " 13  city                           49657 non-null  object \n",
      " 14  province                       49657 non-null  object \n",
      " 15  town                           49657 non-null  object \n",
      " 16  price_unit                     49657 non-null  object \n",
      " 17  added_time                     49657 non-null  object \n",
      " 18  added_time_unit                49657 non-null  object \n",
      " 19  property_name_area_loc         49657 non-null  object \n",
      " 20  area_from_property_name        49657 non-null  object \n",
      " 21  area_from_description          49657 non-null  object \n",
      " 22  area_unit                      49657 non-null  object \n",
      " 23  area(sqr feet)                 49657 non-null  float64\n",
      " 24  Bedroom                        49657 non-null  float64\n",
      " 25  Bathroom                       49657 non-null  float64\n",
      " 26  Servant Quarter                49657 non-null  int64  \n",
      " 27  Drawing Room                   49657 non-null  int64  \n",
      " 28  Dining Room                    49657 non-null  int64  \n",
      " 29  Kitchen                        49657 non-null  float64\n",
      " 30  Study Room                     49657 non-null  int64  \n",
      " 31  Prayer Room                    49657 non-null  int64  \n",
      " 32  Powder Room                    49657 non-null  int64  \n",
      " 33  Gym                            49657 non-null  int64  \n",
      " 34  Store Room                     49657 non-null  int64  \n",
      " 35  Steam Room                     49657 non-null  int64  \n",
      " 36  Lounge or Sitting Room         49657 non-null  int64  \n",
      " 37  Laundry Room                   49657 non-null  int64  \n",
      " 38  Other Room                     49657 non-null  int64  \n",
      " 39  Built in year                  49657 non-null  object \n",
      " 40  Parking Spaces                 49657 non-null  object \n",
      " 41  Double Glazed Windows          49657 non-null  object \n",
      " 42  Central Air Conditioning       49657 non-null  object \n",
      " 43  Lobby in Building              49657 non-null  object \n",
      " 44  Central Heating                49657 non-null  object \n",
      " 45  Flooring                       49657 non-null  object \n",
      " 46  Electricity Backup             49657 non-null  object \n",
      " 47  Waste Disposal                 49657 non-null  object \n",
      " 48  Floor:                         49657 non-null  object \n",
      " 49  Floors:                        49657 non-null  object \n",
      " 50  Floors in Building             49657 non-null  object \n",
      " 51  E1evators                      49657 non-null  object \n",
      " 52  Service E2evators in Building  49657 non-null  object \n",
      " 53  Other Main Features            49657 non-null  object \n",
      " 54  Furnished                      49657 non-null  object \n",
      "dtypes: float64(6), int64(12), object(37)\n",
      "memory usage: 22.2+ MB\n"
     ]
    }
   ],
   "source": [
    "df_clean.info()"
   ]
  },
  {
   "cell_type": "code",
   "execution_count": 277,
   "metadata": {},
   "outputs": [],
   "source": [
    "df_clean['baths'] = df_clean['baths'].astype(int)\n",
    "df_clean['bedrooms'] = df_clean['bedrooms'].astype(int)\n",
    "df_clean['added_time'] = df_clean['added_time'].astype(float)\n",
    "df_clean['price'] = df_clean['price'].astype(float)\n",
    "df_clean['area(sqr feet)'] = df_clean['area(sqr feet)'].astype(float)\n"
   ]
  },
  {
   "cell_type": "code",
   "execution_count": 278,
   "metadata": {},
   "outputs": [
    {
     "data": {
      "text/plain": [
       "(49657, 55)"
      ]
     },
     "execution_count": 278,
     "metadata": {},
     "output_type": "execute_result"
    }
   ],
   "source": [
    "# shape of data after cleaning\n",
    "df_clean.shape"
   ]
  },
  {
   "cell_type": "code",
   "execution_count": 279,
   "metadata": {},
   "outputs": [],
   "source": [
    "# only those houses which were added before 2.5 years\n",
    "df_clean = df_clean[df_clean['added_time'] < 365*2.5]"
   ]
  },
  {
   "cell_type": "code",
   "execution_count": 280,
   "metadata": {},
   "outputs": [],
   "source": [
    "# cols which contain '-'\n",
    "def contains_(col):\n",
    "    return col == \"-\""
   ]
  },
  {
   "cell_type": "code",
   "execution_count": 281,
   "metadata": {},
   "outputs": [
    {
     "data": {
      "text/plain": [
       "url                              0.000000\n",
       "property_name                    0.000069\n",
       "type                             0.000000\n",
       "price                            0.000000\n",
       "location                         0.000000\n",
       "baths                            0.000000\n",
       "area                             0.000000\n",
       "purpose                          0.000000\n",
       "bedrooms                         0.000000\n",
       "added                            0.000000\n",
       "description                      0.000000\n",
       "main_features                    0.000000\n",
       "rooms                            0.000000\n",
       "city                             0.000000\n",
       "province                         0.000000\n",
       "town                             0.000000\n",
       "price_unit                       0.000000\n",
       "added_time                       0.000000\n",
       "added_time_unit                  0.000000\n",
       "property_name_area_loc           0.000000\n",
       "area_from_property_name          0.325625\n",
       "area_from_description            0.381390\n",
       "area_unit                        0.000000\n",
       "area(sqr feet)                   0.000000\n",
       "Bedroom                          0.000000\n",
       "Bathroom                         0.000000\n",
       "Servant Quarter                  0.000000\n",
       "Drawing Room                     0.000000\n",
       "Dining Room                      0.000000\n",
       "Kitchen                          0.000000\n",
       "Study Room                       0.000000\n",
       "Prayer Room                      0.000000\n",
       "Powder Room                      0.000000\n",
       "Gym                              0.000000\n",
       "Store Room                       0.000000\n",
       "Steam Room                       0.000000\n",
       "Lounge or Sitting Room           0.000000\n",
       "Laundry Room                     0.000000\n",
       "Other Room                       0.000000\n",
       "Built in year                    0.532999\n",
       "Parking Spaces                   0.478736\n",
       "Double Glazed Windows            0.643859\n",
       "Central Air Conditioning         0.710296\n",
       "Lobby in Building                0.986532\n",
       "Central Heating                  0.723879\n",
       "Flooring                         0.389522\n",
       "Electricity Backup               0.487560\n",
       "Waste Disposal                   0.632909\n",
       "Floor:                           0.992146\n",
       "Floors:                          0.697591\n",
       "Floors in Building               0.986186\n",
       "E1evators                        0.987225\n",
       "Service E2evators in Building    0.986925\n",
       "Other Main Features              0.672942\n",
       "Furnished                        0.877452\n",
       "dtype: float64"
      ]
     },
     "execution_count": 281,
     "metadata": {},
     "output_type": "execute_result"
    }
   ],
   "source": [
    "df_clean.apply(contains_).sum() / df_clean.shape[0]"
   ]
  },
  {
   "cell_type": "code",
   "execution_count": 282,
   "metadata": {},
   "outputs": [],
   "source": [
    "# retaining necessary cols\n",
    "necessary_cols = [\"price\", \"baths\", \"area(sqr feet)\", \"bedrooms\", \"city\", \"province\", \"town\"]\n",
    "df_clean = df_clean.loc[:, necessary_cols]"
   ]
  },
  {
   "cell_type": "code",
   "execution_count": 283,
   "metadata": {},
   "outputs": [],
   "source": [
    "row_to_be_removed = df_clean[df_clean['baths'] == 0].index\n",
    "df_clean.drop(index=row_to_be_removed, inplace=True)\n",
    "\n",
    "row_to_be_removed = df_clean[df_clean['area(sqr feet)'] < 225].index\n",
    "df_clean.drop(index=row_to_be_removed, inplace=True)\n",
    "\n",
    "row_to_be_removed = df_clean[df_clean['bedrooms'] == 0].index\n",
    "df_clean.drop(index=row_to_be_removed, inplace=True)"
   ]
  },
  {
   "cell_type": "code",
   "execution_count": 284,
   "metadata": {},
   "outputs": [
    {
     "data": {
      "text/html": [
       "<div>\n",
       "<style scoped>\n",
       "    .dataframe tbody tr th:only-of-type {\n",
       "        vertical-align: middle;\n",
       "    }\n",
       "\n",
       "    .dataframe tbody tr th {\n",
       "        vertical-align: top;\n",
       "    }\n",
       "\n",
       "    .dataframe thead th {\n",
       "        text-align: right;\n",
       "    }\n",
       "</style>\n",
       "<table border=\"1\" class=\"dataframe\">\n",
       "  <thead>\n",
       "    <tr style=\"text-align: right;\">\n",
       "      <th></th>\n",
       "      <th>price</th>\n",
       "      <th>baths</th>\n",
       "      <th>area(sqr feet)</th>\n",
       "      <th>bedrooms</th>\n",
       "    </tr>\n",
       "  </thead>\n",
       "  <tbody>\n",
       "    <tr>\n",
       "      <th>count</th>\n",
       "      <td>4.319200e+04</td>\n",
       "      <td>43192.000000</td>\n",
       "      <td>4.319200e+04</td>\n",
       "      <td>43192.000000</td>\n",
       "    </tr>\n",
       "    <tr>\n",
       "      <th>mean</th>\n",
       "      <td>5.555943e+07</td>\n",
       "      <td>4.547115</td>\n",
       "      <td>2.744098e+03</td>\n",
       "      <td>4.277737</td>\n",
       "    </tr>\n",
       "    <tr>\n",
       "      <th>std</th>\n",
       "      <td>1.149833e+08</td>\n",
       "      <td>1.647983</td>\n",
       "      <td>8.579534e+03</td>\n",
       "      <td>1.642833</td>\n",
       "    </tr>\n",
       "    <tr>\n",
       "      <th>min</th>\n",
       "      <td>1.230000e+03</td>\n",
       "      <td>1.000000</td>\n",
       "      <td>2.250000e+02</td>\n",
       "      <td>1.000000</td>\n",
       "    </tr>\n",
       "    <tr>\n",
       "      <th>25%</th>\n",
       "      <td>1.500000e+07</td>\n",
       "      <td>4.000000</td>\n",
       "      <td>1.125000e+03</td>\n",
       "      <td>3.000000</td>\n",
       "    </tr>\n",
       "    <tr>\n",
       "      <th>50%</th>\n",
       "      <td>2.900000e+07</td>\n",
       "      <td>5.000000</td>\n",
       "      <td>1.800000e+03</td>\n",
       "      <td>4.000000</td>\n",
       "    </tr>\n",
       "    <tr>\n",
       "      <th>75%</th>\n",
       "      <td>5.900000e+07</td>\n",
       "      <td>6.000000</td>\n",
       "      <td>3.195000e+03</td>\n",
       "      <td>5.000000</td>\n",
       "    </tr>\n",
       "    <tr>\n",
       "      <th>max</th>\n",
       "      <td>8.500000e+09</td>\n",
       "      <td>30.000000</td>\n",
       "      <td>1.001250e+06</td>\n",
       "      <td>15.000000</td>\n",
       "    </tr>\n",
       "  </tbody>\n",
       "</table>\n",
       "</div>"
      ],
      "text/plain": [
       "              price         baths  area(sqr feet)      bedrooms\n",
       "count  4.319200e+04  43192.000000    4.319200e+04  43192.000000\n",
       "mean   5.555943e+07      4.547115    2.744098e+03      4.277737\n",
       "std    1.149833e+08      1.647983    8.579534e+03      1.642833\n",
       "min    1.230000e+03      1.000000    2.250000e+02      1.000000\n",
       "25%    1.500000e+07      4.000000    1.125000e+03      3.000000\n",
       "50%    2.900000e+07      5.000000    1.800000e+03      4.000000\n",
       "75%    5.900000e+07      6.000000    3.195000e+03      5.000000\n",
       "max    8.500000e+09     30.000000    1.001250e+06     15.000000"
      ]
     },
     "execution_count": 284,
     "metadata": {},
     "output_type": "execute_result"
    }
   ],
   "source": [
    "df_clean.describe()"
   ]
  },
  {
   "cell_type": "markdown",
   "metadata": {},
   "source": [
    "## **Outlier Detection and Removal**"
   ]
  },
  {
   "cell_type": "code",
   "execution_count": 285,
   "metadata": {},
   "outputs": [],
   "source": [
    "def remove_outlier(col:str, k=1.5):\n",
    "    q1 = np.percentile(df_clean[col], 25)\n",
    "    q3 = np.percentile(df_clean[col], 75)\n",
    "    iqr = q3 - q1\n",
    "    lower = q1-(k*iqr)\n",
    "    upper = q3+(k*iqr)\n",
    "    print(f\"\"\"\n",
    "            {col},\n",
    "            Lower: {lower},\n",
    "            Upper: {upper}\n",
    "        \"\"\")"
   ]
  },
  {
   "cell_type": "code",
   "execution_count": 286,
   "metadata": {},
   "outputs": [
    {
     "name": "stdout",
     "output_type": "stream",
     "text": [
      "\n",
      "            price,\n",
      "            Lower: -51000000.0,\n",
      "            Upper: 125000000.0\n",
      "        \n",
      "\n",
      "            baths,\n",
      "            Lower: 1.0,\n",
      "            Upper: 9.0\n",
      "        \n",
      "\n",
      "            area(sqr feet),\n",
      "            Lower: -1980.0,\n",
      "            Upper: 6300.0\n",
      "        \n",
      "\n",
      "            bedrooms,\n",
      "            Lower: 0.0,\n",
      "            Upper: 8.0\n",
      "        \n"
     ]
    }
   ],
   "source": [
    "remove_outlier('price', 1.5)\n",
    "remove_outlier('baths', 1.5)\n",
    "remove_outlier('area(sqr feet)', 1.5)\n",
    "remove_outlier('bedrooms', 1.5)"
   ]
  },
  {
   "cell_type": "code",
   "execution_count": 287,
   "metadata": {},
   "outputs": [
    {
     "data": {
      "text/plain": [
       "(43192, 7)"
      ]
     },
     "execution_count": 287,
     "metadata": {},
     "output_type": "execute_result"
    }
   ],
   "source": [
    "# shape before removing outliers\n",
    "df_clean.shape"
   ]
  },
  {
   "cell_type": "code",
   "execution_count": 288,
   "metadata": {},
   "outputs": [],
   "source": [
    "df_clean = df_clean[df_clean['price'] <= 125000000.0]\n",
    "df_clean = df_clean[df_clean['baths'] <= 9.0]\n",
    "df_clean = df_clean[df_clean['bedrooms'] <= 8.0]\n",
    "df_clean = df_clean[df_clean['area(sqr feet)'] <= 6300.0]"
   ]
  },
  {
   "cell_type": "code",
   "execution_count": 289,
   "metadata": {},
   "outputs": [
    {
     "data": {
      "text/plain": [
       "(39330, 7)"
      ]
     },
     "execution_count": 289,
     "metadata": {},
     "output_type": "execute_result"
    }
   ],
   "source": [
    "# shape after removing outliers\n",
    "df_clean.shape"
   ]
  },
  {
   "cell_type": "code",
   "execution_count": 290,
   "metadata": {},
   "outputs": [
    {
     "data": {
      "text/plain": [
       "Index(['price', 'baths', 'area(sqr feet)', 'bedrooms'], dtype='object')"
      ]
     },
     "execution_count": 290,
     "metadata": {},
     "output_type": "execute_result"
    }
   ],
   "source": [
    "df_clean.columns[:4]"
   ]
  },
  {
   "cell_type": "code",
   "execution_count": 291,
   "metadata": {},
   "outputs": [],
   "source": [
    "from scipy.stats import shapiro, anderson, kstest, normaltest\n",
    "import matplotlib.pyplot as plt"
   ]
  },
  {
   "cell_type": "code",
   "execution_count": 292,
   "metadata": {},
   "outputs": [
    {
     "name": "stdout",
     "output_type": "stream",
     "text": [
      "Col: Price\n",
      "Shapiro-Wilk Test:\n",
      "Statistic: 0.8721656203269958\n",
      "P-value: 0.0\n",
      "Data does not look normally distributed (reject H0)\n",
      "\n",
      "Kolmogorov-Smirnov Test:\n",
      "Statistic: 1.0\n",
      "P-value: 0.0\n",
      "Data does not look normally distributed (reject H0)\n",
      "\n",
      "D'Agostino's K-squared Test:\n",
      "Statistic: 6615.783446533887\n",
      "P-value: 0.0\n",
      "Data does not look normally distributed (reject H0)\n"
     ]
    },
    {
     "name": "stderr",
     "output_type": "stream",
     "text": [
      "C:\\Users\\talha\\AppData\\Roaming\\Python\\Python311\\site-packages\\scipy\\stats\\_morestats.py:1882: UserWarning: p-value may not be accurate for N > 5000.\n",
      "  warnings.warn(\"p-value may not be accurate for N > 5000.\")\n"
     ]
    },
    {
     "data": {
      "image/png": "[encoded data removed]",
      "text/plain": [
       "<Figure size 640x480 with 1 Axes>"
      ]
     },
     "metadata": {},
     "output_type": "display_data"
    },
    {
     "name": "stdout",
     "output_type": "stream",
     "text": [
      "Col: Baths\n",
      "Shapiro-Wilk Test:\n",
      "Statistic: 0.8917292356491089\n",
      "P-value: 0.0\n",
      "Data does not look normally distributed (reject H0)\n",
      "\n",
      "Kolmogorov-Smirnov Test:\n",
      "Statistic: 0.9040233234293952\n",
      "P-value: 0.0\n",
      "Data does not look normally distributed (reject H0)\n",
      "\n",
      "D'Agostino's K-squared Test:\n",
      "Statistic: 2541.8524334218823\n",
      "P-value: 0.0\n",
      "Data does not look normally distributed (reject H0)\n"
     ]
    },
    {
     "data": {
      "image/png": "[encoded data removed]",
      "text/plain": [
       "<Figure size 640x480 with 1 Axes>"
      ]
     },
     "metadata": {},
     "output_type": "display_data"
    },
    {
     "name": "stdout",
     "output_type": "stream",
     "text": [
      "Col: Area(sqr feet)\n",
      "Shapiro-Wilk Test:\n",
      "Statistic: 0.8374937176704407\n",
      "P-value: 0.0\n",
      "Data does not look normally distributed (reject H0)\n",
      "\n",
      "Kolmogorov-Smirnov Test:\n",
      "Statistic: 1.0\n",
      "P-value: 0.0\n",
      "Data does not look normally distributed (reject H0)\n",
      "\n",
      "D'Agostino's K-squared Test:\n",
      "Statistic: 4603.172050606492\n",
      "P-value: 0.0\n",
      "Data does not look normally distributed (reject H0)\n"
     ]
    },
    {
     "data": {
      "image/png": "[encoded data removed]",
      "text/plain": [
       "<Figure size 640x480 with 1 Axes>"
      ]
     },
     "metadata": {},
     "output_type": "display_data"
    },
    {
     "name": "stdout",
     "output_type": "stream",
     "text": [
      "Col: Bedrooms\n",
      "Shapiro-Wilk Test:\n",
      "Statistic: 0.9443007111549377\n",
      "P-value: 0.0\n",
      "Data does not look normally distributed (reject H0)\n",
      "\n",
      "Kolmogorov-Smirnov Test:\n",
      "Statistic: 0.913608881527539\n",
      "P-value: 0.0\n",
      "Data does not look normally distributed (reject H0)\n",
      "\n",
      "D'Agostino's K-squared Test:\n",
      "Statistic: 334.08780297287416\n",
      "P-value: 2.842859188160318e-73\n",
      "Data does not look normally distributed (reject H0)\n"
     ]
    },
    {
     "data": {
      "image/png": "[encoded data removed]",
      "text/plain": [
       "<Figure size 640x480 with 1 Axes>"
      ]
     },
     "metadata": {},
     "output_type": "display_data"
    }
   ],
   "source": [
    "for col in df_clean.columns[:4]:\n",
    "    print(f\"Col: {col.capitalize()}\")\n",
    "    test_name = [\"Shapiro-Wilk\", \"Kolmogorov-Smirnov\", \"D'Agostino's K-squared\"]\n",
    "    test_p = []\n",
    "    test_statistics = []\n",
    "\n",
    "    # Generate some example data\n",
    "    np.random.seed(42)\n",
    "\n",
    "    data = df_clean[col]\n",
    "\n",
    "\n",
    "    # Shapiro-Wilk Test\n",
    "    stat_shapiro, p_shapiro = shapiro(data)\n",
    "    test_p.append(p_shapiro)\n",
    "    test_statistics.append(stat_shapiro)\n",
    "    print(f'Shapiro-Wilk Test:\\nStatistic: {stat_shapiro}\\nP-value: {p_shapiro}')\n",
    "    if p_shapiro > 0.05:\n",
    "        print('Data looks normally distributed (fail to reject H0)')\n",
    "    else:\n",
    "        print('Data does not look normally distributed (reject H0)')\n",
    "\n",
    "    # Kolmogorov-Smirnov Test\n",
    "    stat_kstest, p_kstest = kstest(data, 'norm')\n",
    "    test_p.append(p_kstest)\n",
    "    test_statistics.append(stat_kstest)\n",
    "    print(f'\\nKolmogorov-Smirnov Test:\\nStatistic: {stat_kstest}\\nP-value: {p_kstest}')\n",
    "    if p_kstest > 0.05:\n",
    "        print('Data looks normally distributed (fail to reject H0)')\n",
    "    else:\n",
    "        print('Data does not look normally distributed (reject H0)')\n",
    "\n",
    "    # D'Agostino's K-squared Test\n",
    "    stat_k2, p_k2 = normaltest(data)\n",
    "    test_p.append(p_k2)\n",
    "    test_statistics.append(stat_k2)\n",
    "    print(f'\\nD\\'Agostino\\'s K-squared Test:\\nStatistic: {stat_k2}\\nP-value: {p_k2}')\n",
    "    if p_k2 > 0.05:\n",
    "        print('Data looks normally distributed (fail to reject H0)')\n",
    "    else:\n",
    "        print('Data does not look normally distributed (reject H0)')\n",
    "\n",
    "    # Plot a histogram for visual inspection\n",
    "    plt.hist(data, bins='auto', density=True, alpha=0.7, color='g')\n",
    "    plt.title('Histogram of the Data')\n",
    "    plt.xlabel('Value')\n",
    "    plt.ylabel('Frequency')\n",
    "    plt.show()\n"
   ]
  },
  {
   "cell_type": "markdown",
   "metadata": {},
   "source": [
    "## **Applying One Hot Encoding**"
   ]
  },
  {
   "cell_type": "code",
   "execution_count": 293,
   "metadata": {},
   "outputs": [],
   "source": [
    "one_hot_encoded = pd.get_dummies(df_clean[['city', 'province', 'town']],\n",
    "                                    prefix=['city', 'province', 'town'])\n",
    "one_hot_encoded = one_hot_encoded.astype(int)\n",
    "df_clean = pd.concat([df_clean[['price', 'baths', 'bedrooms', 'area(sqr feet)']], one_hot_encoded], axis=1)"
   ]
  },
  {
   "cell_type": "markdown",
   "metadata": {},
   "source": [
    "## **Applying Log Transformation**"
   ]
  },
  {
   "cell_type": "code",
   "execution_count": 294,
   "metadata": {},
   "outputs": [],
   "source": [
    "for col in ['baths', 'bedrooms', 'area(sqr feet)', 'price']:\n",
    "    df_clean[col] = np.log(df_clean[col])"
   ]
  },
  {
   "cell_type": "markdown",
   "metadata": {},
   "source": [
    "## **Analysis**"
   ]
  },
  {
   "cell_type": "code",
   "execution_count": 296,
   "metadata": {},
   "outputs": [
    {
     "data": {
      "image/png": "[encoded data removed]",
      "text/plain": [
       "<Figure size 1000x1000 with 20 Axes>"
      ]
     },
     "metadata": {},
     "output_type": "display_data"
    }
   ],
   "source": [
    "# pairwise plot\n",
    "sns.pairplot(df_clean, vars=['area(sqr feet)', 'bedrooms', 'baths', 'price'])\n",
    "plt.show()"
   ]
  },
  {
   "cell_type": "code",
   "execution_count": 297,
   "metadata": {},
   "outputs": [
    {
     "data": {
      "image/png": "[encoded data removed]",
      "text/plain": [
       "<Figure size 1200x400 with 3 Axes>"
      ]
     },
     "metadata": {},
     "output_type": "display_data"
    }
   ],
   "source": [
    "plt.figure(figsize=(12, 4))\n",
    "plt.subplot(1, 3, 1)\n",
    "sns.histplot(df_clean['area(sqr feet)'], kde=True)\n",
    "plt.subplot(1, 3, 2)\n",
    "sns.histplot(df_clean['bedrooms'], kde=True)\n",
    "plt.subplot(1, 3, 3)\n",
    "sns.histplot(df_clean['baths'], kde=True)\n",
    "plt.tight_layout()\n",
    "plt.show()"
   ]
  },
  {
   "cell_type": "code",
   "execution_count": 298,
   "metadata": {},
   "outputs": [
    {
     "data": {
      "image/png": "[encoded data removed]",
      "text/plain": [
       "<Figure size 1000x800 with 1 Axes>"
      ]
     },
     "metadata": {},
     "output_type": "display_data"
    }
   ],
   "source": [
    "from mpl_toolkits.mplot3d import Axes3D\n",
    "fig = plt.figure(figsize=(10, 8))\n",
    "ax = fig.add_subplot(111, projection='3d')\n",
    "ax.scatter(df_clean['area(sqr feet)'], df_clean['bedrooms'], df_clean['baths'], c=df_clean['price'], cmap='viridis')\n",
    "ax.set_xlabel('Area')\n",
    "ax.set_ylabel('Bedrooms')\n",
    "ax.set_zlabel('Bathrooms')\n",
    "plt.show()"
   ]
  },
  {
   "cell_type": "code",
   "execution_count": 399,
   "metadata": {},
   "outputs": [
    {
     "data": {
      "text/plain": [
       "<Axes: >"
      ]
     },
     "execution_count": 399,
     "metadata": {},
     "output_type": "execute_result"
    },
    {
     "data": {
      "image/png": "[encoded data removed]",
      "text/plain": [
       "<Figure size 640x480 with 2 Axes>"
      ]
     },
     "metadata": {},
     "output_type": "display_data"
    }
   ],
   "source": [
    "# correlation analysis\n",
    "\n",
    "corr = df_clean[['price', 'baths', 'bedrooms', 'area(sqr feet)']].corr('spearman')\n",
    "sns.heatmap(corr)"
   ]
  },
  {
   "cell_type": "code",
   "execution_count": null,
   "metadata": {},
   "outputs": [],
   "source": [
    "# save cleaned data frame.\n",
    "df_clean.to_csv(\"House_Buy_cleaned.csv\", index=False)\n",
    "df_clean.to_excel(\"House_Buy_cleaned.xlsx\", index=False)"
   ]
  }
 ],
 "metadata": {
  "kernelspec": {
   "display_name": "mypython",
   "language": "python",
   "name": "python3"
  },
  "language_info": {
   "codemirror_mode": {
    "name": "ipython",
    "version": 3
   },
   "file_extension": ".py",
   "mimetype": "text/x-python",
   "name": "python",
   "nbconvert_exporter": "python",
   "pygments_lexer": "ipython3",
   "version": "3.11.3"
  }
 },
 "nbformat": 4,
 "nbformat_minor": 2
}
