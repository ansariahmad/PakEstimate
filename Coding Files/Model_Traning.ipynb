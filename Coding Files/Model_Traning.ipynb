{
 "cells": [
  {
   "cell_type": "markdown",
   "id": "2787976d",
   "metadata": {},
   "source": [
    "# **PakEstimate 🏠**\n",
    "\n",
    "## _**Name: Ahmad Talha Ansari**_\n",
    "## _**Email: ahmadtalha963@gmail.com**_\n"
   ]
  },
  {
   "cell_type": "markdown",
   "id": "51205946",
   "metadata": {},
   "source": [
    "# **Model Training**"
   ]
  },
  {
   "cell_type": "code",
   "execution_count": 15,
   "id": "26f2f801",
   "metadata": {},
   "outputs": [],
   "source": [
    "import numpy as np\n",
    "import pandas as pd\n",
    "\n",
    "import matplotlib.pyplot as plt\n",
    "import seaborn as sns\n",
    "\n",
    "from sklearn.model_selection import train_test_split\n",
    "from sklearn.linear_model import LinearRegression\n",
    "from sklearn.tree import DecisionTreeRegressor\n",
    "from sklearn.ensemble import RandomForestRegressor\n",
    "from sklearn.metrics import mean_squared_error, mean_absolute_error, r2_score, explained_variance_score"
   ]
  },
  {
   "cell_type": "code",
   "execution_count": 2,
   "id": "c98bcd7c",
   "metadata": {},
   "outputs": [],
   "source": [
    "df_clean = pd.read_csv(\"House_Buy_cleaned.csv\")"
   ]
  },
  {
   "cell_type": "code",
   "execution_count": 8,
   "id": "254aef9c",
   "metadata": {},
   "outputs": [],
   "source": [
    "X = df_clean.drop(['price'], axis=1).values\n",
    "y = df_clean[['price']].values\n",
    "\n",
    "X_train, X_test, y_train, y_test = train_test_split(X, y, random_state=0, test_size=0.2)"
   ]
  },
  {
   "cell_type": "code",
   "execution_count": 10,
   "id": "328d0bd1",
   "metadata": {},
   "outputs": [],
   "source": [
    "def print_metrics(X_test, y_test, model):\n",
    "    y_pred = model.predict(X_test)\n",
    "    \n",
    "    mse = mean_squared_error(y_test, y_pred)\n",
    "    rmse = np.sqrt(mse)\n",
    "    mae = mean_absolute_error(y_test, y_pred)\n",
    "    r2 = r2_score(y_test, y_pred)\n",
    "    explained_var = explained_variance_score(y_test, y_pred)\n",
    "    \n",
    "    # Calculate adjusted R-squared\n",
    "    n = X_test.shape[0]  # number of samples in the test set\n",
    "    p = X_test.shape[1]  # number of features\n",
    "    adj_r2 = 1 - ((1 - r2) * (n - 1) / (n - p - 1))\n",
    "\n",
    "    # Print the results\n",
    "    print(\"Mean Squared Error:\", mse)\n",
    "    print(\"Root Mean Squared Error:\", rmse)\n",
    "    print(\"Mean Absolute Error:\", mae)\n",
    "    print(\"R-squared:\", r2)\n",
    "    print(\"Adjusted R-squared:\", adj_r2)\n",
    "    print(\"Explained Variance Score:\", explained_var)"
   ]
  },
  {
   "cell_type": "markdown",
   "id": "63b37f03",
   "metadata": {},
   "source": [
    "## **Linear Regression**"
   ]
  },
  {
   "cell_type": "code",
   "execution_count": 11,
   "id": "9df77aa2",
   "metadata": {},
   "outputs": [
    {
     "name": "stdout",
     "output_type": "stream",
     "text": [
      "Mean Squared Error: 0.09495250428177507\n",
      "Root Mean Squared Error: 0.3081436422867995\n",
      "Mean Absolute Error: 0.18183470783288852\n",
      "R-squared: 0.8747567366411374\n",
      "Adjusted R-squared: 0.8573265347239863\n",
      "Explained Variance Score: 0.8747967236088772\n"
     ]
    }
   ],
   "source": [
    "lr = LinearRegression().fit(X_train, y_train)\n",
    "print_metrics(X_test, y_test, lr)"
   ]
  },
  {
   "cell_type": "markdown",
   "id": "366eaa45",
   "metadata": {},
   "source": [
    "## **Decision Tree Regressor**"
   ]
  },
  {
   "cell_type": "code",
   "execution_count": 12,
   "id": "768b1471",
   "metadata": {},
   "outputs": [
    {
     "name": "stdout",
     "output_type": "stream",
     "text": [
      "Mean Squared Error: 0.08403761473505737\n",
      "Root Mean Squared Error: 0.2898924192438591\n",
      "Mean Absolute Error: 0.15556546239603405\n",
      "R-squared: 0.8891535805829864\n",
      "Adjusted R-squared: 0.8737269985823582\n",
      "Explained Variance Score: 0.889336647775812\n"
     ]
    }
   ],
   "source": [
    "dt = DecisionTreeRegressor().fit(X_train, y_train)\n",
    "print_metrics(X_test, y_test, dt)"
   ]
  },
  {
   "cell_type": "markdown",
   "id": "95a3cb52",
   "metadata": {},
   "source": [
    "## **Random Forest Regressor**"
   ]
  },
  {
   "cell_type": "code",
   "execution_count": 13,
   "id": "b12c79ba",
   "metadata": {},
   "outputs": [
    {
     "name": "stderr",
     "output_type": "stream",
     "text": [
      "c:\\Users\\ahmad\\anaconda3\\envs\\pak-estimate\\Lib\\site-packages\\sklearn\\base.py:1389: DataConversionWarning: A column-vector y was passed when a 1d array was expected. Please change the shape of y to (n_samples,), for example using ravel().\n",
      "  return fit_method(estimator, *args, **kwargs)\n"
     ]
    },
    {
     "name": "stdout",
     "output_type": "stream",
     "text": [
      "Mean Squared Error: 0.07713240006907292\n",
      "Root Mean Squared Error: 0.27772720440942206\n",
      "Mean Absolute Error: 0.1533989676964301\n",
      "R-squared: 0.8982616249205528\n",
      "Adjusted R-squared: 0.8841026165012619\n",
      "Explained Variance Score: 0.898444888442249\n"
     ]
    }
   ],
   "source": [
    "rf = RandomForestRegressor().fit(X_train, y_train)\n",
    "print_metrics(X_test, y_test, rf)"
   ]
  },
  {
   "cell_type": "markdown",
   "id": "a1ff32c0",
   "metadata": {},
   "source": [
    "## **Explainable AI**"
   ]
  },
  {
   "cell_type": "code",
   "execution_count": 16,
   "id": "eeb7aabd",
   "metadata": {},
   "outputs": [
    {
     "data": {
      "image/png": "[encoded data removed]",
      "text/plain": [
       "<Figure size 640x480 with 4 Axes>"
      ]
     },
     "metadata": {},
     "output_type": "display_data"
    }
   ],
   "source": [
    "from sklearn.inspection import PartialDependenceDisplay\n",
    "disp1 = PartialDependenceDisplay.from_estimator(rf, df_clean[['baths', 'bedrooms', 'area(sqr feet)', 'city_ islamabad']],\n",
    "                                                [0, 1, 2])\n",
    "disp2 = PartialDependenceDisplay.from_estimator(rf, df_clean[['baths', 'bedrooms', 'area(sqr feet)', 'city_ islamabad']], \n",
    "                                                [0, 1, 2], ax=disp1.axes_)\n",
    "\n",
    "plt.show()"
   ]
  },
  {
   "cell_type": "markdown",
   "id": "6339e25a",
   "metadata": {},
   "source": [
    "## Saving Models"
   ]
  },
  {
   "cell_type": "code",
   "execution_count": 17,
   "id": "8ae8dc50",
   "metadata": {},
   "outputs": [],
   "source": [
    "import pickle\n",
    "with open(\"decision_tree.pkl\", \"wb\") as file:\n",
    "    pickle.dump(dt, file)"
   ]
  },
  {
   "cell_type": "code",
   "execution_count": 18,
   "id": "5b4c4d15",
   "metadata": {},
   "outputs": [],
   "source": [
    "with open(\"random_forest.pkl\", \"wb\") as file:\n",
    "    pickle.dump(rf, file)"
   ]
  },
  {
   "cell_type": "code",
   "execution_count": 19,
   "id": "916f9f46",
   "metadata": {},
   "outputs": [],
   "source": [
    "with open(\"linear_regressor.pkl\", \"wb\") as file:\n",
    "    pickle.dump(lr, file)"
   ]
  }
 ],
 "metadata": {
  "kernelspec": {
   "display_name": "pak-estimate",
   "language": "python",
   "name": "python3"
  },
  "language_info": {
   "codemirror_mode": {
    "name": "ipython",
    "version": 3
   },
   "file_extension": ".py",
   "mimetype": "text/x-python",
   "name": "python",
   "nbconvert_exporter": "python",
   "pygments_lexer": "ipython3",
   "version": "3.12.11"
  }
 },
 "nbformat": 4,
 "nbformat_minor": 5
}
